{
  "nbformat": 4,
  "nbformat_minor": 0,
  "metadata": {
    "colab": {
      "provenance": []
    },
    "kernelspec": {
      "display_name": "Python 3",
      "language": "python",
      "name": "python3"
    },
    "language_info": {
      "codemirror_mode": {
        "name": "ipython",
        "version": 3
      },
      "file_extension": ".py",
      "mimetype": "text/x-python",
      "name": "python",
      "nbconvert_exporter": "python",
      "pygments_lexer": "ipython3",
      "version": "3.7.3"
    }
  },
  "cells": [
    {
      "cell_type": "markdown",
      "metadata": {
        "id": "ZPjgxhnnVHQe"
      },
      "source": [
        "# 機械学習の実装 1 （教師あり学習：回帰）\n",
        "本章では、重回帰分析のアルゴリズムを用いて、機械学習を実装していきます。  \n",
        "重回帰分析について理解が不十分な場合は 6 章を参照するようにして下さい。  \n",
        "\n",
        "流れとしては、前章でも扱った Pandas を用いて機械学習で使用できる形にデータ加工する手順を紹介してから、 重回帰分析を用いてモデルの学習まで行います。その後、モデルの予測性能を改善するための様々な手法を紹介します。  \n",
        "\n",
        "本章で特に重要な論点として**過学習**という概念があります。機械学習はコンピュータに**大量のデータから法則性を学習させる**ための手法であることは何度かお伝えしてきましたが、学習に使用したデータに対して過剰に適合してしまうと新たな入力データに対して予測性能がうまく発揮できない現象が起きます。  \n",
        "\n",
        "学習済みモデルが未知のデータに対してどの程度予測がうまく行くのかの性能を**汎化性能**と呼ぶことも覚えておきましょう。  \n",
        "もし、モデルが未知のデータに対してもうまく予測ができているようであれば汎化性能の高いモデルであると呼ぶことができます。   "
      ]
    },
    {
      "cell_type": "markdown",
      "metadata": {
        "id": "RdWFUfCIRVp_"
      },
      "source": [
        "## 本章の構成  \n",
        "- 重回帰分析の実装  \n",
        "- 線形回帰の過学習を抑制する手法  \n",
        "- 相関関係と多重共線性問題  "
      ]
    },
    {
      "cell_type": "markdown",
      "metadata": {
        "id": "-dzZW-HHRVqA"
      },
      "source": [
        "## 重回帰分析の実装\n",
        "\n",
        "機械学習用のパッケージである scikit-learn を用いての重回帰分析の実装を行いましょう。  \n",
        "\n",
        "### モジュールのインポート\n",
        "\n",
        "必要なモジュールをインポートします。"
      ]
    },
    {
      "cell_type": "code",
      "metadata": {
        "id": "Z9xMKhj64eEj"
      },
      "source": [
        "import numpy as np\n",
        "import pandas as pd\n",
        "import matplotlib.pyplot as plt\n",
        "import seaborn as sns"
      ],
      "execution_count": 1,
      "outputs": []
    },
    {
      "cell_type": "markdown",
      "metadata": {
        "id": "P8O3NjlryxyW"
      },
      "source": [
        "### データセットの準備\n",
        "\n",
        "まず、scikit-learn の中にあるデータセットを用いて、重回帰分析の実装を行います。  \n",
        "`sklearn.datasets` モジュール内の `load_boston` メソッドを使用してボストン近郊の住宅データを取り込みます。  \n",
        "\n",
        "Pandas のデータフレーム型で表示したい方は下記の一連のコードを実行することで作成することができます。  "
      ]
    },
    {
      "cell_type": "code",
      "source": [
        "data_url = \"http://lib.stat.cmu.edu/datasets/boston\"\n",
        "raw_df = pd.read_csv(data_url, sep=\"\\s+\", skiprows=22, header=None)\n",
        "x = np.hstack([raw_df.values[::2, :], raw_df.values[1::2, :2]])\n",
        "t = raw_df.values[1::2, 2]\n",
        "columns = ['CRIM','ZN','INDUS','CHAS','NOX','RM','AGE','DIS','RAD','TAX','PTRATIO','B','LSTAT']"
      ],
      "metadata": {
        "id": "lTz3-nNdi5_Z"
      },
      "execution_count": 23,
      "outputs": []
    },
    {
      "cell_type": "markdown",
      "metadata": {
        "id": "mlCYmxnDRVqJ"
      },
      "source": [
        "scikit-learn に用意されているデータセットは NumPy 形式で保存されています。"
      ]
    },
    {
      "cell_type": "code",
      "metadata": {
        "id": "h1i-gnY_RVqK",
        "colab": {
          "base_uri": "https://localhost:8080/"
        },
        "outputId": "9a2e6140-7ecf-4781-8f8b-c918502c226e"
      },
      "source": [
        "x.shape, t.shape"
      ],
      "execution_count": 9,
      "outputs": [
        {
          "output_type": "execute_result",
          "data": {
            "text/plain": [
              "((506, 13), (506,))"
            ]
          },
          "metadata": {},
          "execution_count": 9
        }
      ]
    },
    {
      "cell_type": "markdown",
      "metadata": {
        "id": "ZA0csJEwRVqN"
      },
      "source": [
        "NumPy 形式のデータを Pandas の形式に変換する際には `pd.DataFrame()` を使用します。オプションで列名を指定しています。"
      ]
    },
    {
      "cell_type": "code",
      "metadata": {
        "id": "LmG4XpNSRVqO",
        "colab": {
          "base_uri": "https://localhost:8080/",
          "height": 143
        },
        "outputId": "124bf870-9335-465a-b859-070e88627fd1"
      },
      "source": [
        "df = pd.DataFrame(x, columns=columns)\n",
        "df.head(3)"
      ],
      "execution_count": 10,
      "outputs": [
        {
          "output_type": "execute_result",
          "data": {
            "text/plain": [
              "      CRIM    ZN  INDUS  CHAS    NOX     RM   AGE     DIS  RAD    TAX  \\\n",
              "0  0.00632  18.0   2.31   0.0  0.538  6.575  65.2  4.0900  1.0  296.0   \n",
              "1  0.02731   0.0   7.07   0.0  0.469  6.421  78.9  4.9671  2.0  242.0   \n",
              "2  0.02729   0.0   7.07   0.0  0.469  7.185  61.1  4.9671  2.0  242.0   \n",
              "\n",
              "   PTRATIO       B  LSTAT  \n",
              "0     15.3  396.90   4.98  \n",
              "1     17.8  396.90   9.14  \n",
              "2     17.8  392.83   4.03  "
            ],
            "text/html": [
              "\n",
              "  <div id=\"df-1a6a69a5-3363-42f7-953b-3618f7a649b8\" class=\"colab-df-container\">\n",
              "    <div>\n",
              "<style scoped>\n",
              "    .dataframe tbody tr th:only-of-type {\n",
              "        vertical-align: middle;\n",
              "    }\n",
              "\n",
              "    .dataframe tbody tr th {\n",
              "        vertical-align: top;\n",
              "    }\n",
              "\n",
              "    .dataframe thead th {\n",
              "        text-align: right;\n",
              "    }\n",
              "</style>\n",
              "<table border=\"1\" class=\"dataframe\">\n",
              "  <thead>\n",
              "    <tr style=\"text-align: right;\">\n",
              "      <th></th>\n",
              "      <th>CRIM</th>\n",
              "      <th>ZN</th>\n",
              "      <th>INDUS</th>\n",
              "      <th>CHAS</th>\n",
              "      <th>NOX</th>\n",
              "      <th>RM</th>\n",
              "      <th>AGE</th>\n",
              "      <th>DIS</th>\n",
              "      <th>RAD</th>\n",
              "      <th>TAX</th>\n",
              "      <th>PTRATIO</th>\n",
              "      <th>B</th>\n",
              "      <th>LSTAT</th>\n",
              "    </tr>\n",
              "  </thead>\n",
              "  <tbody>\n",
              "    <tr>\n",
              "      <th>0</th>\n",
              "      <td>0.00632</td>\n",
              "      <td>18.0</td>\n",
              "      <td>2.31</td>\n",
              "      <td>0.0</td>\n",
              "      <td>0.538</td>\n",
              "      <td>6.575</td>\n",
              "      <td>65.2</td>\n",
              "      <td>4.0900</td>\n",
              "      <td>1.0</td>\n",
              "      <td>296.0</td>\n",
              "      <td>15.3</td>\n",
              "      <td>396.90</td>\n",
              "      <td>4.98</td>\n",
              "    </tr>\n",
              "    <tr>\n",
              "      <th>1</th>\n",
              "      <td>0.02731</td>\n",
              "      <td>0.0</td>\n",
              "      <td>7.07</td>\n",
              "      <td>0.0</td>\n",
              "      <td>0.469</td>\n",
              "      <td>6.421</td>\n",
              "      <td>78.9</td>\n",
              "      <td>4.9671</td>\n",
              "      <td>2.0</td>\n",
              "      <td>242.0</td>\n",
              "      <td>17.8</td>\n",
              "      <td>396.90</td>\n",
              "      <td>9.14</td>\n",
              "    </tr>\n",
              "    <tr>\n",
              "      <th>2</th>\n",
              "      <td>0.02729</td>\n",
              "      <td>0.0</td>\n",
              "      <td>7.07</td>\n",
              "      <td>0.0</td>\n",
              "      <td>0.469</td>\n",
              "      <td>7.185</td>\n",
              "      <td>61.1</td>\n",
              "      <td>4.9671</td>\n",
              "      <td>2.0</td>\n",
              "      <td>242.0</td>\n",
              "      <td>17.8</td>\n",
              "      <td>392.83</td>\n",
              "      <td>4.03</td>\n",
              "    </tr>\n",
              "  </tbody>\n",
              "</table>\n",
              "</div>\n",
              "    <div class=\"colab-df-buttons\">\n",
              "\n",
              "  <div class=\"colab-df-container\">\n",
              "    <button class=\"colab-df-convert\" onclick=\"convertToInteractive('df-1a6a69a5-3363-42f7-953b-3618f7a649b8')\"\n",
              "            title=\"Convert this dataframe to an interactive table.\"\n",
              "            style=\"display:none;\">\n",
              "\n",
              "  <svg xmlns=\"http://www.w3.org/2000/svg\" height=\"24px\" viewBox=\"0 -960 960 960\">\n",
              "    <path d=\"M120-120v-720h720v720H120Zm60-500h600v-160H180v160Zm220 220h160v-160H400v160Zm0 220h160v-160H400v160ZM180-400h160v-160H180v160Zm440 0h160v-160H620v160ZM180-180h160v-160H180v160Zm440 0h160v-160H620v160Z\"/>\n",
              "  </svg>\n",
              "    </button>\n",
              "\n",
              "  <style>\n",
              "    .colab-df-container {\n",
              "      display:flex;\n",
              "      gap: 12px;\n",
              "    }\n",
              "\n",
              "    .colab-df-convert {\n",
              "      background-color: #E8F0FE;\n",
              "      border: none;\n",
              "      border-radius: 50%;\n",
              "      cursor: pointer;\n",
              "      display: none;\n",
              "      fill: #1967D2;\n",
              "      height: 32px;\n",
              "      padding: 0 0 0 0;\n",
              "      width: 32px;\n",
              "    }\n",
              "\n",
              "    .colab-df-convert:hover {\n",
              "      background-color: #E2EBFA;\n",
              "      box-shadow: 0px 1px 2px rgba(60, 64, 67, 0.3), 0px 1px 3px 1px rgba(60, 64, 67, 0.15);\n",
              "      fill: #174EA6;\n",
              "    }\n",
              "\n",
              "    .colab-df-buttons div {\n",
              "      margin-bottom: 4px;\n",
              "    }\n",
              "\n",
              "    [theme=dark] .colab-df-convert {\n",
              "      background-color: #3B4455;\n",
              "      fill: #D2E3FC;\n",
              "    }\n",
              "\n",
              "    [theme=dark] .colab-df-convert:hover {\n",
              "      background-color: #434B5C;\n",
              "      box-shadow: 0px 1px 3px 1px rgba(0, 0, 0, 0.15);\n",
              "      filter: drop-shadow(0px 1px 2px rgba(0, 0, 0, 0.3));\n",
              "      fill: #FFFFFF;\n",
              "    }\n",
              "  </style>\n",
              "\n",
              "    <script>\n",
              "      const buttonEl =\n",
              "        document.querySelector('#df-1a6a69a5-3363-42f7-953b-3618f7a649b8 button.colab-df-convert');\n",
              "      buttonEl.style.display =\n",
              "        google.colab.kernel.accessAllowed ? 'block' : 'none';\n",
              "\n",
              "      async function convertToInteractive(key) {\n",
              "        const element = document.querySelector('#df-1a6a69a5-3363-42f7-953b-3618f7a649b8');\n",
              "        const dataTable =\n",
              "          await google.colab.kernel.invokeFunction('convertToInteractive',\n",
              "                                                    [key], {});\n",
              "        if (!dataTable) return;\n",
              "\n",
              "        const docLinkHtml = 'Like what you see? Visit the ' +\n",
              "          '<a target=\"_blank\" href=https://colab.research.google.com/notebooks/data_table.ipynb>data table notebook</a>'\n",
              "          + ' to learn more about interactive tables.';\n",
              "        element.innerHTML = '';\n",
              "        dataTable['output_type'] = 'display_data';\n",
              "        await google.colab.output.renderOutput(dataTable, element);\n",
              "        const docLink = document.createElement('div');\n",
              "        docLink.innerHTML = docLinkHtml;\n",
              "        element.appendChild(docLink);\n",
              "      }\n",
              "    </script>\n",
              "  </div>\n",
              "\n",
              "\n",
              "<div id=\"df-7fd005e4-9422-472a-b974-3f249ea685d8\">\n",
              "  <button class=\"colab-df-quickchart\" onclick=\"quickchart('df-7fd005e4-9422-472a-b974-3f249ea685d8')\"\n",
              "            title=\"Suggest charts.\"\n",
              "            style=\"display:none;\">\n",
              "\n",
              "<svg xmlns=\"http://www.w3.org/2000/svg\" height=\"24px\"viewBox=\"0 0 24 24\"\n",
              "     width=\"24px\">\n",
              "    <g>\n",
              "        <path d=\"M19 3H5c-1.1 0-2 .9-2 2v14c0 1.1.9 2 2 2h14c1.1 0 2-.9 2-2V5c0-1.1-.9-2-2-2zM9 17H7v-7h2v7zm4 0h-2V7h2v10zm4 0h-2v-4h2v4z\"/>\n",
              "    </g>\n",
              "</svg>\n",
              "  </button>\n",
              "\n",
              "<style>\n",
              "  .colab-df-quickchart {\n",
              "      --bg-color: #E8F0FE;\n",
              "      --fill-color: #1967D2;\n",
              "      --hover-bg-color: #E2EBFA;\n",
              "      --hover-fill-color: #174EA6;\n",
              "      --disabled-fill-color: #AAA;\n",
              "      --disabled-bg-color: #DDD;\n",
              "  }\n",
              "\n",
              "  [theme=dark] .colab-df-quickchart {\n",
              "      --bg-color: #3B4455;\n",
              "      --fill-color: #D2E3FC;\n",
              "      --hover-bg-color: #434B5C;\n",
              "      --hover-fill-color: #FFFFFF;\n",
              "      --disabled-bg-color: #3B4455;\n",
              "      --disabled-fill-color: #666;\n",
              "  }\n",
              "\n",
              "  .colab-df-quickchart {\n",
              "    background-color: var(--bg-color);\n",
              "    border: none;\n",
              "    border-radius: 50%;\n",
              "    cursor: pointer;\n",
              "    display: none;\n",
              "    fill: var(--fill-color);\n",
              "    height: 32px;\n",
              "    padding: 0;\n",
              "    width: 32px;\n",
              "  }\n",
              "\n",
              "  .colab-df-quickchart:hover {\n",
              "    background-color: var(--hover-bg-color);\n",
              "    box-shadow: 0 1px 2px rgba(60, 64, 67, 0.3), 0 1px 3px 1px rgba(60, 64, 67, 0.15);\n",
              "    fill: var(--button-hover-fill-color);\n",
              "  }\n",
              "\n",
              "  .colab-df-quickchart-complete:disabled,\n",
              "  .colab-df-quickchart-complete:disabled:hover {\n",
              "    background-color: var(--disabled-bg-color);\n",
              "    fill: var(--disabled-fill-color);\n",
              "    box-shadow: none;\n",
              "  }\n",
              "\n",
              "  .colab-df-spinner {\n",
              "    border: 2px solid var(--fill-color);\n",
              "    border-color: transparent;\n",
              "    border-bottom-color: var(--fill-color);\n",
              "    animation:\n",
              "      spin 1s steps(1) infinite;\n",
              "  }\n",
              "\n",
              "  @keyframes spin {\n",
              "    0% {\n",
              "      border-color: transparent;\n",
              "      border-bottom-color: var(--fill-color);\n",
              "      border-left-color: var(--fill-color);\n",
              "    }\n",
              "    20% {\n",
              "      border-color: transparent;\n",
              "      border-left-color: var(--fill-color);\n",
              "      border-top-color: var(--fill-color);\n",
              "    }\n",
              "    30% {\n",
              "      border-color: transparent;\n",
              "      border-left-color: var(--fill-color);\n",
              "      border-top-color: var(--fill-color);\n",
              "      border-right-color: var(--fill-color);\n",
              "    }\n",
              "    40% {\n",
              "      border-color: transparent;\n",
              "      border-right-color: var(--fill-color);\n",
              "      border-top-color: var(--fill-color);\n",
              "    }\n",
              "    60% {\n",
              "      border-color: transparent;\n",
              "      border-right-color: var(--fill-color);\n",
              "    }\n",
              "    80% {\n",
              "      border-color: transparent;\n",
              "      border-right-color: var(--fill-color);\n",
              "      border-bottom-color: var(--fill-color);\n",
              "    }\n",
              "    90% {\n",
              "      border-color: transparent;\n",
              "      border-bottom-color: var(--fill-color);\n",
              "    }\n",
              "  }\n",
              "</style>\n",
              "\n",
              "  <script>\n",
              "    async function quickchart(key) {\n",
              "      const quickchartButtonEl =\n",
              "        document.querySelector('#' + key + ' button');\n",
              "      quickchartButtonEl.disabled = true;  // To prevent multiple clicks.\n",
              "      quickchartButtonEl.classList.add('colab-df-spinner');\n",
              "      try {\n",
              "        const charts = await google.colab.kernel.invokeFunction(\n",
              "            'suggestCharts', [key], {});\n",
              "      } catch (error) {\n",
              "        console.error('Error during call to suggestCharts:', error);\n",
              "      }\n",
              "      quickchartButtonEl.classList.remove('colab-df-spinner');\n",
              "      quickchartButtonEl.classList.add('colab-df-quickchart-complete');\n",
              "    }\n",
              "    (() => {\n",
              "      let quickchartButtonEl =\n",
              "        document.querySelector('#df-7fd005e4-9422-472a-b974-3f249ea685d8 button');\n",
              "      quickchartButtonEl.style.display =\n",
              "        google.colab.kernel.accessAllowed ? 'block' : 'none';\n",
              "    })();\n",
              "  </script>\n",
              "</div>\n",
              "    </div>\n",
              "  </div>\n"
            ]
          },
          "metadata": {},
          "execution_count": 10
        }
      ]
    },
    {
      "cell_type": "markdown",
      "metadata": {
        "id": "W_T7r57oRVqR"
      },
      "source": [
        "データフレームに先程読み込んだ目標値が格納されている変数 `t` を Target という名前で追加します。"
      ]
    },
    {
      "cell_type": "code",
      "metadata": {
        "id": "a_zjyWBcRVqS",
        "colab": {
          "base_uri": "https://localhost:8080/",
          "height": 143
        },
        "outputId": "fd14a6df-8bf4-4fad-fde2-f6c7e4d36292"
      },
      "source": [
        "df['Target'] = t\n",
        "df.head(3)"
      ],
      "execution_count": 11,
      "outputs": [
        {
          "output_type": "execute_result",
          "data": {
            "text/plain": [
              "      CRIM    ZN  INDUS  CHAS    NOX     RM   AGE     DIS  RAD    TAX  \\\n",
              "0  0.00632  18.0   2.31   0.0  0.538  6.575  65.2  4.0900  1.0  296.0   \n",
              "1  0.02731   0.0   7.07   0.0  0.469  6.421  78.9  4.9671  2.0  242.0   \n",
              "2  0.02729   0.0   7.07   0.0  0.469  7.185  61.1  4.9671  2.0  242.0   \n",
              "\n",
              "   PTRATIO       B  LSTAT  Target  \n",
              "0     15.3  396.90   4.98    24.0  \n",
              "1     17.8  396.90   9.14    21.6  \n",
              "2     17.8  392.83   4.03    34.7  "
            ],
            "text/html": [
              "\n",
              "  <div id=\"df-3f39fb3f-1481-487d-93ad-9cf9d3675698\" class=\"colab-df-container\">\n",
              "    <div>\n",
              "<style scoped>\n",
              "    .dataframe tbody tr th:only-of-type {\n",
              "        vertical-align: middle;\n",
              "    }\n",
              "\n",
              "    .dataframe tbody tr th {\n",
              "        vertical-align: top;\n",
              "    }\n",
              "\n",
              "    .dataframe thead th {\n",
              "        text-align: right;\n",
              "    }\n",
              "</style>\n",
              "<table border=\"1\" class=\"dataframe\">\n",
              "  <thead>\n",
              "    <tr style=\"text-align: right;\">\n",
              "      <th></th>\n",
              "      <th>CRIM</th>\n",
              "      <th>ZN</th>\n",
              "      <th>INDUS</th>\n",
              "      <th>CHAS</th>\n",
              "      <th>NOX</th>\n",
              "      <th>RM</th>\n",
              "      <th>AGE</th>\n",
              "      <th>DIS</th>\n",
              "      <th>RAD</th>\n",
              "      <th>TAX</th>\n",
              "      <th>PTRATIO</th>\n",
              "      <th>B</th>\n",
              "      <th>LSTAT</th>\n",
              "      <th>Target</th>\n",
              "    </tr>\n",
              "  </thead>\n",
              "  <tbody>\n",
              "    <tr>\n",
              "      <th>0</th>\n",
              "      <td>0.00632</td>\n",
              "      <td>18.0</td>\n",
              "      <td>2.31</td>\n",
              "      <td>0.0</td>\n",
              "      <td>0.538</td>\n",
              "      <td>6.575</td>\n",
              "      <td>65.2</td>\n",
              "      <td>4.0900</td>\n",
              "      <td>1.0</td>\n",
              "      <td>296.0</td>\n",
              "      <td>15.3</td>\n",
              "      <td>396.90</td>\n",
              "      <td>4.98</td>\n",
              "      <td>24.0</td>\n",
              "    </tr>\n",
              "    <tr>\n",
              "      <th>1</th>\n",
              "      <td>0.02731</td>\n",
              "      <td>0.0</td>\n",
              "      <td>7.07</td>\n",
              "      <td>0.0</td>\n",
              "      <td>0.469</td>\n",
              "      <td>6.421</td>\n",
              "      <td>78.9</td>\n",
              "      <td>4.9671</td>\n",
              "      <td>2.0</td>\n",
              "      <td>242.0</td>\n",
              "      <td>17.8</td>\n",
              "      <td>396.90</td>\n",
              "      <td>9.14</td>\n",
              "      <td>21.6</td>\n",
              "    </tr>\n",
              "    <tr>\n",
              "      <th>2</th>\n",
              "      <td>0.02729</td>\n",
              "      <td>0.0</td>\n",
              "      <td>7.07</td>\n",
              "      <td>0.0</td>\n",
              "      <td>0.469</td>\n",
              "      <td>7.185</td>\n",
              "      <td>61.1</td>\n",
              "      <td>4.9671</td>\n",
              "      <td>2.0</td>\n",
              "      <td>242.0</td>\n",
              "      <td>17.8</td>\n",
              "      <td>392.83</td>\n",
              "      <td>4.03</td>\n",
              "      <td>34.7</td>\n",
              "    </tr>\n",
              "  </tbody>\n",
              "</table>\n",
              "</div>\n",
              "    <div class=\"colab-df-buttons\">\n",
              "\n",
              "  <div class=\"colab-df-container\">\n",
              "    <button class=\"colab-df-convert\" onclick=\"convertToInteractive('df-3f39fb3f-1481-487d-93ad-9cf9d3675698')\"\n",
              "            title=\"Convert this dataframe to an interactive table.\"\n",
              "            style=\"display:none;\">\n",
              "\n",
              "  <svg xmlns=\"http://www.w3.org/2000/svg\" height=\"24px\" viewBox=\"0 -960 960 960\">\n",
              "    <path d=\"M120-120v-720h720v720H120Zm60-500h600v-160H180v160Zm220 220h160v-160H400v160Zm0 220h160v-160H400v160ZM180-400h160v-160H180v160Zm440 0h160v-160H620v160ZM180-180h160v-160H180v160Zm440 0h160v-160H620v160Z\"/>\n",
              "  </svg>\n",
              "    </button>\n",
              "\n",
              "  <style>\n",
              "    .colab-df-container {\n",
              "      display:flex;\n",
              "      gap: 12px;\n",
              "    }\n",
              "\n",
              "    .colab-df-convert {\n",
              "      background-color: #E8F0FE;\n",
              "      border: none;\n",
              "      border-radius: 50%;\n",
              "      cursor: pointer;\n",
              "      display: none;\n",
              "      fill: #1967D2;\n",
              "      height: 32px;\n",
              "      padding: 0 0 0 0;\n",
              "      width: 32px;\n",
              "    }\n",
              "\n",
              "    .colab-df-convert:hover {\n",
              "      background-color: #E2EBFA;\n",
              "      box-shadow: 0px 1px 2px rgba(60, 64, 67, 0.3), 0px 1px 3px 1px rgba(60, 64, 67, 0.15);\n",
              "      fill: #174EA6;\n",
              "    }\n",
              "\n",
              "    .colab-df-buttons div {\n",
              "      margin-bottom: 4px;\n",
              "    }\n",
              "\n",
              "    [theme=dark] .colab-df-convert {\n",
              "      background-color: #3B4455;\n",
              "      fill: #D2E3FC;\n",
              "    }\n",
              "\n",
              "    [theme=dark] .colab-df-convert:hover {\n",
              "      background-color: #434B5C;\n",
              "      box-shadow: 0px 1px 3px 1px rgba(0, 0, 0, 0.15);\n",
              "      filter: drop-shadow(0px 1px 2px rgba(0, 0, 0, 0.3));\n",
              "      fill: #FFFFFF;\n",
              "    }\n",
              "  </style>\n",
              "\n",
              "    <script>\n",
              "      const buttonEl =\n",
              "        document.querySelector('#df-3f39fb3f-1481-487d-93ad-9cf9d3675698 button.colab-df-convert');\n",
              "      buttonEl.style.display =\n",
              "        google.colab.kernel.accessAllowed ? 'block' : 'none';\n",
              "\n",
              "      async function convertToInteractive(key) {\n",
              "        const element = document.querySelector('#df-3f39fb3f-1481-487d-93ad-9cf9d3675698');\n",
              "        const dataTable =\n",
              "          await google.colab.kernel.invokeFunction('convertToInteractive',\n",
              "                                                    [key], {});\n",
              "        if (!dataTable) return;\n",
              "\n",
              "        const docLinkHtml = 'Like what you see? Visit the ' +\n",
              "          '<a target=\"_blank\" href=https://colab.research.google.com/notebooks/data_table.ipynb>data table notebook</a>'\n",
              "          + ' to learn more about interactive tables.';\n",
              "        element.innerHTML = '';\n",
              "        dataTable['output_type'] = 'display_data';\n",
              "        await google.colab.output.renderOutput(dataTable, element);\n",
              "        const docLink = document.createElement('div');\n",
              "        docLink.innerHTML = docLinkHtml;\n",
              "        element.appendChild(docLink);\n",
              "      }\n",
              "    </script>\n",
              "  </div>\n",
              "\n",
              "\n",
              "<div id=\"df-b6f41235-1b3a-4df9-af7d-399a39af3c63\">\n",
              "  <button class=\"colab-df-quickchart\" onclick=\"quickchart('df-b6f41235-1b3a-4df9-af7d-399a39af3c63')\"\n",
              "            title=\"Suggest charts.\"\n",
              "            style=\"display:none;\">\n",
              "\n",
              "<svg xmlns=\"http://www.w3.org/2000/svg\" height=\"24px\"viewBox=\"0 0 24 24\"\n",
              "     width=\"24px\">\n",
              "    <g>\n",
              "        <path d=\"M19 3H5c-1.1 0-2 .9-2 2v14c0 1.1.9 2 2 2h14c1.1 0 2-.9 2-2V5c0-1.1-.9-2-2-2zM9 17H7v-7h2v7zm4 0h-2V7h2v10zm4 0h-2v-4h2v4z\"/>\n",
              "    </g>\n",
              "</svg>\n",
              "  </button>\n",
              "\n",
              "<style>\n",
              "  .colab-df-quickchart {\n",
              "      --bg-color: #E8F0FE;\n",
              "      --fill-color: #1967D2;\n",
              "      --hover-bg-color: #E2EBFA;\n",
              "      --hover-fill-color: #174EA6;\n",
              "      --disabled-fill-color: #AAA;\n",
              "      --disabled-bg-color: #DDD;\n",
              "  }\n",
              "\n",
              "  [theme=dark] .colab-df-quickchart {\n",
              "      --bg-color: #3B4455;\n",
              "      --fill-color: #D2E3FC;\n",
              "      --hover-bg-color: #434B5C;\n",
              "      --hover-fill-color: #FFFFFF;\n",
              "      --disabled-bg-color: #3B4455;\n",
              "      --disabled-fill-color: #666;\n",
              "  }\n",
              "\n",
              "  .colab-df-quickchart {\n",
              "    background-color: var(--bg-color);\n",
              "    border: none;\n",
              "    border-radius: 50%;\n",
              "    cursor: pointer;\n",
              "    display: none;\n",
              "    fill: var(--fill-color);\n",
              "    height: 32px;\n",
              "    padding: 0;\n",
              "    width: 32px;\n",
              "  }\n",
              "\n",
              "  .colab-df-quickchart:hover {\n",
              "    background-color: var(--hover-bg-color);\n",
              "    box-shadow: 0 1px 2px rgba(60, 64, 67, 0.3), 0 1px 3px 1px rgba(60, 64, 67, 0.15);\n",
              "    fill: var(--button-hover-fill-color);\n",
              "  }\n",
              "\n",
              "  .colab-df-quickchart-complete:disabled,\n",
              "  .colab-df-quickchart-complete:disabled:hover {\n",
              "    background-color: var(--disabled-bg-color);\n",
              "    fill: var(--disabled-fill-color);\n",
              "    box-shadow: none;\n",
              "  }\n",
              "\n",
              "  .colab-df-spinner {\n",
              "    border: 2px solid var(--fill-color);\n",
              "    border-color: transparent;\n",
              "    border-bottom-color: var(--fill-color);\n",
              "    animation:\n",
              "      spin 1s steps(1) infinite;\n",
              "  }\n",
              "\n",
              "  @keyframes spin {\n",
              "    0% {\n",
              "      border-color: transparent;\n",
              "      border-bottom-color: var(--fill-color);\n",
              "      border-left-color: var(--fill-color);\n",
              "    }\n",
              "    20% {\n",
              "      border-color: transparent;\n",
              "      border-left-color: var(--fill-color);\n",
              "      border-top-color: var(--fill-color);\n",
              "    }\n",
              "    30% {\n",
              "      border-color: transparent;\n",
              "      border-left-color: var(--fill-color);\n",
              "      border-top-color: var(--fill-color);\n",
              "      border-right-color: var(--fill-color);\n",
              "    }\n",
              "    40% {\n",
              "      border-color: transparent;\n",
              "      border-right-color: var(--fill-color);\n",
              "      border-top-color: var(--fill-color);\n",
              "    }\n",
              "    60% {\n",
              "      border-color: transparent;\n",
              "      border-right-color: var(--fill-color);\n",
              "    }\n",
              "    80% {\n",
              "      border-color: transparent;\n",
              "      border-right-color: var(--fill-color);\n",
              "      border-bottom-color: var(--fill-color);\n",
              "    }\n",
              "    90% {\n",
              "      border-color: transparent;\n",
              "      border-bottom-color: var(--fill-color);\n",
              "    }\n",
              "  }\n",
              "</style>\n",
              "\n",
              "  <script>\n",
              "    async function quickchart(key) {\n",
              "      const quickchartButtonEl =\n",
              "        document.querySelector('#' + key + ' button');\n",
              "      quickchartButtonEl.disabled = true;  // To prevent multiple clicks.\n",
              "      quickchartButtonEl.classList.add('colab-df-spinner');\n",
              "      try {\n",
              "        const charts = await google.colab.kernel.invokeFunction(\n",
              "            'suggestCharts', [key], {});\n",
              "      } catch (error) {\n",
              "        console.error('Error during call to suggestCharts:', error);\n",
              "      }\n",
              "      quickchartButtonEl.classList.remove('colab-df-spinner');\n",
              "      quickchartButtonEl.classList.add('colab-df-quickchart-complete');\n",
              "    }\n",
              "    (() => {\n",
              "      let quickchartButtonEl =\n",
              "        document.querySelector('#df-b6f41235-1b3a-4df9-af7d-399a39af3c63 button');\n",
              "      quickchartButtonEl.style.display =\n",
              "        google.colab.kernel.accessAllowed ? 'block' : 'none';\n",
              "    })();\n",
              "  </script>\n",
              "</div>\n",
              "    </div>\n",
              "  </div>\n"
            ]
          },
          "metadata": {},
          "execution_count": 11
        }
      ]
    },
    {
      "cell_type": "markdown",
      "metadata": {
        "id": "FCtIJ65zyxyb"
      },
      "source": [
        "それぞれの列ごとの数値の説明は下記です。今回の実装において重要ではありませんが、気になる方はチェックしてください。\n",
        "\n",
        "| 列名    | 説明                                                    |\n",
        "| ------- | ------------------------------------------------------- |\n",
        "| CRIM    | 人口 1 人当たりの犯罪発生数                             |\n",
        "| ZN      | 25,000 平方フィート以上の住居区画の占める割合           |\n",
        "| INDUS   | 小売業以外の商業が占める面積の割合                      |\n",
        "| CHAS    | チャールズ川によるダミー変数 (1: 川の周辺, 0: それ以外) |\n",
        "| NOX     | NOx の濃度                                              |\n",
        "| RM      | 住居の平均部屋数                                        |\n",
        "| AGE     | 1940 年より前に建てられた物件の割合                     |\n",
        "| DIS     | 5 つのボストン市の雇用施設からの距離 (重み付け済)       |\n",
        "| RAD     | 環状高速道路へのアクセスしやすさ                        |\n",
        "| TAX     | $10,000 ドルあたりの不動産税率の総計                    |\n",
        "| PTRATIO | 町毎の児童と教師の比率                                  |\n",
        "| B       | 町毎の黒人 (Bk) の比率を次の式で表したもの。            |\n",
        "| LSTAT   | 給与の低い職業に従事する人口の割合 (%)                  |"
      ]
    },
    {
      "cell_type": "markdown",
      "metadata": {
        "id": "8I82v4UZRVqW"
      },
      "source": [
        "scikit-learn を用いて機械学習アルゴリズムを実装を行う際には NumPy 形式に変換する必要があります。  \n",
        "Pandas 形式から NumPy 形式に変換する際には `.values` の属性から取得することができます。  \n",
        "\n",
        "また、同時にデータフレーム内の入力変数と目標値の切り分けも行います。  \n",
        "データフレーム内の `Target` が目標値に該当し、それ以外が入力変数に該当します。`.iloc` メソッドを使用して、入力変数と目標値の切り分けを行います。"
      ]
    },
    {
      "cell_type": "code",
      "metadata": {
        "id": "GewuYqvmyxyX"
      },
      "source": [
        "# 入力変数と目標値の切り分け\n",
        "x = df.iloc[:, :-1].values  # 物件の情報\n",
        "t = df.iloc[:, -1].values  # 家賃"
      ],
      "execution_count": 12,
      "outputs": []
    },
    {
      "cell_type": "markdown",
      "metadata": {
        "id": "SaqKo4ZUyxyb"
      },
      "source": [
        "### 学習用データセットとテスト用データセットへ分割\n",
        "\n",
        "ここで、まずこのデータセットを 2 つに分割します。 それは、モデルの学習に用いるためのデータと、学習後のモデルのパフォーマンスをテストするために用いるデータは、異なるものになっている必要があるためです。 これは、冒頭で少し触れた汎化性能というものに関わる重要なことです。  \n",
        "\n",
        "ここで、例え話を使ってなぜデータセットを分割する必要があるかを説明します。 例えば、大学受験の準備のために 10 年分の過去問を購入し、一部を勉強のために、一部を勉強の成果をはかるために使用したいとします。 10 年分という限られた数の問題を使って、結果にある程度の信頼のおけるような方法で実力をチェックするには、下記の 2 つのうちどちらの方法がより良いでしょうか。\n",
        "\n",
        "- 10 年分の過去問全てを使って勉強したあと、もう一度同じ問題を使って実力をはかる\n",
        "- 5 年分の過去問だけを使って勉強し、残りの 5 年分の未だ見たことがない問題を使って実力をはかる\n",
        "\n",
        "一度勉強した問題を再び解くことができると確認できても、大学受験の当日に未知の問題が出たときにどの程度対処できるかを事前にチェックするには不十分です。 よって、後者のような方法で数限られた問題を活用する方が、本当の実力をはかるには有効でしょう。\n",
        "\n",
        "これは機械学習におけるモデルの学習と検証でも同様に言えることです。 実力をつけるための勉強に使うデータの集まりを、**学習用データセット (training dataset)** といい、実力をはかるために使うデータの集まりを、**テスト用データセット (test dataset)** と言います。 このとき、学習用データセットとテスト用データセットに含まれるデータの間には、重複がないようにします。\n",
        "\n",
        "早速、さきほど用意した `x` と `t` を、学習用データセットとテスト用データセットに分割しましょう。 どのように分けるかには色々な方法がありますが、単純に全体の何割かを学習用データセットとし、残りをテスト用データセットとする、といった分割を行う方法は**ホールドアウト法 (holdout method)** と呼ばれます。 scikit-learn では、データセットから指定された割合（もしくは個数）のデータをランダムに抽出して学習用データセットを作成し、残りをテスト用データセットとする処理を行う関数が提供されています。"
      ]
    },
    {
      "cell_type": "code",
      "metadata": {
        "id": "9eDd6gpMyxyc"
      },
      "source": [
        "from sklearn.model_selection import train_test_split"
      ],
      "execution_count": 13,
      "outputs": []
    },
    {
      "cell_type": "code",
      "metadata": {
        "id": "C5xk52tTyxyd"
      },
      "source": [
        "x_train, x_test, t_train, t_test = train_test_split(x, t, test_size=0.3, random_state=0)"
      ],
      "execution_count": 14,
      "outputs": []
    },
    {
      "cell_type": "markdown",
      "metadata": {
        "id": "gr6-OESgRVqh"
      },
      "source": [
        "ここで、`train_test_split()` の `test_size` という引数に `0.3` を与えています。 これはテスト用データセットを全体の 30% のデータを用いて作成することを意味しています。 自動的に残りの 70% は学習用データセットとなります。 上のコードは全サンプルの中からランダムに 70% を学習用データセットとして抽出し、残った 30% をテスト用データセットとして返します。\n",
        "\n",
        "例えば、データセット中のサンプルが、目標値が 1 のサンプルが 10 個、2 のサンプルが 8 個、3 のサンプルが 12個…というように、カテゴリごとにまとめられて並んでいることがあります。 そのとき、データセットの先頭から 18 個目のところで学習用データセットとテスト用データセットに分割したとすると、学習用データセットには目標値が 3 のデータが 1 つも含まれないこととなります。\n",
        "\n",
        "そこで、ランダムにデータセットを分割する方法が採用されています。 `random_state` という引数に毎回同じ整数を与えることで、実行のたびに結果が変わることを防いでいます。\n",
        "\n",
        "それでは、分割後の学習用データセットを用いてモデルの学習、精度の検証を行いましょう。"
      ]
    },
    {
      "cell_type": "markdown",
      "metadata": {
        "id": "EdeNIBpOrQkd"
      },
      "source": [
        "### モデルの学習・検証\n",
        "\n",
        "scikit-learn を用いて学習を行う際には基本的には下記のステップに沿って実装を行います。  \n",
        "\n",
        "- Step 1 : モデルの定義\n",
        "- Step 2 : モデルの学習\n",
        "- Step 3 : モデルの検証\n",
        "\n",
        "早速実装を行いましょう。  \n",
        "\n",
        "**Step 1 : モデルの定義**\n",
        "\n",
        "モデルの定義ではどの機械学習アルゴリズムを使用してモデルの構築を行うのかを定義します。  \n",
        "scikit-learn で重回帰分析を行う場合は、`LinearRegression` クラスを使用します。 `sklearn.linear_model` 以下にある `LinearRegression` クラスを読み込んで、インスタンスを作成しましょう。"
      ]
    },
    {
      "cell_type": "code",
      "metadata": {
        "id": "kMNPnIfxyxye"
      },
      "source": [
        "# Step 1 : モデルの定義\n",
        "from sklearn.linear_model import LinearRegression\n",
        "model = LinearRegression()"
      ],
      "execution_count": 15,
      "outputs": []
    },
    {
      "cell_type": "markdown",
      "metadata": {
        "id": "8HqY66aTRVqn"
      },
      "source": [
        "上記のコードは、第 6 章で紹介した「モデルを決める」、「目的関数を決める」までを行っています。  \n",
        "`LinearRegression` は重回帰分析を行うクラスで、目的関数や最適化手法もあらかじめ内部で用意されたものが使用されます。 詳しくはこちらのドキュメントを参照してください。 参考：[sklearn.linear_model.LinearRegression](https://scikit-learn.org/stable/modules/generated/sklearn.linear_model.LinearRegression.html)"
      ]
    },
    {
      "cell_type": "markdown",
      "metadata": {
        "id": "aTXdLot-RVqo"
      },
      "source": [
        "**Step 2 : モデルの学習**\n",
        "\n",
        "次にモデルの学習を行います。 scikit-learn に用意されている手法の多くは、共通して `fit()` というメソッドを持っており、 再利用可能なコードが書きやすくなっています。\n",
        "\n",
        "`model` を用いて学習を実行するには、`fit()` の引数に入力値 `x` と目標値 `t` を与えます。今回学習に使用するデータセットは先程切り分けを行った、学習用のデータセットになります。"
      ]
    },
    {
      "cell_type": "code",
      "metadata": {
        "id": "RVpAt0qkyxye",
        "scrolled": true,
        "colab": {
          "base_uri": "https://localhost:8080/",
          "height": 74
        },
        "outputId": "facb860b-d904-4bc9-8b44-e0f6433467b9"
      },
      "source": [
        "# モデルの学習\n",
        "model.fit(x_train, t_train)"
      ],
      "execution_count": 16,
      "outputs": [
        {
          "output_type": "execute_result",
          "data": {
            "text/plain": [
              "LinearRegression()"
            ],
            "text/html": [
              "<style>#sk-container-id-1 {color: black;background-color: white;}#sk-container-id-1 pre{padding: 0;}#sk-container-id-1 div.sk-toggleable {background-color: white;}#sk-container-id-1 label.sk-toggleable__label {cursor: pointer;display: block;width: 100%;margin-bottom: 0;padding: 0.3em;box-sizing: border-box;text-align: center;}#sk-container-id-1 label.sk-toggleable__label-arrow:before {content: \"▸\";float: left;margin-right: 0.25em;color: #696969;}#sk-container-id-1 label.sk-toggleable__label-arrow:hover:before {color: black;}#sk-container-id-1 div.sk-estimator:hover label.sk-toggleable__label-arrow:before {color: black;}#sk-container-id-1 div.sk-toggleable__content {max-height: 0;max-width: 0;overflow: hidden;text-align: left;background-color: #f0f8ff;}#sk-container-id-1 div.sk-toggleable__content pre {margin: 0.2em;color: black;border-radius: 0.25em;background-color: #f0f8ff;}#sk-container-id-1 input.sk-toggleable__control:checked~div.sk-toggleable__content {max-height: 200px;max-width: 100%;overflow: auto;}#sk-container-id-1 input.sk-toggleable__control:checked~label.sk-toggleable__label-arrow:before {content: \"▾\";}#sk-container-id-1 div.sk-estimator input.sk-toggleable__control:checked~label.sk-toggleable__label {background-color: #d4ebff;}#sk-container-id-1 div.sk-label input.sk-toggleable__control:checked~label.sk-toggleable__label {background-color: #d4ebff;}#sk-container-id-1 input.sk-hidden--visually {border: 0;clip: rect(1px 1px 1px 1px);clip: rect(1px, 1px, 1px, 1px);height: 1px;margin: -1px;overflow: hidden;padding: 0;position: absolute;width: 1px;}#sk-container-id-1 div.sk-estimator {font-family: monospace;background-color: #f0f8ff;border: 1px dotted black;border-radius: 0.25em;box-sizing: border-box;margin-bottom: 0.5em;}#sk-container-id-1 div.sk-estimator:hover {background-color: #d4ebff;}#sk-container-id-1 div.sk-parallel-item::after {content: \"\";width: 100%;border-bottom: 1px solid gray;flex-grow: 1;}#sk-container-id-1 div.sk-label:hover label.sk-toggleable__label {background-color: #d4ebff;}#sk-container-id-1 div.sk-serial::before {content: \"\";position: absolute;border-left: 1px solid gray;box-sizing: border-box;top: 0;bottom: 0;left: 50%;z-index: 0;}#sk-container-id-1 div.sk-serial {display: flex;flex-direction: column;align-items: center;background-color: white;padding-right: 0.2em;padding-left: 0.2em;position: relative;}#sk-container-id-1 div.sk-item {position: relative;z-index: 1;}#sk-container-id-1 div.sk-parallel {display: flex;align-items: stretch;justify-content: center;background-color: white;position: relative;}#sk-container-id-1 div.sk-item::before, #sk-container-id-1 div.sk-parallel-item::before {content: \"\";position: absolute;border-left: 1px solid gray;box-sizing: border-box;top: 0;bottom: 0;left: 50%;z-index: -1;}#sk-container-id-1 div.sk-parallel-item {display: flex;flex-direction: column;z-index: 1;position: relative;background-color: white;}#sk-container-id-1 div.sk-parallel-item:first-child::after {align-self: flex-end;width: 50%;}#sk-container-id-1 div.sk-parallel-item:last-child::after {align-self: flex-start;width: 50%;}#sk-container-id-1 div.sk-parallel-item:only-child::after {width: 0;}#sk-container-id-1 div.sk-dashed-wrapped {border: 1px dashed gray;margin: 0 0.4em 0.5em 0.4em;box-sizing: border-box;padding-bottom: 0.4em;background-color: white;}#sk-container-id-1 div.sk-label label {font-family: monospace;font-weight: bold;display: inline-block;line-height: 1.2em;}#sk-container-id-1 div.sk-label-container {text-align: center;}#sk-container-id-1 div.sk-container {/* jupyter's `normalize.less` sets `[hidden] { display: none; }` but bootstrap.min.css set `[hidden] { display: none !important; }` so we also need the `!important` here to be able to override the default hidden behavior on the sphinx rendered scikit-learn.org. See: https://github.com/scikit-learn/scikit-learn/issues/21755 */display: inline-block !important;position: relative;}#sk-container-id-1 div.sk-text-repr-fallback {display: none;}</style><div id=\"sk-container-id-1\" class=\"sk-top-container\"><div class=\"sk-text-repr-fallback\"><pre>LinearRegression()</pre><b>In a Jupyter environment, please rerun this cell to show the HTML representation or trust the notebook. <br />On GitHub, the HTML representation is unable to render, please try loading this page with nbviewer.org.</b></div><div class=\"sk-container\" hidden><div class=\"sk-item\"><div class=\"sk-estimator sk-toggleable\"><input class=\"sk-toggleable__control sk-hidden--visually\" id=\"sk-estimator-id-1\" type=\"checkbox\" checked><label for=\"sk-estimator-id-1\" class=\"sk-toggleable__label sk-toggleable__label-arrow\">LinearRegression</label><div class=\"sk-toggleable__content\"><pre>LinearRegression()</pre></div></div></div></div></div>"
            ]
          },
          "metadata": {},
          "execution_count": 16
        }
      ]
    },
    {
      "cell_type": "markdown",
      "metadata": {
        "id": "v1yiYPj-RVqs"
      },
      "source": [
        "**Step 3 : モデルの検証**  \n",
        "\n",
        "モデルの学習が完了しました。求まったパラメータの値を確認してみましょう。重回帰分析では、重み `w` とバイアス `b` の ２ つがパラメータでした。求まった重み `w` の値は `model.coef_` 属性に、バイアス `b` の値は `model.intercept_` 属性に格納されています。"
      ]
    },
    {
      "cell_type": "code",
      "metadata": {
        "id": "ipo9aBOHRVqs",
        "colab": {
          "base_uri": "https://localhost:8080/"
        },
        "outputId": "7aa9a9f1-312e-4a90-ac04-eb40c3e82da4"
      },
      "source": [
        "# 学習後のパラメータ w\n",
        "model.coef_"
      ],
      "execution_count": 17,
      "outputs": [
        {
          "output_type": "execute_result",
          "data": {
            "text/plain": [
              "array([-1.21310401e-01,  4.44664254e-02,  1.13416945e-02,  2.51124642e+00,\n",
              "       -1.62312529e+01,  3.85906801e+00, -9.98516565e-03, -1.50026956e+00,\n",
              "        2.42143466e-01, -1.10716124e-02, -1.01775264e+00,  6.81446545e-03,\n",
              "       -4.86738066e-01])"
            ]
          },
          "metadata": {},
          "execution_count": 17
        }
      ]
    },
    {
      "cell_type": "code",
      "metadata": {
        "id": "TYrJfAvMRVqv",
        "colab": {
          "base_uri": "https://localhost:8080/",
          "height": 448
        },
        "outputId": "946026a2-4b5d-4119-a363-ad1d3a712cb2"
      },
      "source": [
        "# パラメータの分布をヒストグラムで可視化\n",
        "plt.bar(x=columns, height=model.coef_)"
      ],
      "execution_count": 18,
      "outputs": [
        {
          "output_type": "execute_result",
          "data": {
            "text/plain": [
              "<BarContainer object of 13 artists>"
            ]
          },
          "metadata": {},
          "execution_count": 18
        },
        {
          "output_type": "display_data",
          "data": {
            "text/plain": [
              "<Figure size 640x480 with 1 Axes>"
            ],
            "image/png": "[encoded data removed]"
          },
          "metadata": {}
        }
      ]
    },
    {
      "cell_type": "code",
      "metadata": {
        "id": "CyorqCIiRVqy",
        "colab": {
          "base_uri": "https://localhost:8080/"
        },
        "outputId": "7faf12b0-539e-4a77-8d7c-86cb831bbc76"
      },
      "source": [
        "# 学習後のバイアス b\n",
        "model.intercept_"
      ],
      "execution_count": 19,
      "outputs": [
        {
          "output_type": "execute_result",
          "data": {
            "text/plain": [
              "37.93710774183308"
            ]
          },
          "metadata": {},
          "execution_count": 19
        }
      ]
    },
    {
      "cell_type": "markdown",
      "metadata": {
        "id": "Fxt4c_odRVq5"
      },
      "source": [
        "モデルの学習が完了したら、精度の検証を行います。 `LinearRegression` クラスは `score()` メソッドを提供しており、入力値と目標値を与えると学習済みのモデルを用いて計算した**決定係数 (coefficient of determination)** という指標を返します。\n",
        "\n",
        "これは、使用するデータセットのサンプルサイズを `N`、`n` 個目の入力値に対する予測値を `yn`、目標値を `tn`、そしてそのデータセット内の全ての目標値の平均値を `t¯` としたとき、\n",
        "\n",
        "$$\n",
        "R^{2} = 1 - \\dfrac{\\sum_{n=1}^{N}\\left( t_{n} - y_{n} \\right)^{2}}{\\sum_{n=1}^{N}\\left( t_{n} - \\bar{t} \\right)^{2}}\n",
        "$$\n",
        "\n",
        "で表される指標です。\n",
        "\n",
        "決定係数の最大値は 1 であり、値が大きいほどモデルが与えられたデータに当てはまっていることを表します。"
      ]
    },
    {
      "cell_type": "code",
      "metadata": {
        "id": "n0BmuGt7yxyf",
        "colab": {
          "base_uri": "https://localhost:8080/"
        },
        "outputId": "28043e9c-bd26-4891-a8f8-f949225b78a6"
      },
      "source": [
        "# モデルの検証\n",
        "print('train : ', model.score(x_train, t_train))\n",
        "print('test : ', model.score(x_test, t_test))"
      ],
      "execution_count": 20,
      "outputs": [
        {
          "output_type": "stream",
          "name": "stdout",
          "text": [
            "train :  0.7645451026942548\n",
            "test :  0.6733825506400171\n"
          ]
        }
      ]
    },
    {
      "cell_type": "markdown",
      "metadata": {
        "id": "HzU4SQQ3RVq8"
      },
      "source": [
        "学習済みモデルを用いて学習用データセットで計算した決定係数は、およそ 0.765 でした。  \n",
        "テスト用データセットは およそ 0.673 と学習用データセットに対しての決定係数よりも値が小さくなりました。  \n",
        "\n",
        "教師あり学習の目的は、学習時には見たことがない新しいデータ、ここではテスト用データセットに含まれているデータに対しても、高い性能を発揮するように、モデルを学習することです。 逆に、上記の例のように学習時に用いたデータに対してはよく当てはまっていても、学習時に用いなかったデータに対しては予測値と目標値の差異が大きくなってしまう現象を、**過学習 (overfitting)** と言います。"
      ]
    },
    {
      "cell_type": "markdown",
      "metadata": {
        "id": "hS9QaGM4rXWr"
      },
      "source": [
        "### 新しい入力値に対する予測値の計算（推論）\n",
        "\n",
        "学習が終わったモデルに、新たな入力値を与えて、予測値を計算させるには、`predict()` メソッドを用います。 学習済みのモデルを使ったこのような計算は、**推論 (inference)** と呼ばれることがあります。 今回は、学習済みモデル `model` を用いて、テスト用データセットからサンプルを 1 つ取り出し、推論を行ってみましょう。 このとき、`predict()` メソッドに与える入力値の `ndarray` の形が (サンプルサイズ, 各サンプルの次元数) となっている必要があることに気をつけてください。"
      ]
    },
    {
      "cell_type": "code",
      "metadata": {
        "id": "m6rd77t3yxyg"
      },
      "source": [
        "# 推論\n",
        "y = model.predict(x_test)"
      ],
      "execution_count": 21,
      "outputs": []
    },
    {
      "cell_type": "code",
      "metadata": {
        "id": "eDStZV_eyxyh",
        "colab": {
          "base_uri": "https://localhost:8080/"
        },
        "outputId": "74ec64af-7914-4101-a174-105bdd18f564"
      },
      "source": [
        "print('推論結果：',y[0])\n",
        "print('教師データ：', t_test[0])"
      ],
      "execution_count": 22,
      "outputs": [
        {
          "output_type": "stream",
          "name": "stdout",
          "text": [
            "推論結果： 24.935707898576915\n",
            "教師データ： 22.6\n"
          ]
        }
      ]
    },
    {
      "cell_type": "markdown",
      "metadata": {
        "id": "H4PBnWty077I"
      },
      "source": [
        "## 線形回帰の過学習を抑制する手法\n",
        "\n",
        "前述した過学習を防ぐために、様々な方法があります。代表的な方法は下記になります。  \n",
        "\n",
        "- データセットのサンプル数を増やす  \n",
        "- ハイパーパラメータを調整する  \n",
        "- 他のアルゴリズムを使用する  \n",
        "\n",
        "データセットのサンプル数を増やすについては、講義の範囲で扱えるデータセットのサンプル数に限りがあるため実施できないのですが、知識として重要なので覚えておきましょう。また、ハイパーパラメータの調整については 14 章で詳しく紹介します。  \n",
        "\n",
        "本章では、重回帰分析以外のアルゴリズムを用いて過学習を抑制できるか確認します。  \n",
        "どのアルゴリズムが適切かを検証するためには手法を実装し、精度を比較する方法が最も簡単です。今回は下記に挙げる 2 つのアルゴリズムを実装します。  \n",
        "\n",
        "- Ridge 回帰（リッジ回帰）\n",
        "- Lasso 回帰（ラッソ回帰）"
      ]
    },
    {
      "cell_type": "markdown",
      "metadata": {
        "id": "bRo1urVsRVrD"
      },
      "source": [
        "### Ridge 回帰\n",
        "\n",
        "過学習を抑制するための手法でよく用いられるものの 1 つに**正則化 (regularization)** があります。  \n",
        "機械学習において、正則化は損失関数に**正則化項**と呼ばれるモデルの複雑性に罰則（ペナルティ）を科すために追加の項を導入する手法を指します。  \n",
        "\n",
        "Ridge 回帰は重回帰分析に対して重みの 2 乗 ${{||w||_2}^2}$ で表現される ${\\ell _{2}}$ ノルムを用いて正則化を行うことで、モデルの過度な複雑さに罰則を課して過学習を抑制する手法です。  \n",
        "\n",
        "数式で表現すると、損失関数 ${L}$ が下記の様に変化します。  \n",
        "\n",
        "$$\n",
        "{{L}} = {{|| {\\textbf X} {\\textbf w} - {\\textbf t}||_2}^2 + \\alpha {||{\\textbf w}||_2}^2}\n",
        "$$\n",
        "\n",
        "重回帰分析と比較すると第 2 項に正則化項と呼ばれる ${{\\alpha||w||_2}^2}$ が増えています。この $\\alpha$ の値が罰則の強さで、この値を大きくするほど小さな幅でパラメータが調整されます。\n",
        "機械学習のモデルは学習によってパラメータの値を算出もしくは調整を行います。それに対し、この $\\alpha$ のようにモデルの学習を実行する前に設定する値を**ハイパーパラメータ**と呼びます。\n",
        "\n",
        "※ノルムの詳細については[こちら](https://ja.wikipedia.org/wiki/%E3%83%8E%E3%83%AB%E3%83%A0)、正則化の詳細については[こちら](https://ja.wikipedia.org/wiki/%E6%AD%A3%E5%89%87%E5%8C%96)を参照してください。  \n",
        "\n",
        "\n",
        "全体の手順は先ほどの重回帰分析と同じ流れでなので、実装を進めて行きましょう。  "
      ]
    },
    {
      "cell_type": "code",
      "metadata": {
        "id": "qWg5uj4I4Vsr"
      },
      "source": [
        "# モデルの定義、ハイパーパラメータの値を設定\n",
        "from sklearn.linear_model import Ridge\n",
        "model = Ridge(alpha=1)"
      ],
      "execution_count": null,
      "outputs": []
    },
    {
      "cell_type": "code",
      "metadata": {
        "id": "C1zLFvlU4Vss"
      },
      "source": [
        "# モデルの学習\n",
        "model.fit(x_train, t_train)"
      ],
      "execution_count": null,
      "outputs": []
    },
    {
      "cell_type": "code",
      "metadata": {
        "id": "Rykqq9Q-4Vsu"
      },
      "source": [
        "# モデルの検証\n",
        "print('train : ', model.score(x_train, t_train))\n",
        "print('test : ', model.score(x_test, t_test))"
      ],
      "execution_count": null,
      "outputs": []
    },
    {
      "cell_type": "markdown",
      "metadata": {
        "id": "MZXYGbWDT5GI"
      },
      "source": [
        "先ほどの「train : 0.765, test : 0.673」からほとんど差が無いので、今回のデータセットにおいて Ridge 回帰はあまり有効でない様です。    \n",
        "調整後のパラメータを確認して、どのような変化があるのか確認しておきましょう。"
      ]
    },
    {
      "cell_type": "code",
      "metadata": {
        "id": "3_oL0oo66VBG"
      },
      "source": [
        "model.coef_"
      ],
      "execution_count": null,
      "outputs": []
    },
    {
      "cell_type": "code",
      "metadata": {
        "id": "aFQmNnMy6VBK"
      },
      "source": [
        "plt.bar(x=columns, height=model.coef_)"
      ],
      "execution_count": null,
      "outputs": []
    },
    {
      "cell_type": "markdown",
      "metadata": {
        "id": "S40QlJ65T4U4"
      },
      "source": [
        "重回帰分析の学習済みモデルの最も大きかったパラメータと今回の最も大きいパラメータの値を比較すると今回の方が値が小さくなっていることが確認できます。  \n",
        "正則化が適用され、パラメータの調整範囲が限定されていることが確認できます。  \n",
        "正則化項の $\\alpha$ の値を調整することによって、パラメータが調整される幅にどのように変化があるか確認してみましょう。  \n",
        "\n",
        "Ridge 回帰を用いて今回は予測精度の改善は見られませんでしたが、1 つの選択肢として、覚えておきましょう。"
      ]
    },
    {
      "cell_type": "markdown",
      "metadata": {
        "id": "APa-cFk4RVrV"
      },
      "source": [
        "### Lasso 回帰\n",
        "Lasso 回帰は重回帰分析に対して、 ${||w||_1}$ で表現される ${\\ell _{1}}$ ノルムを使用して正則化を行う手法です。  \n",
        "\n",
        "先ほどの Ridge 回帰と同じく重回帰分析で用いた損失関数に正則化項（第 2 項）を加えてペナルティを課しますが、 ${\\ell _{1}}$  を使用する点が異なります。  \n",
        "\n",
        "$$\n",
        "{{L}} = {||{\\textbf X} {\\textbf w} - {\\textbf t}||_2 ^ 2 + \\alpha ||{\\textbf w}||_1}\n",
        "$$\n",
        "\n",
        "\n",
        "Lasso 回帰の特徴として、不要な入力変数を特定し、該当する重み $w$ を $0$ にする事で実質的に入力変数の種類を減らすことが出来る点あります。このとき生成される 重みベクトル ${\\textbf w}$ は $0$ を多く含み、これを**スパース性**のある行列だと表現します。  \n",
        "\n",
        "入力変数を減らすことができる特徴から、高次元の入力変数に対して高い効果を発揮する場合があります。  \n",
        "\n",
        "Lasso 回帰も今までと同様に scikit-learn で簡単に実装が可能です。  "
      ]
    },
    {
      "cell_type": "code",
      "metadata": {
        "id": "0-_Eamrj4Vsm"
      },
      "source": [
        " # モデルの定義\n",
        "from sklearn.linear_model import Lasso\n",
        "model = Lasso(alpha=1)"
      ],
      "execution_count": null,
      "outputs": []
    },
    {
      "cell_type": "code",
      "metadata": {
        "id": "V61QkQX_4Vsn"
      },
      "source": [
        "# モデルの学習\n",
        "model.fit(x_train, t_train)"
      ],
      "execution_count": null,
      "outputs": []
    },
    {
      "cell_type": "code",
      "metadata": {
        "id": "UqRPtp7s4Vsq"
      },
      "source": [
        "# モデルの検証\n",
        "print('train : ', model.score(x_train, t_train))\n",
        "print('test : ', model.score(x_test, t_test))"
      ],
      "execution_count": null,
      "outputs": []
    },
    {
      "cell_type": "markdown",
      "metadata": {
        "id": "oUGj_jIPYmyo"
      },
      "source": [
        "Lasso 回帰の結果も Ridge 回帰の結果と同様あまり予測精度は向上は見られませんでした。  \n",
        "しかし、データセットによってはこれらのアルゴリズムが有効なケースもあることを抑えておきましょう。  "
      ]
    },
    {
      "cell_type": "code",
      "metadata": {
        "id": "Ov1fc88A6rXL"
      },
      "source": [
        "model.coef_"
      ],
      "execution_count": null,
      "outputs": []
    },
    {
      "cell_type": "code",
      "metadata": {
        "id": "_1cRCmuU6rXO"
      },
      "source": [
        "plt.bar(x=columns, height=model.coef_)"
      ],
      "execution_count": null,
      "outputs": []
    },
    {
      "cell_type": "markdown",
      "metadata": {
        "id": "ynJsDg0K7LTC"
      },
      "source": [
        "更新後のパラメータを確認すると、いくつかの入力変数に紐づく重み $w$ が 0 になっています。  \n",
        "冒頭にお伝えした Lasso 回帰の特長によって不要な入力変数を減らすことが出来ています。  "
      ]
    },
    {
      "cell_type": "markdown",
      "metadata": {
        "id": "VAdzbazj7LIH"
      },
      "source": [
        "## 相関関係と多重共線性問題\n",
        "\n",
        "重回帰分析を使用しているとよく直面する問題として、**多重共線性**と呼ばれる問題があります。  \n",
        "その問題の確認と、対処法を確認しましょう。  "
      ]
    },
    {
      "cell_type": "markdown",
      "metadata": {
        "id": "l5QtitrCYRt7"
      },
      "source": [
        "### データセットの準備\n",
        "\n",
        "こちらから [regression_pls.csv](http://drive.google.com/uc?export=view&id=103ur3ZU7LwO3hLZfEOIi_srxs8I40WQD) をダウンロードします。\n",
        "\n",
        "データセットを Colab へアップロードして、データの中身を確認します。  \n",
        "Colab へのファイルのアップロードは GUI でも行うことが可能ですが、下記のコードを実行し、「ファイル選択」をクリックしても可能なことも覚えておきましょう。"
      ]
    },
    {
      "cell_type": "code",
      "metadata": {
        "id": "cMyl_Y1IVf62"
      },
      "source": [
        "from google.colab import files\n",
        "uploaded = files.upload()"
      ],
      "execution_count": null,
      "outputs": []
    },
    {
      "cell_type": "code",
      "metadata": {
        "id": "RdKQtjjTWomX"
      },
      "source": [
        "df = pd.read_csv('regression_pls.csv')\n",
        "df.head(2)"
      ],
      "execution_count": null,
      "outputs": []
    },
    {
      "cell_type": "code",
      "metadata": {
        "id": "ncCysmRDWtz0"
      },
      "source": [
        "df.shape"
      ],
      "execution_count": null,
      "outputs": []
    },
    {
      "cell_type": "markdown",
      "metadata": {
        "id": "-CtlwZ1ORVrr"
      },
      "source": [
        "入力変数 `x` と目標値 `t` に切り分けを行います。  \n",
        "今回は目標値は Target の列が該当し、その他の列が入力変数に該当します。"
      ]
    },
    {
      "cell_type": "code",
      "metadata": {
        "id": "PHT5LlvFWupN"
      },
      "source": [
        "# データの切り分け→Numpy形式に変換\n",
        "x = df.iloc[:, 1:].values\n",
        "t = df.iloc[:, 0].values\n",
        "print(x.shape, t.shape)"
      ],
      "execution_count": null,
      "outputs": []
    },
    {
      "cell_type": "markdown",
      "metadata": {
        "id": "Z1QvdGtnYs__"
      },
      "source": [
        "今回は入力変数の数が 196 個と先ほどと比べて大幅に数が増えていることが確認できます。  \n",
        "\n",
        "### 練習問題 重回帰分析の実装\n",
        "\n",
        "重回帰分析の実装方法復習しましょう。下記の内容を次のセルに記述し、実行結果を確認してください。（必要に応じてセルの追加を行ってください。）  \n",
        "\n",
        "- 学習用データセットとテスト用データセットの分割（テスト用データセットの割合 : 30% 、random_state : 0）\n",
        "- 重回帰分析の実装（モデルの定義、モデルの学習、モデルの検証）\n",
        "\n",
        "*ヒント*  \n",
        "モデルの学習は学習用データセットで行い、モデルの検証は学習用データセットとテスト用データセットの両方で行いましょう。  "
      ]
    },
    {
      "cell_type": "code",
      "metadata": {
        "id": "hXABpzoSosY1"
      },
      "source": [
        "# 学習用データセットとテスト用データセットの分割（テスト用データセットの割合 : 30% 、random_state : 0）\n"
      ],
      "execution_count": null,
      "outputs": []
    },
    {
      "cell_type": "code",
      "metadata": {
        "id": "Ndl-Tm5Vowy7"
      },
      "source": [
        "# データセットのサイズの確認\n"
      ],
      "execution_count": null,
      "outputs": []
    },
    {
      "cell_type": "code",
      "metadata": {
        "id": "d91Kwa1Zpgox"
      },
      "source": [
        "# モデルの定義（重回帰分析）\n"
      ],
      "execution_count": null,
      "outputs": []
    },
    {
      "cell_type": "code",
      "metadata": {
        "id": "9oe1TsynpjeT"
      },
      "source": [
        "# モデルの学習\n"
      ],
      "execution_count": null,
      "outputs": []
    },
    {
      "cell_type": "code",
      "metadata": {
        "id": "97mm4rmTppOZ"
      },
      "source": [
        "# モデルの検証\n"
      ],
      "execution_count": null,
      "outputs": []
    },
    {
      "cell_type": "markdown",
      "metadata": {
        "id": "KRgmKVVgRdJD"
      },
      "source": [
        "#### 模範解答"
      ]
    },
    {
      "cell_type": "code",
      "metadata": {
        "id": "ba3hHEwHShOU"
      },
      "source": [
        "# 学習用データセットとテスト用データセットの分割（テスト用データセットの割合 : 30% 、random_state : 0）\n",
        "from sklearn.model_selection import train_test_split\n",
        "x_train, x_test, t_train, t_test = train_test_split(x, t, test_size=0.3, random_state=0)"
      ],
      "execution_count": null,
      "outputs": []
    },
    {
      "cell_type": "code",
      "metadata": {
        "id": "8EJXBXzrShOX"
      },
      "source": [
        "# データセットのサイズの確認\n",
        "print('学習用データセット :', x_train.shape, t_train.shape)\n",
        "print('テスト用データセット :', x_test.shape, t_test.shape)"
      ],
      "execution_count": null,
      "outputs": []
    },
    {
      "cell_type": "code",
      "metadata": {
        "id": "bVKDxxhlShOZ"
      },
      "source": [
        "# モデルの定義（重回帰分析）\n",
        "from sklearn.linear_model import LinearRegression\n",
        "model = LinearRegression()"
      ],
      "execution_count": null,
      "outputs": []
    },
    {
      "cell_type": "code",
      "metadata": {
        "id": "XrAkXNEzShOb"
      },
      "source": [
        "# モデルの学習\n",
        "model.fit(x_train, t_train)"
      ],
      "execution_count": null,
      "outputs": []
    },
    {
      "cell_type": "code",
      "metadata": {
        "id": "Fy_-WDzNShOd"
      },
      "source": [
        "# モデルの検証\n",
        "print('train : ', model.score(x_train, t_train))\n",
        "print('test : ', model.score(x_test, t_test))"
      ],
      "execution_count": null,
      "outputs": []
    },
    {
      "cell_type": "markdown",
      "metadata": {
        "id": "88BEUwp8pxz1"
      },
      "source": [
        "テスト用データセットに対しての決定係数の値が大幅に低くなっています。  \n",
        "このような学習用データセットに対しての予測精度が高く、テスト用データセットの予測精度が低い状態を **過学習 (Over fitting)** と呼びました。  \n",
        "\n",
        "過学習がおこる原因は様々ですが、今回は入力変数同士の相関が強いものが含まれているため、 **[多重共線性（ Multicollinearity ）](https://ja.wikipedia.org/wiki/%E9%87%8D%E5%9B%9E%E5%B8%B0%E5%88%86%E6%9E%90#%E5%A4%9A%E9%87%8D%E5%85%B1%E7%B7%9A%E6%80%A7)** という問題が起こっているためです。詳細の説明は割愛しますが、一般的に機械学習アルゴリズムは学習時に相関の高い入力変数を使用することにより、モデルの予測精度向上の妨げとなる場合が多いです。その対策としては単純にデータセットの中から相関の高い入力変数のどちらかを削除する方法や使用するアルゴリズムを変更するなどが挙げられます。    "
      ]
    },
    {
      "cell_type": "markdown",
      "metadata": {
        "id": "MnJA1wL8sgpu"
      },
      "source": [
        "### 相関関係の確認\n",
        "\n",
        "多重共線性の問題に取り組む前に、実際に入力変数同士の相関が高いのか確認してみましょう。  \n",
        "`.corr()`を使用して相関関係を表す数値（相関係数）を確認することができます。（デフォルトではピアソンの相関を使用して値が算出されています。）\n",
        "\n",
        "相関係数は 1 が最大で、その 2 つの変数が完全に相関していることを表しています。例えば変数 a と変数 b の相関係数が 1 の場合は変数 a が 1 増えると変数 b も 1 増えるというような関係になります。"
      ]
    },
    {
      "cell_type": "code",
      "metadata": {
        "id": "vKHHh726ss42"
      },
      "source": [
        "df_corr = df.corr()\n",
        "df_corr.head(3)"
      ],
      "execution_count": null,
      "outputs": []
    },
    {
      "cell_type": "markdown",
      "metadata": {
        "id": "CJ5K80XXsuYF"
      },
      "source": [
        "今回はヒートマップ（数値の大小を色の違いで表現する可視化方法）を用いて、可視化を行います。  \n",
        "可視化には seaborn というパッケージを使用します。seaborn は Python の可視化用のパッケージで、 Matplotlib をベースに作成されています。Matplotlib と比較してより高度な可視化を行うことが可能です。  \n",
        "seaborn を用いてヒートマップを使用する際には、`seaborn.heatmap()` のメソッドを使用します。引数のオプションで `annot=True` とすることにより、ヒートマップ中に数値を表示することができます。seaborn の読み込みの際は慣習的に `as sns` として読み込むことが多いです。\n",
        "\n",
        "今回はサンプル数・入力変数の数の両方が多いため、データセットの最初の 30 行、30 列を使用します。  \n",
        "また、ノートブック上で表示するプロットのサイズを調整するために `matplotlib.pyplot.figure()` のメソッドを使用しています。"
      ]
    },
    {
      "cell_type": "code",
      "metadata": {
        "id": "n869o2gHtDSO"
      },
      "source": [
        "import seaborn as sns\n",
        "plt.figure(figsize=(22, 8))\n",
        "sns.heatmap(df_corr.iloc[:30, :30], annot=True)"
      ],
      "execution_count": null,
      "outputs": []
    },
    {
      "cell_type": "markdown",
      "metadata": {
        "id": "f7QoFgU_i6Z5"
      },
      "source": [
        "相関関係が高い部分が直感的にわかるように可視化することができました。  \n",
        "入力変数同士の相関が高い部分があることが確認できます。例えば `x1` と `x16` は相関係数が 0.92 となっており、相関が高いことが確認できます。\n",
        "\n",
        "入力変数同士個別の相関関係を可視化するには `sns.jointplot(列名1, 列名2, データフレーム)` で可能です。"
      ]
    },
    {
      "cell_type": "code",
      "metadata": {
        "id": "cCsCiB41i9Ax"
      },
      "source": [
        "sns.jointplot('x1', 'x16', df)"
      ],
      "execution_count": null,
      "outputs": []
    },
    {
      "cell_type": "markdown",
      "metadata": {
        "id": "bFFinbyYtHR4"
      },
      "source": [
        "ヒートマップで確認した相関が高いところを描画すると、線形で表現できるほど相関が高いことが確認できました。  \n",
        "\n",
        "今回重回帰分析を実装し、その予測精度が低かった原因として、この入力変数同士の相関が高い多重共線性の問題が起こっている可能性が高いと言えます。  \n",
        "単純に相関の高い入力変数を取り除くアプローチも考えられますが、今回は PLS (Partial Least Squares regression)と呼ばれる手法を用いてこの問題を解決できるか確認してみます。  "
      ]
    },
    {
      "cell_type": "markdown",
      "metadata": {
        "id": "2bVmkkQqRVsX"
      },
      "source": [
        "### PLS（ Partial Least Squares regression ）\n",
        "\n",
        "PLS とは 2 つの手法を組み合わせたアルゴリズムで、下記のステップで実装されています。（注釈 1）\n",
        "\n",
        "\n",
        "- 入力値に対して主成分分析と呼ばれる次元削減を行う\n",
        "- 次元削減後のデータで重回帰分析を用いてモデルの学習を行う\n",
        "\n",
        "scikit-learn に用意されているモジュール `PLSRegression` を使用するとこれらのステップを意識せずに実装できますが、裏側の挙動として理解しておきましょう。\n",
        "\n",
        "また、主成分分析とは、例えば 100 個の入力変数があった場合にその入力変数を 10 や 20 個などに削減する手法（次元削減）になります。  \n",
        "詳細に関しては 15 章で解説します。  \n",
        "\n",
        "（*注釈 1 : 厳密に PLS 学習のステップで紹介した流れとは少し異なる部分があります。本資料では厳密性よりわかりやすさを優先するため、上記のような解説を用いています。厳密な定義に関しては[こちら](https://en.wikipedia.org/wiki/Partial_least_squares_regression)を参照してください。*）"
      ]
    },
    {
      "cell_type": "code",
      "metadata": {
        "id": "s8-4O2z9agYV"
      },
      "source": [
        " # モデルの定義\n",
        "from sklearn.cross_decomposition import PLSRegression\n",
        "model = PLSRegression(n_components=7)"
      ],
      "execution_count": null,
      "outputs": []
    },
    {
      "cell_type": "code",
      "metadata": {
        "id": "CtibUEEgagYX"
      },
      "source": [
        "# モデルの学習\n",
        "model.fit(x_train, t_train)"
      ],
      "execution_count": null,
      "outputs": []
    },
    {
      "cell_type": "code",
      "metadata": {
        "id": "m94EVo1xagYa"
      },
      "source": [
        "# モデルの検証\n",
        "print('train : ', model.score(x_train, t_train))\n",
        "print('test : ', model.score(x_test, t_test))"
      ],
      "execution_count": null,
      "outputs": []
    },
    {
      "cell_type": "markdown",
      "metadata": {
        "id": "AwkyYMFHRVsh"
      },
      "source": [
        "決定係数の値が大幅に改善していることが確認することができます。  \n",
        "PLS を使用する事で多重共線性の問題を解消できることがわかりました。  \n",
        "\n",
        "このように、scikit-learn を用いると様々な機械学習アルゴリズムを簡単に実装できます。細かい理論も重要ですが、まずはそれぞれのアルゴリズムの特徴を捉え、どのような場面で活用できるのかといった点を抑えることを意識して学習を進めましょう。  "
      ]
    },
    {
      "cell_type": "markdown",
      "metadata": {
        "id": "KJB817jjRVsi"
      },
      "source": [
        "## 練習問題 本章のまとめ\n",
        "本章で学んだ内容を復習しましょう。下記の内容を次のセルに記述し、実行結果を確認してください。（必要に応じてセルの追加を行ってください。）  \n",
        "下記の内容に従い、回帰のアルゴリズムの実装を行ってください。（使用する手法は問いません。）\n",
        "\n",
        "- こちらの [regression_excersize.csv](http://drive.google.com/uc?export=view&id=1r3nb0sgt1OpYmn-y1PSWWntPudBtjmRX) をダウンロードし、Colab にアップロード\n",
        "- アップロードした CSV ファイルの読み込みとデータセットの確認\n",
        "- 目標値 `Target` を変数 `t` に格納、それ以外を入力変数 `x` とし、変数に格納\n",
        "- 学習用データセットとテスト用データセットの分割（テスト用データセットの割合 : 30% 、random_state : 0）\n",
        "- 回帰アルゴリズムの実装（モデルの定義、モデルの学習、モデルの検証）\n",
        "\n",
        "*ヒント*  \n",
        "まずは重回帰分析を用いて実装し、その他のアルゴリズムでどのように予測精度が変化するか確認しましょう。"
      ]
    },
    {
      "cell_type": "code",
      "metadata": {
        "id": "nBMBGAkZRVsi"
      },
      "source": [
        "# ファイルのアップロード\n",
        "from google.colab import files\n",
        "uploaded = files.upload()"
      ],
      "execution_count": null,
      "outputs": []
    },
    {
      "cell_type": "code",
      "metadata": {
        "id": "h9lZEaa2RVsk"
      },
      "source": [
        "# データセットの読み込み\n"
      ],
      "execution_count": null,
      "outputs": []
    },
    {
      "cell_type": "code",
      "metadata": {
        "id": "Wt3UDRzARVsm"
      },
      "source": [
        "# 目標値と入力変数の分割　→　NumPy形式に変換\n"
      ],
      "execution_count": null,
      "outputs": []
    },
    {
      "cell_type": "code",
      "metadata": {
        "id": "nRugQ0rdRVsq"
      },
      "source": [
        "# 学習用データセットとテスト用データセットの分割（テストデータの割合 : 30% 、random_state : 0 ）\n"
      ],
      "execution_count": null,
      "outputs": []
    },
    {
      "cell_type": "code",
      "metadata": {
        "id": "5CYmlAAHRVsu"
      },
      "source": [
        "# モデルの定義\n"
      ],
      "execution_count": null,
      "outputs": []
    },
    {
      "cell_type": "code",
      "metadata": {
        "id": "AS8c76UMRVsz"
      },
      "source": [
        "# モデルの学習\n"
      ],
      "execution_count": null,
      "outputs": []
    },
    {
      "cell_type": "code",
      "metadata": {
        "id": "bCrwit3uRVs2"
      },
      "source": [
        "# モデルの検証（学習用データセットとテスト用データセット）\n",
        "\n"
      ],
      "execution_count": null,
      "outputs": []
    },
    {
      "cell_type": "markdown",
      "metadata": {
        "id": "RXLrxnryRVs6"
      },
      "source": [
        "<img src=\"http://drive.google.com/uc?export=view&id=1g2xjXbw5qYeqdJqcOf3uASvzBQxhlE8u\" width=30%>"
      ]
    }
  ]
}