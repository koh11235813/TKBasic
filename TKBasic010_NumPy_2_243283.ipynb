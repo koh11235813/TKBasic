{
  "nbformat": 4,
  "nbformat_minor": 0,
  "metadata": {
    "colab": {
      "name": "TKBasic010_NumPy.ipynb",
      "provenance": [],
      "collapsed_sections": []
    },
    "kernelspec": {
      "display_name": "Python 3",
      "language": "python",
      "name": "python3"
    },
    "language_info": {
      "codemirror_mode": {
        "name": "ipython",
        "version": 3
      },
      "file_extension": ".py",
      "mimetype": "text/x-python",
      "name": "python",
      "nbconvert_exporter": "python",
      "pygments_lexer": "ipython3",
      "version": "3.6.4"
    }
  },
  "cells": [
    {
      "cell_type": "markdown",
      "metadata": {
        "id": "3-ewqmV8hszX"
      },
      "source": [
        "# 数値計算\n",
        "\n",
        "本章では、Python で数値計算を高速に行うためのパッケージである NumPy の使い方を学び、 6 章で学んだ重回帰分析のアルゴリズムを実装していきます。  \n",
        "\n",
        "NumPy による**多次元配列 (multidimensional array)** の扱い方を知ることは、他の様々なライブラリを利用する際に役立ちます。例えば、様々な機械学習手法を統一的なインターフェースで利用できる **scikit-learn** や、ニューラルネットワークの記述・学習を行うためのフレームワークである **TensorFlow** は、NumPy に慣れておくことでとても使いやすくなります。"
      ]
    },
    {
      "cell_type": "markdown",
      "metadata": {
        "id": "qSIBCLKQTk0T"
      },
      "source": [
        "## 本章の構成\n",
        "\n",
        "- NumPy の基礎  \n",
        "- 多次元配列を用いた計算方法  \n",
        "- NumPy を用いた重回帰分析  "
      ]
    },
    {
      "cell_type": "markdown",
      "metadata": {
        "id": "iPmvXIQThszZ"
      },
      "source": [
        "## NumPy の基礎\n",
        "\n",
        "NumPy は Google Colaboratory（以下 Colab ）上のノートブックにはデフォルトでインストールされているため、ここではインストールの方法は説明しません。手元のコンピュータに NumPy をインストールしたい場合は、第 1 章を参照してください。\n",
        "\n",
        "Colab 上ではインストール作業は必要ないものの、ノートブックを開いた時点ではまだ `numpy` は読み込まれていません。\n",
        "パッケージの機能を利用するには、そのパッケージが提供するモジュールを読み込む必要があります。  \n",
        "モジュールとは複数の関数やクラスが記述されたファイルになります。パッケージ、モジュール、クラスについての詳細に関しては前章を確認してください。    \n",
        "\n",
        "例えば `A` というモジュールを読み込みたいとき、一番シンプルな記述方法は `import A` です。  \n",
        "`A` というモジュール名が長い場合は、`import A as B` のようにして別名を付けることも可能で、慣習的に`numpy` には `np` という別名が用いられます。\n",
        "\n",
        "それでは、`numpy` を `np` という名前で `import` してみましょう。"
      ]
    },
    {
      "cell_type": "code",
      "metadata": {
        "id": "YGm0nN_vuWfY"
      },
      "source": [
        "import numpy as np"
      ],
      "execution_count": null,
      "outputs": []
    },
    {
      "cell_type": "markdown",
      "metadata": {
        "id": "SB5_Yx1qXAcN"
      },
      "source": [
        "### 多次元配列を定義する\n",
        "\n",
        "ベクトル・行列・テンソルなどは、プログラミング上は多次元配列により表現でき、NumPy では ndarray というクラスで多次元配列を表現します。NumPy には matrix というクラスも存在しますが、本チュートリアルでは基本的に多次元配列を表す ndarray をベクトルや行列を表すために用います。　　\n",
        "\n",
        "早速、これを用いてベクトルを定義してみましょう。  "
      ]
    },
    {
      "cell_type": "code",
      "metadata": {
        "id": "HTartJBpvinm"
      },
      "source": [
        "# ベクトルの定義\n",
        "a = np.array([1, 2, 3])\n",
        "\n",
        "a"
      ],
      "execution_count": null,
      "outputs": []
    },
    {
      "cell_type": "markdown",
      "metadata": {
        "id": "LCbcrkX6hszo"
      },
      "source": [
        "このように、Python リスト `[1, 2, 3]` を `np.array()` に渡すことで、$[1, 2, 3]$ というベクトルを表す ndarray オブジェクトを作ることができます。\n",
        "ndarray オブジェクトは `shape` という**属性 (attribute)** を持っており、その多次元配列の**形 (shape)** が保存されています。\n",
        "上で定義した `a` という ndarray オブジェクトの形を調べてみましょう。"
      ]
    },
    {
      "cell_type": "code",
      "metadata": {
        "id": "O2GmnrGVhszq"
      },
      "source": [
        "a.shape"
      ],
      "execution_count": null,
      "outputs": []
    },
    {
      "cell_type": "markdown",
      "metadata": {
        "id": "YlU3JFZVhszw"
      },
      "source": [
        "`(3,)` という要素数が 1 の Python のタプルが表示されています。\n",
        "ndarray の形は、要素が整数のタプルで表され、要素数はその多次元配列の**次元数 （dimensionality, number of dimensions)** を表します。\n",
        "形は、その多次元配列の各次元の大きさを順に並べた整数のタプルになっています。\n",
        "\n",
        "次元数は、ndarray の `ndim` という属性に保存されています。"
      ]
    },
    {
      "cell_type": "code",
      "metadata": {
        "id": "TClptSKihszx"
      },
      "source": [
        "a.ndim"
      ],
      "execution_count": null,
      "outputs": []
    },
    {
      "cell_type": "markdown",
      "metadata": {
        "id": "ALEfYmAuhsz1"
      },
      "source": [
        "これは、`len(a.shape)` と同じ値になります。\n",
        "今、`a` という ndarray は 1 次元配列なので、`a.shape` は要素数が 1 のタプルで、`ndim` の値は 1 でした。これは、その多次元配列が表すテンソルの階数（ rank、以下ランク）と対応します。"
      ]
    },
    {
      "cell_type": "markdown",
      "metadata": {
        "id": "oQcB5yZvhsz2"
      },
      "source": [
        "では次に、$3 \\times 3$ 行列を定義してみましょう。"
      ]
    },
    {
      "cell_type": "code",
      "metadata": {
        "id": "u3MkTwo0jM1y"
      },
      "source": [
        "# 行列の定義\n",
        "b = np.array(\n",
        "    [[1, 2, 3],\n",
        "     [4, 5, 6],\n",
        "     [7, 8, 9]]\n",
        ")\n",
        "\n",
        "b"
      ],
      "execution_count": null,
      "outputs": []
    },
    {
      "cell_type": "markdown",
      "metadata": {
        "id": "NEZor0zths0B"
      },
      "source": [
        "形と次元数を調べます。"
      ]
    },
    {
      "cell_type": "code",
      "metadata": {
        "id": "VdoPp_H3hs0C"
      },
      "source": [
        "print('Shape:', b.shape)\n",
        "print('Rank:', b.ndim)"
      ],
      "execution_count": null,
      "outputs": []
    },
    {
      "cell_type": "markdown",
      "metadata": {
        "id": "GRcKmhhRhs0G"
      },
      "source": [
        "ここで、`size` という属性も見てみましょう。"
      ]
    },
    {
      "cell_type": "code",
      "metadata": {
        "id": "nL7kUxyThs0H"
      },
      "source": [
        "b.size"
      ],
      "execution_count": null,
      "outputs": []
    },
    {
      "cell_type": "markdown",
      "metadata": {
        "id": "6qHL5knGhs0L"
      },
      "source": [
        "これは、`b` という ndarray が持つ要素の数を表しています。\n",
        "`b` は $3 \\times 3$ 行列なので、要素数は 9 です。\n",
        "**「形」「次元数」「サイズ」という言葉がそれぞれ意味するものの違いを確認してください。**\n",
        "\n",
        "NumPy の ndarray の作成方法には、`np.array()` を用いて Python のリストから多次元配列を作る方法以外にも、色々な方法があります。\n",
        "以下に代表的な例をいくつか紹介します。"
      ]
    },
    {
      "cell_type": "code",
      "metadata": {
        "id": "-E2Rtwq9hs0N"
      },
      "source": [
        "# 形を指定して、要素が全て 0 で埋められた ndarray を作る\n",
        "a = np.zeros((3, 3))\n",
        "\n",
        "a"
      ],
      "execution_count": null,
      "outputs": []
    },
    {
      "cell_type": "code",
      "metadata": {
        "id": "870IpdMyhs0R"
      },
      "source": [
        "# 形を指定して、要素が全て 1 で埋められた ndarray を作る\n",
        "b = np.ones((2, 3))\n",
        "\n",
        "b"
      ],
      "execution_count": null,
      "outputs": []
    },
    {
      "cell_type": "code",
      "metadata": {
        "id": "xndboQKyhs0W"
      },
      "source": [
        "# 形と値を指定して、要素が指定した値で埋められた ndarray を作る\n",
        "c = np.full((3, 2), 9)\n",
        "\n",
        "c"
      ],
      "execution_count": null,
      "outputs": []
    },
    {
      "cell_type": "code",
      "metadata": {
        "id": "WA5IUfrmhs0b"
      },
      "source": [
        "# 指定された大きさの単位行列を表す ndarray を作る\n",
        "d = np.eye(5)\n",
        "\n",
        "d"
      ],
      "execution_count": null,
      "outputs": []
    },
    {
      "cell_type": "code",
      "metadata": {
        "id": "YLH4LMVThs0h",
        "scrolled": true
      },
      "source": [
        "# 形を指定して、 0 ~ 1 の間の乱数で要素を埋めた ndarray を作る\n",
        "e = np.random.random((4, 5))\n",
        "\n",
        "e"
      ],
      "execution_count": null,
      "outputs": []
    },
    {
      "cell_type": "code",
      "metadata": {
        "id": "JrlPdcOths0r"
      },
      "source": [
        "# 3 から始まり 10 になるまで 1 ずつ増加する数列を作る（ 10 は含まない）\n",
        "f = np.arange(3, 10, 1)\n",
        "\n",
        "f"
      ],
      "execution_count": null,
      "outputs": []
    },
    {
      "cell_type": "markdown",
      "metadata": {
        "id": "1rPZMxVIhs0w"
      },
      "source": [
        "### 多次元配列の要素を選択する\n",
        "\n",
        "前節では NumPy を使って多次元配列を定義するいくつかの方法を紹介しました。\n",
        "本節では、作成した ndarray のうちの特定の要素を選択して、値を取り出す方法を紹介します。\n",
        "最もよく行われる方法は `[]` を使った**添字表記 (subscription)** による要素の選択です。"
      ]
    },
    {
      "cell_type": "markdown",
      "metadata": {
        "id": "yjqfy8AVhs0x"
      },
      "source": [
        "例えば、上で作成した `e` という $4 \\times 5$ 行列を表す多次元配列から、1 行 2 列目の値を取り出すには、以下のようにします。"
      ]
    },
    {
      "cell_type": "code",
      "metadata": {
        "id": "4wXjOOjyhs0y",
        "scrolled": true
      },
      "source": [
        "val = e[0, 1]\n",
        "\n",
        "val"
      ],
      "execution_count": null,
      "outputs": []
    },
    {
      "cell_type": "markdown",
      "metadata": {
        "id": "FPYVW5rqhs02"
      },
      "source": [
        "「1 行 2 列目」を指定するのに、インデックスは `[0, 1]` でした。\n",
        "これは、NumPy の ndarray の要素は Python リストと同じく、添字が 0 から始まる**ゼロベースインデックス （zero-based index）** が採用されているためです。\n",
        "つまり、この行列の i 行 j 列目の値は、`[i - 1, j - 1]` で取り出すことができます。"
      ]
    },
    {
      "cell_type": "markdown",
      "metadata": {
        "id": "qWnR7Eurhs03"
      },
      "source": [
        "続いて、スライスによる要素の選択を紹介します。  \n",
        "Python のリストと同様に**スライス表記 (slicing)** を用いて選択したい要素を範囲指定することができます。  "
      ]
    },
    {
      "cell_type": "code",
      "metadata": {
        "id": "Q0nqhCpfhs04",
        "scrolled": true
      },
      "source": [
        "# 4 x 5 行列 e の真ん中の 2 x 3 = 6 個の値を取り出す\n",
        "center = e[1:3, 1:4]\n",
        "\n",
        "center"
      ],
      "execution_count": null,
      "outputs": []
    },
    {
      "cell_type": "markdown",
      "metadata": {
        "id": "1FUL2bOkhs09"
      },
      "source": [
        "上記の `center` の出力を見返すと、ちょうど真ん中の部分の $2 \\times 3$ 個の数字が取り出せていることが分かります。\n",
        "ここで、`e` の中から `[1, 1]` の要素を起点として 2 行 3 列を取り出して作られた `center` の形を、`e` の形と比較してみましょう。"
      ]
    },
    {
      "cell_type": "code",
      "metadata": {
        "id": "g57LOQJbhs0_"
      },
      "source": [
        "print('Shape of e:', e.shape)\n",
        "print('Shape of center:', center.shape)"
      ],
      "execution_count": null,
      "outputs": []
    },
    {
      "cell_type": "markdown",
      "metadata": {
        "id": "5tbJR05ehs1F"
      },
      "source": [
        "また、インデックスを指定したり、スライスを用いて取り出した ndarray の一部に対し、値を代入することもできます。"
      ]
    },
    {
      "cell_type": "code",
      "metadata": {
        "id": "pnJGJ0sOhs1G"
      },
      "source": [
        "# 先程の真ん中の 6 個の値を 0 にする\n",
        "e[1:3, 1:4] = 0\n",
        "\n",
        "e"
      ],
      "execution_count": null,
      "outputs": []
    },
    {
      "cell_type": "markdown",
      "metadata": {
        "id": "7n7aJGJahs1J"
      },
      "source": [
        "ndarray の `[]` には、整数やスライスの他に、整数配列を渡すこともできます。  \n",
        "整数配列とは、ここでは整数を要素とする Python リストまたは ndarray のことを指しています。  \n",
        "\n",
        "使用手順としてまず、$3 \\times 3$ 行列を表す `a` という ndarray を定義してみます。"
      ]
    },
    {
      "cell_type": "code",
      "metadata": {
        "id": "XxgfjK2-hs1L"
      },
      "source": [
        "a = np.array(\n",
        "    [[1, 2, 3],\n",
        "     [4, 5, 6],\n",
        "     [7, 8, 9]]\n",
        ")\n",
        "\n",
        "a"
      ],
      "execution_count": null,
      "outputs": []
    },
    {
      "cell_type": "markdown",
      "metadata": {
        "id": "qjX-7iNths1R"
      },
      "source": [
        "この ndarray から、\n",
        "\n",
        "1. 1 行 2 列目：`a[0, 1]`\n",
        "2. 3 行 2 列目：`a[2, 1]`\n",
        "3. 2 行 1 列目：`a[1, 0]`\n",
        "\n",
        "の 3 つの要素を選択して並べ、形が `(3,)` であるような ndarray を作りたいとします。\n",
        "\n",
        "これは、以下のように、順に対象の要素を指定して並べて新しい ndarray にすることでももちろん実現できます。"
      ]
    },
    {
      "cell_type": "code",
      "metadata": {
        "id": "UvEgg_eHhs1S"
      },
      "source": [
        "np.array([a[0, 1], a[2, 1], a[1, 0]])"
      ],
      "execution_count": null,
      "outputs": []
    },
    {
      "cell_type": "markdown",
      "metadata": {
        "id": "r2aNYWNFhs1V"
      },
      "source": [
        "しかし、同じことが**選択したい行、選択したい列を、順にそれぞれリストとして与える**ことでも行えます。"
      ]
    },
    {
      "cell_type": "code",
      "metadata": {
        "id": "P1scHQiRhs1W"
      },
      "source": [
        "a[[0, 2, 1], [1, 1, 0]]"
      ],
      "execution_count": null,
      "outputs": []
    },
    {
      "cell_type": "markdown",
      "metadata": {
        "id": "0sHruq-ohs1Z"
      },
      "source": [
        "**選択したい 3 つの値がどの行にあるか**だけに着目すると、それぞれ 1 行目、3 行目、2 行目にある要素です。  \n",
        "ゼロベースインデックスでは、それぞれ 0, 2, 1 行目です。  \n",
        "これが `a` の `[]` に与えられた 1 つ目のリスト `[0, 2, 1]` の意味です。  \n",
        "\n",
        "同様に、**列に着目**すると、ゼロベースインデックスでそれぞれ 1, 1, 0 列目の要素です。  \n",
        "これが `a` の `[]` に与えられた 2 つ目のリスト `[1, 1, 0]` の意味です。"
      ]
    },
    {
      "cell_type": "markdown",
      "metadata": {
        "id": "HDdtMWR4hs1a"
      },
      "source": [
        "### ndarray のデータ型\n",
        "\n",
        "1 つの ndarray の要素は、全て同じ型を持ちます。\n",
        "NumPy では様々なデータ型を使うことができますが、ここでは一部だけを紹介します。\n",
        "NumPy は Python リストを渡して ndarray を作る際などには、その値からデータ型を推測します。\n",
        "ndarray のデータ型は、`dtype` という属性に保持されています。"
      ]
    },
    {
      "cell_type": "code",
      "metadata": {
        "id": "eU6frncOhs1d"
      },
      "source": [
        "# 整数（ Python の int 型）の要素をもつリストを与えた場合\n",
        "x = np.array([1, 2, 3])\n",
        "\n",
        "x.dtype"
      ],
      "execution_count": null,
      "outputs": []
    },
    {
      "cell_type": "code",
      "metadata": {
        "id": "3C4OQKq9hs1k"
      },
      "source": [
        "# 浮動小数点数（ Python の float 型）の要素をもつリストを与えた場合\n",
        "x = np.array([1., 2., 3.])\n",
        "\n",
        "x.dtype"
      ],
      "execution_count": null,
      "outputs": []
    },
    {
      "cell_type": "markdown",
      "metadata": {
        "id": "HTg_bqiuhs1o"
      },
      "source": [
        "以上のように、**Python の int 型は自動的に NumPy の int64 型**になりました。\n",
        "また、**Python の float 型は自動的に NumPy の float64 型**になりました。  \n",
        "\n",
        "Python の int 型は NumPy の int 型に対応づけられており、Python の float 型は NumPy の float 型に対応づけられています。  \n",
        "この int 型はプラットフォームによって int64 型と同じ場合と int32 型と同じ場合があります。\n",
        "float 型についても同様で、プラットフォームによって float64 型と同じ場合と float32 型と同じ場合があります。\n",
        "\n",
        "特定の型を指定して ndarray を作成するには、以下のようにします。"
      ]
    },
    {
      "cell_type": "code",
      "metadata": {
        "id": "3UZiigfFhs1p"
      },
      "source": [
        "x = np.array([1, 2, 3], dtype=np.float32)\n",
        "\n",
        "x.dtype"
      ],
      "execution_count": null,
      "outputs": []
    },
    {
      "cell_type": "markdown",
      "metadata": {
        "id": "aWMTSehbhs1s"
      },
      "source": [
        "このように、`dtype` という引数に NumPy の dtype オブジェクトを渡します。\n",
        "これは 32 ビット浮動小数点数型を指定する例です。\n",
        "同じことが、文字列で指定することによっても行えます。"
      ]
    },
    {
      "cell_type": "code",
      "metadata": {
        "id": "jg3-zxU2yEpd"
      },
      "source": [
        "x = np.array([1, 2, 3], dtype='float32')\n",
        "\n",
        "x.dtype"
      ],
      "execution_count": null,
      "outputs": []
    },
    {
      "cell_type": "markdown",
      "metadata": {
        "id": "UZ2hdYZ_yEph"
      },
      "source": [
        "これはさらに、以下のように短く書くこともできます。"
      ]
    },
    {
      "cell_type": "code",
      "metadata": {
        "id": "tnn0EQQmyEpk"
      },
      "source": [
        "x = np.array([1, 2, 3], dtype='f')\n",
        "\n",
        "x.dtype"
      ],
      "execution_count": null,
      "outputs": []
    },
    {
      "cell_type": "markdown",
      "metadata": {
        "id": "wa5IPghnyEps"
      },
      "source": [
        "一度あるデータ型で定義した配列のデータ型を別のものに変更するには、`astype` を用いて変換を行います。"
      ]
    },
    {
      "cell_type": "code",
      "metadata": {
        "id": "fnqEBxUMhs1t"
      },
      "source": [
        "x = x.astype(np.float64)\n",
        "\n",
        "x.dtype"
      ],
      "execution_count": null,
      "outputs": []
    },
    {
      "cell_type": "markdown",
      "metadata": {
        "id": "gQtt_qLLjeLQ"
      },
      "source": [
        "## 多次元配列を用いた計算\n",
        "\n",
        "ndarray を使って行列やベクトルを定義して、それらを用いていくつかの計算を行ってみましょう。\n",
        "\n",
        "### 四則演算\n",
        "ndarray として定義されたベクトルや行列同士の**要素ごとの加減乗除**は、Python の数値同士の四則演算に用いられる `+`、`-`、`*`、`/` という記号を使って行えます。\n",
        "\n",
        "それでは、同じ形の行列を 2 つ定義し、それらの**要素ごとの**加減乗除を実行してみましょう。"
      ]
    },
    {
      "cell_type": "code",
      "metadata": {
        "id": "_hpNMPZpw24s"
      },
      "source": [
        "# 同じ形 (3 x 3) の行列を 2 つ定義する\n",
        "a = np.array([\n",
        "    [0, 1, 2],\n",
        "    [3, 4, 5],\n",
        "    [6, 7, 8]\n",
        "])\n",
        "\n",
        "b = np.array([\n",
        "    [1, 2, 3],\n",
        "    [4, 5, 6],\n",
        "    [7, 8, 9]\n",
        "])"
      ],
      "execution_count": null,
      "outputs": []
    },
    {
      "cell_type": "code",
      "metadata": {
        "id": "O5zs75ooyEp2"
      },
      "source": [
        "# 足し算\n",
        "c = a + b\n",
        "\n",
        "c"
      ],
      "execution_count": null,
      "outputs": []
    },
    {
      "cell_type": "code",
      "metadata": {
        "id": "c2FOyv2YyEp5"
      },
      "source": [
        "# 引き算\n",
        "c = a - b\n",
        "\n",
        "c"
      ],
      "execution_count": null,
      "outputs": []
    },
    {
      "cell_type": "code",
      "metadata": {
        "id": "Pyiqo_ZYyEp8"
      },
      "source": [
        "# 掛け算\n",
        "c = a * b\n",
        "\n",
        "c"
      ],
      "execution_count": null,
      "outputs": []
    },
    {
      "cell_type": "code",
      "metadata": {
        "id": "Ut6N5zcTyEqA"
      },
      "source": [
        "# 割り算\n",
        "c = a / b\n",
        "\n",
        "c"
      ],
      "execution_count": null,
      "outputs": []
    },
    {
      "cell_type": "markdown",
      "metadata": {
        "id": "HFZIVmCwhs13"
      },
      "source": [
        "NumPy では、与えられた多次元配列に対して要素ごとに計算を行う関数が色々と用意されています。\n",
        "以下にいくつかの例を示します。"
      ]
    },
    {
      "cell_type": "code",
      "metadata": {
        "id": "BUaEHDrcyEqL"
      },
      "source": [
        "# 要素ごとに平方根を計算する\n",
        "c = np.sqrt(b)\n",
        "\n",
        "c"
      ],
      "execution_count": null,
      "outputs": []
    },
    {
      "cell_type": "code",
      "metadata": {
        "id": "X9XlfvFths14"
      },
      "source": [
        "# 要素ごとに値を n 乗する\n",
        "n = 2\n",
        "c = np.power(b, n)\n",
        "\n",
        "c"
      ],
      "execution_count": null,
      "outputs": []
    },
    {
      "cell_type": "markdown",
      "metadata": {
        "id": "XC-OB1s_hs19"
      },
      "source": [
        "要素ごとに値を n 乗する計算は、以下のようにしても書くことができます。"
      ]
    },
    {
      "cell_type": "code",
      "metadata": {
        "id": "7ekgNzVlhs2F"
      },
      "source": [
        "c ** n"
      ],
      "execution_count": null,
      "outputs": []
    },
    {
      "cell_type": "markdown",
      "metadata": {
        "id": "9exqunixhs2K"
      },
      "source": [
        "はじめに紹介した四則演算は、**同じ大きさの** 2 つの行列同士で行っていました。\n",
        "ここで、$3 \\times 3$ 行列 `a` と 3 次元ベクトル `b` という大きさのことなる配列を定義して、それらを足してみましょう。"
      ]
    },
    {
      "cell_type": "code",
      "metadata": {
        "id": "geIUaMashs2L"
      },
      "source": [
        "a = np.array([\n",
        "    [0, 1, 2],\n",
        "    [3, 4, 5],\n",
        "    [6, 7, 8]\n",
        "])\n",
        "\n",
        "b = np.array([1, 2, 3])\n",
        "\n",
        "c = a + b\n",
        "\n",
        "c"
      ],
      "execution_count": null,
      "outputs": []
    },
    {
      "cell_type": "markdown",
      "metadata": {
        "id": "9dns4SENhs2T"
      },
      "source": [
        "形が同じ行列同士の場合と同様に計算することができました。  \n",
        "これは NumPy が自動的に**ブロードキャスト (broadcast)** と呼ばれる操作を行っているためです。"
      ]
    },
    {
      "cell_type": "markdown",
      "metadata": {
        "id": "aaNse1VxTk1f"
      },
      "source": [
        "### 練習問題 多次元配列を用いた計算\n",
        "\n",
        "多次元配列を用いた計算で学んだ内容を復習しましょう。下記の内容を次のセルに記述し、実行結果を確認してください。（必要に応じてセルの追加を行ってください。）  \n",
        "NumPy を用いて、下記の内容を実行し、結果を確認してください。  \n",
        "\n",
        "- 行列 A, B の定義\n",
        "- 行列 A, B の足し算\n",
        "- 行列 A, B の引き算\n",
        "\n",
        "行列の定義では下記のような行列を 2 つ準備してください。  \n",
        "\n",
        "```python\n",
        "\n",
        "A = [[1, 2, 3],\n",
        "      [4, 5, 6],\n",
        "      [7, 8, 9]]\n",
        "\n",
        "B = [[2, 3, 4],\n",
        "      [5, 6, 7],\n",
        "      [8, 9, 10]]\n",
        "```"
      ]
    },
    {
      "cell_type": "code",
      "metadata": {
        "id": "EhSP_RxGTk1f"
      },
      "source": [
        "# 行列の定義\n"
      ],
      "execution_count": null,
      "outputs": []
    },
    {
      "cell_type": "code",
      "metadata": {
        "id": "ubJpKwkGTk1g"
      },
      "source": [
        "# 行列の足し算\n"
      ],
      "execution_count": null,
      "outputs": []
    },
    {
      "cell_type": "code",
      "metadata": {
        "id": "tqsRAmYDTk1h"
      },
      "source": [
        "# 行列の引き算\n"
      ],
      "execution_count": null,
      "outputs": []
    },
    {
      "cell_type": "markdown",
      "metadata": {
        "id": "IxAxSS1zTk1h"
      },
      "source": [
        "#### 練習問題"
      ]
    },
    {
      "cell_type": "code",
      "metadata": {
        "id": "ASDzLKUYTk1i"
      },
      "source": [
        "# 行列の定義\n",
        "A = np.array(\n",
        "    [[1, 2, 3],\n",
        "     [4, 5, 6],\n",
        "     [7, 8, 9]]\n",
        ")\n",
        "\n",
        "B = np.array(\n",
        "    [[2, 3, 4],\n",
        "     [5, 6, 7],\n",
        "     [8, 9, 10]]\n",
        ")"
      ],
      "execution_count": null,
      "outputs": []
    },
    {
      "cell_type": "code",
      "metadata": {
        "id": "DFup1gSfTk1i"
      },
      "source": [
        "# 行列の足し算\n",
        "A + B"
      ],
      "execution_count": null,
      "outputs": []
    },
    {
      "cell_type": "code",
      "metadata": {
        "id": "voqnMIf2Tk1j"
      },
      "source": [
        "# 行列の引き算\n",
        "A - B"
      ],
      "execution_count": null,
      "outputs": []
    },
    {
      "cell_type": "markdown",
      "metadata": {
        "id": "zD5qR1Dvhs2V"
      },
      "source": [
        "### ブロードキャスト\n",
        "\n",
        "行列同士の要素ごとの四則演算は、通常は行列の形が同じでなければ定義できません。\n",
        "しかし、前節の最後では $3 \\times 3$ 行列に 3 次元ベクトルを足す計算が実行できました。\n",
        "\n",
        "これが要素ごとの計算と同じように実行できる理由は、NumPy が自動的に 3 次元ベクトル `b` を 3 つ並べてできる $3 \\times 3$ 行列を想定し、`a` と同じ形に揃える操作を暗黙に行っているからです。\n",
        "この操作を、**ブロードキャスト**と呼びます。\n",
        "\n",
        "算術演算を異なる形の配列同士で行う場合、NumPy は自動的に小さい方の配列を**ブロードキャスト**し、大きい方の配列と形を合わせます。\n",
        "ただし、この自動的に行われるブロードキャストでは、行いたい算術演算が、大きい方の配列の一部に対して**繰り返し行われる**ことで実現されるため、実際に小さい方の配列のデータをコピーして大きい配列をメモリ上に作成することは可能な限り避けられます。\n",
        "また、この繰り返しの計算は NumPy の内部の C 言語によって実装されたループで行われるため、高速です。\n",
        "\n",
        "よりシンプルな例で考えてみましょう。\n",
        "以下のような配列 `a` があり、この全ての要素を 2 倍にしたいとします。"
      ]
    },
    {
      "cell_type": "code",
      "metadata": {
        "id": "65YCT4dzhs2W"
      },
      "source": [
        "a = np.array([1, 2, 3])\n",
        "\n",
        "a"
      ],
      "execution_count": null,
      "outputs": []
    },
    {
      "cell_type": "markdown",
      "metadata": {
        "id": "Zp1-yKjXhs2a"
      },
      "source": [
        "このとき、一つの方法は以下のように同じ形で要素が全て 2 である別の配列を定義し、これと要素ごとの積を計算するやり方です。"
      ]
    },
    {
      "cell_type": "code",
      "metadata": {
        "id": "-HXN6pyVhs2b"
      },
      "source": [
        "b = np.array([2, 2, 2])\n",
        "\n",
        "c = a * b\n",
        "\n",
        "c"
      ],
      "execution_count": null,
      "outputs": []
    },
    {
      "cell_type": "markdown",
      "metadata": {
        "id": "Y7XJ7T6Mhs2g"
      },
      "source": [
        "しかし、スカラの 2 をただ `a` に掛けるだけでも同じ結果が得られます。"
      ]
    },
    {
      "cell_type": "code",
      "metadata": {
        "id": "XUC3S8jqhs2h"
      },
      "source": [
        "c = a * 2\n",
        "\n",
        "c"
      ],
      "execution_count": null,
      "outputs": []
    },
    {
      "cell_type": "markdown",
      "metadata": {
        "id": "SLje0bp-hs2k"
      },
      "source": [
        "`* 2` という計算が、`c` の 3 つの要素の**どの要素に対する計算なのか**が明示されていないため、NumPy はこれを**全ての要素に対して行うという意味**だと解釈して、スカラの 2 を `a` の要素数 3 だけ引き伸ばしてから掛けてくれます。\n",
        "\n",
        "**形の異なる配列同士の計算がブロードキャストによって可能になるためにはルールがあります。**\n",
        "\n",
        "それは、**「2 つの配列の各次元が同じ大きさになっているか、どちらかが 1 であること」**です。\n",
        "このルールを満たさない場合、NumPy は \"ValueError: operands could not be broadcast together with shapes (1 つ目の配列の形) (2 つ目の配列の形)\" というエラーを出します。\n",
        "\n",
        "ブロードキャストされた配列の各次元のサイズ（注釈 1）は、入力された配列のその次元のサイズの中で最大の値と同じになっています。\n",
        "入力された配列は、各次元のサイズが入力のうち大きい方のサイズと同じになるようブロードキャストされ、その拡張されたサイズで計算されます。  \n",
        "\n",
        "（*注釈 1 : 「次元のサイズ」と言った場合はその次元の大きさを意味し、配列の size 属性とは異なるものを指しています。*）\n",
        "\n",
        "もう少し具体例を見てみましょう。\n",
        "以下のような 2 つの配列 `a` と `b` を定義し、足します。"
      ]
    },
    {
      "cell_type": "code",
      "metadata": {
        "id": "bD4dr8ilhs2l"
      },
      "source": [
        "# 0 ~ 9 の範囲の値をランダムに用いて埋められた (2, 1, 3) と (3, 1) という大きさの配列を作る\n",
        "a = np.random.randint(0, 10, (2, 1, 3))\n",
        "b = np.random.randint(0, 10, (3, 1))\n",
        "\n",
        "print('a:\\n', a)\n",
        "print('\\na.shape:', a.shape)\n",
        "print('\\nb:\\n', b)\n",
        "print('\\nb.shape:', b.shape)\n",
        "\n",
        "# 加算\n",
        "c = a + b\n",
        "\n",
        "print('\\na + b:\\n', c)\n",
        "print('\\n(a + b).shape:', c.shape)"
      ],
      "execution_count": null,
      "outputs": []
    },
    {
      "cell_type": "markdown",
      "metadata": {
        "id": "o90A_pvhhs2u"
      },
      "source": [
        "`a` の形は `(2, 1, 3)` で、`b` の形は `(3, 1)` でした。\n",
        "この 2 つの配列の**末尾次元 (trailing dimension)**（注釈 2） はそれぞれ 3 と 1 なので、ルールにあった「次元が同じサイズであるか、どちらかが 1 であること」を満たしています。\n",
        "\n",
        "次に、各配列の第 2 次元に注目してみましょう。\n",
        "それぞれ 1 と 3 です。\n",
        "これもルールを満たしています。\n",
        "\n",
        "ここで、`a` は 3 次元配列ですが、`b` は 2 次元配列です。\n",
        "つまり、次元数が異なっています。\n",
        "このような場合は、`b` は**一番上の次元にサイズが 1 の次元が追加された形** `(1, 3, 1)` として扱われます。\n",
        "そして 2 つの配列の各次元ごとのサイズの最大値をとった形 `(2, 3, 3)` にブロードキャストされ、足し算が行われます。\n",
        "\n",
        "このように、もし 2 つの配列のランクが異なる場合は、次元数が小さい方の配列が大きい方と同じ次元数になるまでその形の先頭に新たな次元が追加されます。\n",
        "サイズが 1 の次元がいくつ追加されても、要素の数は変わらないことに注意してください。\n",
        "要素数（ `size` 属性で取得できる値）は、各次元のサイズの掛け算になるので、1 を何度かけても値は変わらないことから、これが成り立つことが分かります。\n",
        "\n",
        "NumPy がブロードキャストのために自動的に行う新しい次元の挿入は、`[]` を使った以下のような表記を用いることで**手動で行うこともできます。**  \n",
        "\n",
        "（*注釈 2 : 末尾次元（trailing dimension）とは、その配列の形を表すタプルの一番最後の値のことを指します。*）"
      ]
    },
    {
      "cell_type": "code",
      "metadata": {
        "id": "6TwzCz9khs2v"
      },
      "source": [
        "print('Original shape:', b.shape)\n",
        "\n",
        "b_expanded = b[np.newaxis, :, :]\n",
        "\n",
        "print('Added new axis to the top:', b_expanded.shape)\n",
        "\n",
        "b_expanded2 = b[:, np.newaxis, :]\n",
        "\n",
        "print('Added new axis to the middle:', b_expanded2.shape)"
      ],
      "execution_count": null,
      "outputs": []
    },
    {
      "cell_type": "markdown",
      "metadata": {
        "id": "g3CSUaHAhs20"
      },
      "source": [
        "`np.newaxis` が指定された位置に、新しい次元が挿入されます。\n",
        "配列が持つ数値の数は変わっていません。\n",
        "そのため、挿入された次元のサイズは必ず 1 になります。"
      ]
    },
    {
      "cell_type": "code",
      "metadata": {
        "id": "eK7NmjCWhs21"
      },
      "source": [
        "b"
      ],
      "execution_count": null,
      "outputs": []
    },
    {
      "cell_type": "code",
      "metadata": {
        "id": "wappsylzhs2_"
      },
      "source": [
        "b_expanded"
      ],
      "execution_count": null,
      "outputs": []
    },
    {
      "cell_type": "code",
      "metadata": {
        "id": "l-IHRhU1hs3E"
      },
      "source": [
        "b_expanded2"
      ],
      "execution_count": null,
      "outputs": []
    },
    {
      "cell_type": "markdown",
      "metadata": {
        "id": "Mv8XZb4Bhs3I"
      },
      "source": [
        "NumPy のブロードキャストは慣れるまで直感に反するように感じる場合があるかもしれません。\n",
        "しかし、使いこなすと同じ計算が Python のループを使って行うよりも高速に行えるため、ブロードキャストを理解することは非常に重要です。\n",
        "一つ具体例を見てみます。\n",
        "\n",
        "$5 \\times 5$ 行列 `a` に、3 次元ベクトル `b` を足します。\n",
        "まず、`a`、`b` および結果を格納する配列 `c` を定義します。"
      ]
    },
    {
      "cell_type": "code",
      "metadata": {
        "id": "KW3-2Gz3hs3J"
      },
      "source": [
        "a = np.array([\n",
        "    [0, 1, 2, 1, 0],\n",
        "    [3, 4, 5, 4, 3],\n",
        "    [6, 7, 8, 7, 6],\n",
        "    [3, 4, 5, 4, 4],\n",
        "    [0, 1, 2, 1, 0]\n",
        "])\n",
        "\n",
        "b = np.array([1, 2, 3, 4, 5])\n",
        "\n",
        "# 結果を格納する配列を先に作る\n",
        "c = np.empty((5, 5))"
      ],
      "execution_count": null,
      "outputs": []
    },
    {
      "cell_type": "markdown",
      "metadata": {
        "id": "CaPTRYq1hs3L"
      },
      "source": [
        "`%%timeit` というノートブックで使用できるそのセルの実行時間を計測するためのマジックを使って、`a` の各行（ 1 次元目）に `b` の値を足していく計算を Python のループを使って 1 行ずつ処理していくコードの実行時間を測ってみます。"
      ]
    },
    {
      "cell_type": "code",
      "metadata": {
        "id": "aTJ5owYUhs3M"
      },
      "source": [
        "%%timeit\n",
        "for i in range(a.shape[0]):\n",
        "    c[i, :] = a[i, :] + b"
      ],
      "execution_count": null,
      "outputs": []
    },
    {
      "cell_type": "code",
      "metadata": {
        "id": "-6z4EGzXhs3Q"
      },
      "source": [
        "c"
      ],
      "execution_count": null,
      "outputs": []
    },
    {
      "cell_type": "markdown",
      "metadata": {
        "id": "3KXentjEhs3T"
      },
      "source": [
        "次に、NumPy のブロードキャストを活用した方法で同じ計算を行ってみます。"
      ]
    },
    {
      "cell_type": "code",
      "metadata": {
        "id": "pCgJcwt7hs3T"
      },
      "source": [
        "%%timeit\n",
        "c = a + b"
      ],
      "execution_count": null,
      "outputs": []
    },
    {
      "cell_type": "code",
      "metadata": {
        "id": "EAetPXrphs3Z"
      },
      "source": [
        "c"
      ],
      "execution_count": null,
      "outputs": []
    },
    {
      "cell_type": "markdown",
      "metadata": {
        "id": "USEUvvcChs3c"
      },
      "source": [
        "計算結果は当然同じになります。\n",
        "しかし、実行時間が数倍短くなっています。\n",
        "\n",
        "このように、ブロードキャストを理解して活用することで、記述が簡単になるだけでなく、実行速度という点においても有利になります。"
      ]
    },
    {
      "cell_type": "markdown",
      "metadata": {
        "id": "8Fd_G9JckA0Z"
      },
      "source": [
        "### 行列積\n",
        "\n",
        "行列の要素ごとの積は `*` を用いて計算できました。\n",
        "一方、通常の行列同士の積（行列積）の計算は、`*` ではなく、別の方法で行います。\n",
        "方法は 2 種類あります。\n",
        "\n",
        "1つは、`np.dot()` 関数を用いる方法です。\n",
        "`np.dot()` は 2 つの引数をとり、それらの行列積を計算して返す関数です。\n",
        "今、`A` という行列と `B` という行列があり、行列積 `AB` を計算したいとします。\n",
        "これは `np.dot(A, B)` と書くことで計算できます。\n",
        "もし `BA` を計算したい場合は、`np.dot(B, A)` と書きます。\n",
        "\n",
        "もう 1 つは、ndarray オブジェクトが持つ `dot()` メソッドを使う方法です。\n",
        "これを用いると、同じ計算が `A.dot(B)` と書くことによって行えます。"
      ]
    },
    {
      "cell_type": "code",
      "metadata": {
        "id": "_rMylHNEhpFs"
      },
      "source": [
        "# 行列 A の定義\n",
        "A = np.array([\n",
        "    [0, 1, 2],\n",
        "    [3, 4, 5],\n",
        "    [6, 7, 8]\n",
        "])\n",
        "\n",
        "# 行列 B の定義\n",
        "B = np.array([\n",
        "    [1, 2, 3],\n",
        "    [4, 5, 6],\n",
        "    [7, 8, 9]\n",
        "])"
      ],
      "execution_count": null,
      "outputs": []
    },
    {
      "cell_type": "markdown",
      "metadata": {
        "id": "P-mVIroIhs3j"
      },
      "source": [
        "実際にこの $3 \\times 3$ の 2 つの行列の行列積を計算してみましょう。"
      ]
    },
    {
      "cell_type": "code",
      "metadata": {
        "id": "Go9DfbmXhs3l"
      },
      "source": [
        "# 行列積の計算 (1)\n",
        "C = np.dot(A, B)\n",
        "\n",
        "C"
      ],
      "execution_count": null,
      "outputs": []
    },
    {
      "cell_type": "markdown",
      "metadata": {
        "id": "FNU92PFPhs3o"
      },
      "source": [
        "同じ計算をもう一つの記述方法で行ってみます。"
      ]
    },
    {
      "cell_type": "code",
      "metadata": {
        "id": "-YmjkeC8hs3p"
      },
      "source": [
        "C = A.dot(B)\n",
        "\n",
        "C"
      ],
      "execution_count": null,
      "outputs": []
    },
    {
      "cell_type": "code",
      "metadata": {
        "id": "E6UqcewwoFOv"
      },
      "source": [
        "# データ型の確認（整数値）\n",
        "a.dtype"
      ],
      "execution_count": null,
      "outputs": []
    },
    {
      "cell_type": "markdown",
      "metadata": {
        "id": "4SH7NONRpfO1"
      },
      "source": [
        "### 基本的な統計量の求め方\n",
        "\n",
        "多次元配列に含まれる値の平均・分散・標準偏差・最大値・最小値といった統計値を計算する方法を紹介します。\n",
        "$8 \\times 10$ の行列を作成し、この中に含まれる値全体に渡るこれらの統計値を計算してみましょう。"
      ]
    },
    {
      "cell_type": "code",
      "metadata": {
        "id": "QtRVfBYahs3w"
      },
      "source": [
        "x = np.random.randint(0, 10, (8, 10))\n",
        "\n",
        "x"
      ],
      "execution_count": null,
      "outputs": []
    },
    {
      "cell_type": "code",
      "metadata": {
        "id": "Vrkpn1d4qBNF"
      },
      "source": [
        "# 平均値\n",
        "x.mean()"
      ],
      "execution_count": null,
      "outputs": []
    },
    {
      "cell_type": "code",
      "metadata": {
        "id": "Y_50qftbhs34"
      },
      "source": [
        "# 分散\n",
        "x.var()"
      ],
      "execution_count": null,
      "outputs": []
    },
    {
      "cell_type": "code",
      "metadata": {
        "id": "OwpUSNzeqMLq"
      },
      "source": [
        "# 標準偏差\n",
        "x.std()"
      ],
      "execution_count": null,
      "outputs": []
    },
    {
      "cell_type": "code",
      "metadata": {
        "id": "xw_9lddYqcHF"
      },
      "source": [
        "# 最大値\n",
        "x.max()"
      ],
      "execution_count": null,
      "outputs": []
    },
    {
      "cell_type": "code",
      "metadata": {
        "id": "zls9oBfsqfJn"
      },
      "source": [
        "# 最小値\n",
        "x.min()"
      ],
      "execution_count": null,
      "outputs": []
    },
    {
      "cell_type": "markdown",
      "metadata": {
        "id": "wLLCGMeLhs4I"
      },
      "source": [
        "ここで、`x` は 2 次元配列なので、各次元に沿ったこれらの統計値の計算も行えます。\n",
        "例えば、最後の次元内だけで平均をとると、8 個の平均値が得られるはずです。\n",
        "平均を計算したい軸（何次元目に沿って計算するか）を `axis` という引数に指定します。"
      ]
    },
    {
      "cell_type": "code",
      "metadata": {
        "id": "uvfzeCY3hs4I"
      },
      "source": [
        "x.mean(axis=1)"
      ],
      "execution_count": null,
      "outputs": []
    },
    {
      "cell_type": "markdown",
      "metadata": {
        "id": "4be3BgZ6hs4M"
      },
      "source": [
        "これは、以下のように 1 次元目の値の平均を計算していったものを並べているのと同じことです。\n",
        "（ゼロベースインデックスで考えています。`x` の形は `(8, 10)` なので、0 次元目のサイズが 8、1 次元目のサイズが 10 です。）"
      ]
    },
    {
      "cell_type": "code",
      "metadata": {
        "id": "sjqqYnSths4N"
      },
      "source": [
        "np.array([\n",
        "    x[0, :].mean(),\n",
        "    x[1, :].mean(),\n",
        "    x[2, :].mean(),\n",
        "    x[3, :].mean(),\n",
        "    x[4, :].mean(),\n",
        "    x[5, :].mean(),\n",
        "    x[6, :].mean(),\n",
        "    x[7, :].mean(),\n",
        "])"
      ],
      "execution_count": null,
      "outputs": []
    },
    {
      "cell_type": "markdown",
      "metadata": {
        "id": "rulZyy5osZxR"
      },
      "source": [
        "## NumPy を用いた重回帰分析\n",
        "\n",
        "ここまででNumPyを用いた行列計算について必要な知識が揃ったので、冒頭でもお伝えした重回帰分析を実装しましょう。  \n",
        "4 つのデータをまとめた、以下のような行列が与えられたとします。"
      ]
    },
    {
      "cell_type": "code",
      "metadata": {
        "id": "0grPocVNvn3P"
      },
      "source": [
        "# Xの定義\n",
        "X = np.array([\n",
        "    [2, 3],\n",
        "    [2, 5],\n",
        "    [3, 4],\n",
        "    [5, 9],\n",
        "])\n",
        "\n",
        "X"
      ],
      "execution_count": null,
      "outputs": []
    },
    {
      "cell_type": "markdown",
      "metadata": {
        "id": "1T4NGECihs4b"
      },
      "source": [
        "6 章の解説と同様に、切片を重みベクトルに含めて扱うため、行列の 0 列目に 1 という値を付け加えます。"
      ]
    },
    {
      "cell_type": "code",
      "metadata": {
        "id": "aSSfzZoahs4d"
      },
      "source": [
        "# データ数（ X.shape[0]) と同じ数だけ 1 が並んだ配列\n",
        "ones = np.ones((X.shape[0], 1))\n",
        "\n",
        "# concatenate を使い、1 次元目に 1 を付け加える\n",
        "X = np.concatenate((ones, X), axis=1)\n",
        "\n",
        "# 先頭に 1 が付け加わったデザイン行列\n",
        "X"
      ],
      "execution_count": null,
      "outputs": []
    },
    {
      "cell_type": "markdown",
      "metadata": {
        "id": "DQ9Ybyrphs4g"
      },
      "source": [
        "また、目標値が以下で与えられたとします。"
      ]
    },
    {
      "cell_type": "code",
      "metadata": {
        "id": "eU0UlmKrvxVK"
      },
      "source": [
        "# t の定義\n",
        "t = np.array([1, 5, 6, 8])\n",
        "\n",
        "t"
      ],
      "execution_count": null,
      "outputs": []
    },
    {
      "cell_type": "markdown",
      "metadata": {
        "id": "UX4hYhjtwBlK"
      },
      "source": [
        "重回帰分析は、正規方程式を解くことで最適な 1 次方程式の重みを決定することができました。\n",
        "正規方程式の解は以下のようなものでした。\n",
        "\n",
        "$$\n",
        "{\\bf w} = ({\\bf X}^{{\\rm T}}{\\bf X})^{\\rm -1}{\\bf X}^{\\rm T}{\\bf t}\n",
        "$$\n",
        "\n",
        "これを、4 つのステップに分けて計算していきます。\n",
        "\n",
        "まずは、${\\bf X}^{\\rm T}{\\bf X}$ の計算です。ndarrayに対して `.T` で転置した配列を得られます。"
      ]
    },
    {
      "cell_type": "code",
      "metadata": {
        "id": "r_s8lxK9wvFW"
      },
      "source": [
        "# Step 1\n",
        "xx = np.dot(X.T, X)\n",
        "\n",
        "xx"
      ],
      "execution_count": null,
      "outputs": []
    },
    {
      "cell_type": "markdown",
      "metadata": {
        "id": "1x4UD4Tghs4v"
      },
      "source": [
        "次に、この逆行列を計算します。  \n",
        "逆行列の計算は `np.linalg.inv()` で行うことができます。"
      ]
    },
    {
      "cell_type": "code",
      "metadata": {
        "id": "V4ZpY_CLxuRX"
      },
      "source": [
        "# Step 2\n",
        "xx_inv = np.linalg.inv(xx)\n",
        "\n",
        "xx_inv"
      ],
      "execution_count": null,
      "outputs": []
    },
    {
      "cell_type": "markdown",
      "metadata": {
        "id": "s40OeZJ0yJw5"
      },
      "source": [
        "次に、${\\bf X}^{\\rm T}{\\bf t}$ の計算をします。"
      ]
    },
    {
      "cell_type": "code",
      "metadata": {
        "id": "YR6kbSD1x3XU",
        "scrolled": true
      },
      "source": [
        "# Step 3\n",
        "xt = np.dot(X.T, t)\n",
        "\n",
        "xt"
      ],
      "execution_count": null,
      "outputs": []
    },
    {
      "cell_type": "markdown",
      "metadata": {
        "id": "94huqVEDhs40"
      },
      "source": [
        "最後に、求めた `xx_inv` と `xt` を掛け合わせます。"
      ]
    },
    {
      "cell_type": "code",
      "metadata": {
        "id": "oBBA-NRbybHK"
      },
      "source": [
        "# Step 4\n",
        "w = np.dot(xx_inv, xt)\n",
        "\n",
        "w"
      ],
      "execution_count": null,
      "outputs": []
    },
    {
      "cell_type": "markdown",
      "metadata": {
        "id": "ovaa8HnETk2P"
      },
      "source": [
        "重みが求まったので、 6 章でも紹介した重回帰分析の方程式に代入して予測値を計算してみましょう。  \n",
        "入力値 ${\\bf x}$ は[3, 7]だとします。予測値を計算するときも訓練時と同様に $x_0$ に 1 を付け加える必要があります。そのため、予測値を計算する際の値は [1, 3, 7] となります。\n",
        "\n",
        "$$\n",
        "y = {\\bf w}^{\\rm T}{\\bf x}\n",
        "$$"
      ]
    },
    {
      "cell_type": "code",
      "metadata": {
        "id": "gGXRtdM_Tk2S"
      },
      "source": [
        "x = np.array([1, 3, 7])\n",
        "y = np.dot(w, x)"
      ],
      "execution_count": null,
      "outputs": []
    },
    {
      "cell_type": "code",
      "metadata": {
        "id": "CN8zhciiTk2S"
      },
      "source": [
        "y"
      ],
      "execution_count": null,
      "outputs": []
    },
    {
      "cell_type": "markdown",
      "metadata": {
        "id": "Tj_1Qn43Tk2T"
      },
      "source": [
        "この様にして、約 6 の予測値を得る事ができました。  "
      ]
    },
    {
      "cell_type": "markdown",
      "metadata": {
        "id": "SxZkwFz8hs45"
      },
      "source": [
        "数式を NumPy による配列の計算に落とし込むことに慣れていくには少し時間がかかりますが、慣れると少ない量のコードで記述できるだけでなく、高速に計算が行なえるため、大きな恩恵があります。"
      ]
    },
    {
      "cell_type": "markdown",
      "metadata": {
        "id": "iGQ_NPSoTk2T"
      },
      "source": [
        "## 練習問題 本章のまとめ\n",
        "\n",
        "本章で学んだ内容を復習しましょう。下記の内容を次のセルに記述し、実行結果を確認してください。（必要に応じてセルの追加を行ってください。）  \n",
        "\n",
        "下記の行列を用いて、重回帰分析の計算を行ってください。\n",
        "\n",
        "```python\n",
        "# Xの定義\n",
        "X = np.array([\n",
        "    [1, 5],\n",
        "    [2, 6],\n",
        "    [3, 4],\n",
        "    [4, 9],\n",
        "])\n",
        "\n",
        "# t の定義\n",
        "t = np.array([2, 5, 7, 10])\n",
        "\n",
        "```\n",
        "\n",
        "また、求めた重み `w` と入力変数 `[2, 5]` を使用して予測値 `y` を求めてください。"
      ]
    },
    {
      "cell_type": "code",
      "metadata": {
        "id": "fHO503e4Tk2T"
      },
      "source": [
        "# Xの定義\n",
        "\n",
        "# 行列 0 列目に 1 を追加\n"
      ],
      "execution_count": null,
      "outputs": []
    },
    {
      "cell_type": "code",
      "metadata": {
        "id": "r51sWTkpTk2U"
      },
      "source": [
        "# t の定義\n"
      ],
      "execution_count": null,
      "outputs": []
    },
    {
      "cell_type": "code",
      "metadata": {
        "id": "_T0m0E__Tk2U"
      },
      "source": [
        "# Step 1\n"
      ],
      "execution_count": null,
      "outputs": []
    },
    {
      "cell_type": "code",
      "metadata": {
        "id": "STdUo32YTk2V"
      },
      "source": [
        "# Step 2\n"
      ],
      "execution_count": null,
      "outputs": []
    },
    {
      "cell_type": "code",
      "metadata": {
        "id": "lbmNl9TwTk2V"
      },
      "source": [
        "# Step 3\n"
      ],
      "execution_count": null,
      "outputs": []
    },
    {
      "cell_type": "code",
      "metadata": {
        "id": "bubceWouTk2W"
      },
      "source": [
        "# Step 4\n"
      ],
      "execution_count": null,
      "outputs": []
    },
    {
      "cell_type": "code",
      "metadata": {
        "id": "zADzNjAHTk2X"
      },
      "source": [
        "# 予測値の計算\n"
      ],
      "execution_count": null,
      "outputs": []
    },
    {
      "cell_type": "markdown",
      "metadata": {
        "id": "VuLZYU8ATk23"
      },
      "source": [
        "<img src=\"http://drive.google.com/uc?export=view&id=1g2xjXbw5qYeqdJqcOf3uASvzBQxhlE8u\" width=30%>"
      ]
    }
  ]
}