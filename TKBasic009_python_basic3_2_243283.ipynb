{
  "cells": [
    {
      "cell_type": "markdown",
      "metadata": {
        "id": "zpw3ShW6Aw_m"
      },
      "source": [
        "# Pythonの基礎 3（クラス） \n",
        "\n",
        "本章では前章で扱った**関数**と並んで、プログラミング全般で頻繁に使用される**クラス**の概念と使い方を扱います。  \n",
        "\n",
        "クラスを用いるメリットとして、関数と同様に同じ処理を何度も書く必要がなくなる点が共通しているのですが、クラス特有のメリットとしては**オブジェクト**と呼ばれる概念を用いて、必要な処理（関数）と使用する変数を同時に定義する点にあります。  \n",
        "\n",
        "そうすることでプログラム全体から完全に隔離された状態で一連の処理を管理できるので、プログラム全体が完成した後でも容易に機能追加・変更を行うことが出来ます。  \n",
        "\n",
        "機械学習の分野では、ディープラーニングの代表的なフレームワークである　TensorFlow, Chainer, PyTorch で使用されているので必ず理解しておく必要があります。  "
      ]
    },
    {
      "cell_type": "markdown",
      "metadata": {
        "id": "-S4WRqlOAw_q"
      },
      "source": [
        "## 本章の構成\n",
        "- クラスとは  \n",
        "- クラスの定義方法  \n",
        "- 変数を持ったクラス    \n",
        "- 関数を持ったクラス   \n",
        "- プログラムの管理"
      ]
    },
    {
      "cell_type": "markdown",
      "metadata": {
        "id": "FBe0bEnnVoE5"
      },
      "source": [
        "## クラスとは\n",
        "クラスの有用性をイメージするために、例えば家を建てるケースを考えてみましょう。  \n",
        "\n",
        "同じ構造の家を何件も建てる必要がある際、皆さんは同じ設計図を何枚もゼロから書くでしょうか？  \n",
        "その様な二度手間を避けて 1 枚の設計図をコピーして何回も使いまわすのではないでしょうか。  \n",
        "\n",
        "他にも、デザインを変えたり、部屋数を増やす際にも設計図をゼロから書き直すのではなく、既存の設計図に手を加えて新しい設計図を用意するはずです。  \n",
        "\n",
        "\n",
        "この**家の設計図**の役割を果たすのがクラスです。冒頭の説明で、クラスには必要な処理（関数）と使用する変数を同時に定義すると紹介しましたが、設計図に例えるとクラスには以下の様な情報を定義します。    \n",
        "- 変数：家の材料（木材、ガラス、扉 など）   \n",
        "- 関数：家を建てる手順（木を切る、組み立てる、色を塗る など）  \n",
        "\n",
        "\n",
        "また、クラスから作成された実体（ここでは建てられた家）のこと**オブジェクト (またはインスタンス)** と呼び、**クラスから実体を作成する**という操作のことを**インスタンス化** と呼びます。"
      ]
    },
    {
      "cell_type": "markdown",
      "metadata": {
        "id": "M1XEvf6Kv9dw"
      },
      "source": [
        "## クラスの定義方法\n",
        "\n",
        "それでは、家の設計図を表すクラスを定義してみましょう。定義名は `House` とします。  \n",
        "また、表札に記載する名前を家ごとに変更する必要があるとして `name_plate` という変数をクラス内部に持たせましょう。  \n",
        "\n",
        "ここで重要なポイントとして、クラスを定義する段階では内部の変数に具体的な値を持たせる必要はありません。理由としては、初めから具体的な値を持たせず、個別の家を建てる際（すなわちインスタンス化する際）に値を入力することで１つのクラスから作られた設計図で様々な家を建てる事ができ、プログラミング上の利便性が向上する為です。\n",
        "\n",
        "このような、インスタンスに属している変数を**属性 (attribute)** と呼びます。同様に、インスタンスから呼び出すことができる関数のことを**メソッド (method)** と呼びます。\n",
        "\n",
        "クラスは、以下のような構文を使って定義します。\n",
        "\n",
        "![クラス](http://drive.google.com/uc?export=view&id=1l2MHdn2LBylFKMiY8tD2_Dw81ar9nTfp)\n"
      ]
    },
    {
      "cell_type": "markdown",
      "metadata": {
        "id": "sg8npzSQAw_x"
      },
      "source": [
        "## 変数を持ったクラス\n",
        "上述の通りクラスは内部に変数と関数を持ちます。  \n",
        "まずシンプルに、変数のみを持ったクラスを定義してみましょう。  \n"
      ]
    },
    {
      "cell_type": "code",
      "execution_count": 1027,
      "metadata": {
        "id": "9ZrUz4kHv9dw"
      },
      "outputs": [],
      "source": [
        "# クラスの定義\n",
        "class House:\n",
        "\n",
        "    # __init__() メソッドの定義\n",
        "    def __init__(self, name):\n",
        "        self.name_plate = name"
      ]
    },
    {
      "cell_type": "markdown",
      "metadata": {
        "id": "151zWM4Dv9dw"
      },
      "source": [
        "ここで、`__init__()` という名前のメソッドが `House` クラスの中に定義されています。\n",
        "メソッドの名前は自由に名付けることができますが、いくつか特別な意味を持つメソッド名が予め決められています。\n",
        "`__init__()` はそういったメソッドの一つで、**インスタンス化する際に自動的に呼ばれるメソッド**です。\n",
        "\n",
        "`House` クラスの `__init__()` は、`name` という引数をとり、これを `self.name_plate` という変数に代入しています。\n",
        "この `self` というのは、クラスがインスタンス化されたあと、作成されたインスタンス自身を参照するのに用いられます。\n",
        "これを使って、`self.name_plate = name` とすることで、作成された個別のインスタンスに属する変数 `self.name_plate` へ、引数に渡された `name` が持つ値を代入することができます。\n",
        "`self` が指すものは、各インスタンスから見た「自分自身」なので、各インスタンスごとに異なります。\n",
        "これによって、`self.name_plate` は各インスタンスに紐付いた別々の値を持つものとなります。\n",
        "\n",
        "メソッドは、インスタンスから呼び出されるとき自動的に第一引数にそのインスタンスへの参照を渡します。\n",
        "そのため、メソッドの第一引数は `self` とし、渡されてくる自分自身への参照を受け取るようにしています。\n",
        "ただし、呼び出す際には**そのインスタンスを引数に指定する必要はありません。**\n",
        "以下に具体例を示し、再度このことを確認します。\n",
        "\n",
        "それでは、上で定義した `House` クラスのインスタンスを作成してみます。\n",
        "クラスのインスタンス化には、クラス名のあとに `()` を追加して、クラスを呼び出すような記法を使います。\n",
        "この際、関数を呼び出すときと同様にして、`()` に引数を渡すことができます。\n",
        "その引数は、`__init__()` メソッドに渡されます。"
      ]
    },
    {
      "cell_type": "code",
      "execution_count": 1028,
      "metadata": {
        "id": "PE3dT2ytv9dx"
      },
      "outputs": [],
      "source": [
        "my_house = House('Python')"
      ]
    },
    {
      "cell_type": "code",
      "execution_count": 1029,
      "metadata": {
        "id": "MHATPs_1Aw_1"
      },
      "outputs": [
        {
          "data": {
            "text/plain": [
              "'Python'"
            ]
          },
          "execution_count": 1029,
          "metadata": {},
          "output_type": "execute_result"
        }
      ],
      "source": [
        "my_house.name_plate"
      ]
    },
    {
      "cell_type": "markdown",
      "metadata": {
        "id": "9xHHa6rwv9dx"
      },
      "source": [
        "`House` というクラスの `__init__()` メソッドに、`'Python'` という文字列を渡しています。\n",
        "`my_house` が、`House` クラスから作成されたインスタンスです。\n",
        "ここで、クラス定義では `__init__()` メソッドは `self` と `name` という 2 つの引数をとっていましたが、呼び出しの際には `'Python'` という一つの引数しか与えていませんでした。\n",
        "この `'Python'` という文字列は、1 つ目の引数であるにも関わらず、`__init__()` メソッドの定義では 2 つ目の引数であった `name` に渡されます。\n",
        "前述のように、**メソッドは、インスタンスから呼び出されるとき自動的に第一引数にそのインスタンスへの参照を渡す**ためです。\n",
        "この自動的に渡される自身への参照は、呼び出しの際には明示的に指定しません。\n",
        "また、かならず 1 つ目の引数に自動的に渡されるため、呼び出し時に明示的に与えられた引数は 2 つ目以降の引数に渡されたものとして取り扱われます。"
      ]
    },
    {
      "cell_type": "markdown",
      "metadata": {
        "id": "O7sTj_ONAw_3"
      },
      "source": [
        "## 関数を持ったクラス\n",
        "それでは次に、このクラスに `hello()` というメソッドを追加し、呼び出すと誰の家であるかを表示するという機能を実装してみます。"
      ]
    },
    {
      "cell_type": "code",
      "execution_count": 1030,
      "metadata": {
        "id": "k2Zcvs1xv9dx"
      },
      "outputs": [],
      "source": [
        "# クラスの定義\n",
        "class House:\n",
        "\n",
        "    # __init__() の定義\n",
        "    def __init__(self, name):\n",
        "        self.name_plate = name\n",
        "\n",
        "    # メソッドの定義\n",
        "    def hello(self):\n",
        "        print('{}の家です。'.format(self.name_plate))"
      ]
    },
    {
      "cell_type": "markdown",
      "metadata": {
        "id": "oTQagqYdv9dz"
      },
      "source": [
        "それでは、2 つのインスタンスを作成して、それぞれから `hello()` メソッドを呼び出してみます。"
      ]
    },
    {
      "cell_type": "code",
      "execution_count": 1031,
      "metadata": {
        "id": "MP8iXQM0v9dz"
      },
      "outputs": [
        {
          "name": "stdout",
          "output_type": "stream",
          "text": [
            "佐藤の家です。\n",
            "スズキの家です。\n"
          ]
        }
      ],
      "source": [
        "sato = House('佐藤')\n",
        "suzuki = House('スズキ')\n",
        "\n",
        "sato.hello()   # 実行の際には hello() の引数にある self は無視\n",
        "suzuki.hello() # 実行の際には hello() の引数にある self は無視"
      ]
    },
    {
      "cell_type": "markdown",
      "metadata": {
        "id": "_vI_Dqjdv9d0"
      },
      "source": [
        "`sato` というインスタンスの `name_plate` 属性には、`'佐藤'` という文字列が格納されています。  \n",
        "`suzuki` というインスタンスの `name_plate` 属性には、`'スズキ'` という文字列が格納されています。  \n",
        "それぞれのインスタンスから呼び出された `hello()` メソッドは、`self.name_plate` に格納された別々の値を `print()` を用いて表示しています。\n",
        "\n",
        "このように、同じ機能を持つが、インスタンスによって保持するデータが異なったり、一部の動作が異なったりするようなケースを扱うのにクラスを利用します。\n",
        "Python の `int` 型、`float` 型、`str` 型…などは、実際には `int` クラス、`float` クラス、`str` クラスであり、それらの中では個別の変数（インスタンス）がどのような値になるかには関係なく、同じ型であれば共通して持っている機能が定義されています。\n",
        "`5` や `0.3` や `'Python'` などは、それぞれ `int` クラスのインスタンス、`float` クラスのインスタンス、`str` クラスのインスタンスです。\n",
        "\n",
        "以上から、クラスを定義するというのは、**新しい型を作る**ということでもあると分かります。"
      ]
    },
    {
      "cell_type": "markdown",
      "metadata": {
        "id": "0M1dmJSacA7g"
      },
      "source": [
        "### 継承\n",
        "\n",
        "あるクラスを定義したら、その一部の機能を変更したり、新しい機能を付け足したりしたくなることがあります。\n",
        "これを実現する機能が**継承 (inheritance)** です。\n",
        "例えば、`Link` というクラスを定義し、そのクラスを継承した `Chain` という新しいクラスを作ってみましょう。\n",
        "まず、`Link` クラスを定義します。"
      ]
    },
    {
      "cell_type": "code",
      "execution_count": 1032,
      "metadata": {
        "id": "wn9XJxjpv9d0"
      },
      "outputs": [],
      "source": [
        "class Link:\n",
        "\n",
        "    def __init__(self):\n",
        "        self.a = 1\n",
        "        self.b = 2"
      ]
    },
    {
      "cell_type": "markdown",
      "metadata": {
        "id": "Qn0fSwvyv9d1"
      },
      "source": [
        "この `Link` というクラスは、インスタンス化を行う際には 1 つも引数をとりませんが、属性として `a` と `b` の 2 つの変数を保持し、それぞれには `__init__()` メソッドで 1 と 2 という値が代入されます。\n",
        "このクラスのインスタンスを作成してみます。"
      ]
    },
    {
      "cell_type": "code",
      "execution_count": 1033,
      "metadata": {
        "id": "BsfYK88qv9d1"
      },
      "outputs": [
        {
          "data": {
            "text/plain": [
              "1"
            ]
          },
          "execution_count": 1033,
          "metadata": {},
          "output_type": "execute_result"
        }
      ],
      "source": [
        "l = Link()\n",
        "\n",
        "l.a"
      ]
    },
    {
      "cell_type": "code",
      "execution_count": 1034,
      "metadata": {
        "id": "JA6sXOrvv9d2"
      },
      "outputs": [
        {
          "data": {
            "text/plain": [
              "2"
            ]
          },
          "execution_count": 1034,
          "metadata": {},
          "output_type": "execute_result"
        }
      ],
      "source": [
        "l.b"
      ]
    },
    {
      "cell_type": "markdown",
      "metadata": {
        "id": "DxipToKmv9d2"
      },
      "source": [
        "`l` という `Link` クラスのインスタンスが持つ 2 つの属性を表示しています。\n",
        "インスタンス化を行った際に `__init__()` メソッドの中で代入していた値が、表示されています。\n",
        "\n",
        "次に、このクラスを**継承**する、`Chain` というクラスを定義してみます。\n",
        "継承を行う場合は、クラス定義の際にクラス名に続けて `()` を書き、その中にベースにしたいクラスの名前を書きます。\n",
        "`()` の中に書かれたクラスのことを、定義されるクラスの**親クラス**といいます。\n",
        "それに対し、`()` の中に書かれたクラスからみると、定義されるクラスは**子クラス**と呼ばれます。\n",
        "親から子へ機能が受け継がれるためです。"
      ]
    },
    {
      "cell_type": "code",
      "execution_count": 1035,
      "metadata": {
        "id": "A4eTa6jZv9d3"
      },
      "outputs": [],
      "source": [
        "class Chain(Link):\n",
        "    \n",
        "    def sum(self):\n",
        "        return self.a + self.b"
      ]
    },
    {
      "cell_type": "markdown",
      "metadata": {
        "id": "dhxR4J0mv9d3"
      },
      "source": [
        "`Chain` クラスは `__init__()` メソッドの定義を持ちません。\n",
        "`__init__()` メソッドが定義されていない場合、親クラスの `__init__()`  メソッドが自動的に呼び出されます。\n",
        "そのため、`Chain` クラスでは一見何も属性を定義していないように見えますが、インスタンス化を行うと親クラスである `Link` の `__init__()`  メソッドが自動的に実行され、`a`、`b` という属性が定義されます。\n",
        "以下のコードで確認してみましょう。"
      ]
    },
    {
      "cell_type": "code",
      "execution_count": 1036,
      "metadata": {
        "id": "ipmqPwsKv9d3"
      },
      "outputs": [
        {
          "data": {
            "text/plain": [
              "1"
            ]
          },
          "execution_count": 1036,
          "metadata": {},
          "output_type": "execute_result"
        }
      ],
      "source": [
        "# Chain クラスをインスタンス化\n",
        "c = Chain()\n",
        "\n",
        "c.a"
      ]
    },
    {
      "cell_type": "code",
      "execution_count": 1037,
      "metadata": {
        "id": "lWL0VTMOv9d4"
      },
      "outputs": [
        {
          "data": {
            "text/plain": [
              "2"
            ]
          },
          "execution_count": 1037,
          "metadata": {},
          "output_type": "execute_result"
        }
      ],
      "source": [
        "c.b"
      ]
    },
    {
      "cell_type": "markdown",
      "metadata": {
        "id": "nVjBNK1Cv9d4"
      },
      "source": [
        "`Chain` クラスの `sum()` メソッドでは、この親クラスの `__init__()`  メソッドで定義されている 2 つの属性を足し合わせて返しています。\n",
        "今作成したインスタンスから、この `sum()` メソッドを呼び出してみます。"
      ]
    },
    {
      "cell_type": "code",
      "execution_count": 1038,
      "metadata": {
        "id": "pEf10A44v9d5"
      },
      "outputs": [
        {
          "data": {
            "text/plain": [
              "3"
            ]
          },
          "execution_count": 1038,
          "metadata": {},
          "output_type": "execute_result"
        }
      ],
      "source": [
        "# sum メソッドを実行\n",
        "c.sum()"
      ]
    },
    {
      "cell_type": "markdown",
      "metadata": {
        "id": "QI1v_Ib0v9d5"
      },
      "source": [
        "このように、**親クラスを継承し、親クラスに無かった新しい機能が追加された、新しいクラスを定義することができます。**\n",
        "\n",
        "それでは、この `Chain` というクラスにも `__init__()`  メソッドを定義して、新しい属性 `c` を定義し、`sum()` メソッドでは親クラスの `a`、`b` という属性とこの新たな `c` という属性の 3 つの和を返すように変更してみます。"
      ]
    },
    {
      "cell_type": "code",
      "execution_count": 1039,
      "metadata": {
        "id": "ds9A6Xfpv9d5"
      },
      "outputs": [],
      "source": [
        "class Chain(Link):\n",
        "\n",
        "    def __init__(self):\n",
        "        self.c = 5  # self.c を新たに追加\n",
        "    \n",
        "    def sum(self):\n",
        "        return self.a + self.b + self.c\n",
        "\n",
        "# インスタンス化\n",
        "C = Chain()"
      ]
    },
    {
      "cell_type": "code",
      "execution_count": 1040,
      "metadata": {
        "id": "_2_7avSHv9d6"
      },
      "outputs": [],
      "source": [
        "# error\n",
        "# C.sum()"
      ]
    },
    {
      "cell_type": "markdown",
      "metadata": {
        "id": "ZfTe1NMUv9d6"
      },
      "source": [
        "エラーが出ました。\n",
        "\n",
        "**エラーメッセージを読みましょう。**\n",
        "\n",
        "> AttributeError: 'Chain' object has no attribute 'a'\n",
        "\n",
        "`'Chain'` というオブジェクトは、`'a'` という名前の属性を持っていない、と言われています。\n",
        "`a` という属性は、`Chain` の親クラスである `Link` の `__init__()`  メソッドで定義されています。\n",
        "そのため、`Chain` クラスをインスタンス化する際に、親クラスである `Link` の `__init__()`  メソッドが呼ばれているのであれば、このエラーは起こらないはずです。\n",
        "なぜエラーとなってしまったのでしょうか。\n",
        "\n",
        "それは、`Chain` クラスにも `__init__()` メソッドを定義したため、親クラスである `Link` の `__init__()`  メソッドが上書きされてしまい、実行されなかったためです。\n",
        "しかし、親クラスの `__init__()`  メソッドを明示的に呼ぶことで、これは解決できます。\n",
        "\n",
        "それには、`super()` という組み込み関数を用います。\n",
        "これを用いると、子クラスから親クラスを参照することができます。"
      ]
    },
    {
      "cell_type": "code",
      "execution_count": 1041,
      "metadata": {
        "id": "_NcT6aN7v9d6"
      },
      "outputs": [],
      "source": [
        "class Chain(Link):\n",
        "\n",
        "    def __init__(self):\n",
        "        # 親クラスの `__init__()` メソッドを呼び出す\n",
        "        super().__init__()\n",
        "        \n",
        "        # self.c を新たに追加\n",
        "        self.c = 5\n",
        "    \n",
        "    def sum(self):\n",
        "        return self.a + self.b + self.c\n",
        "\n",
        "# インスタンス化\n",
        "c = Chain()"
      ]
    },
    {
      "cell_type": "code",
      "execution_count": 1042,
      "metadata": {
        "id": "FW__tTtGv9d7"
      },
      "outputs": [
        {
          "data": {
            "text/plain": [
              "8"
            ]
          },
          "execution_count": 1042,
          "metadata": {},
          "output_type": "execute_result"
        }
      ],
      "source": [
        "c.sum()"
      ]
    },
    {
      "cell_type": "markdown",
      "metadata": {
        "id": "HcDciFKRv9d7"
      },
      "source": [
        "今回はエラーが起きませんでした。\n",
        "`Link` クラスの `__init__()`  メソッドの冒頭で、まず親クラスの `__init__()`  メソッドを実行し、`a`、`b` という属性を定義しているためです。\n",
        "\n",
        "あるクラスを継承して作られたクラスを、さらに継承して別のクラスを定義することもできます。"
      ]
    },
    {
      "cell_type": "code",
      "execution_count": 1043,
      "metadata": {
        "id": "RmL3FvD-v9d7"
      },
      "outputs": [],
      "source": [
        "class MyNetwork(Chain):\n",
        "    \n",
        "    def mul(self):\n",
        "        return self.a * self.b * self.c"
      ]
    },
    {
      "cell_type": "markdown",
      "metadata": {
        "id": "21eb0EOKv9d8"
      },
      "source": [
        "`MyNetwork` クラスは、`Link` クラスを継承した `Chain` クラスをさらに継承したクラスで、`a`、`b`、`c` という 3 つの属性を掛け合わせた結果を返す `mul()` というメソッドを持ちます。\n",
        "\n",
        "このクラスのインスタンスを作成し、`mul()` を実行してみましょう。"
      ]
    },
    {
      "cell_type": "code",
      "execution_count": 1044,
      "metadata": {
        "id": "Cq4lJIm3v9d8"
      },
      "outputs": [
        {
          "data": {
            "text/plain": [
              "10"
            ]
          },
          "execution_count": 1044,
          "metadata": {},
          "output_type": "execute_result"
        }
      ],
      "source": [
        "net = MyNetwork()\n",
        "\n",
        "net.mul()"
      ]
    },
    {
      "cell_type": "markdown",
      "metadata": {
        "id": "VujV1nqfv9d8"
      },
      "source": [
        "$1 \\times 2 \\times 5 = 10$ が返ってきました。"
      ]
    },
    {
      "cell_type": "markdown",
      "metadata": {
        "id": "BNSDUwroAxAL"
      },
      "source": [
        "## プログラムの管理\n",
        "\n",
        "Python の文法としてはクラスまで理解できていれば問題有りませんが、活用の話を進めていくとモジュールやパッケージという概念が頻出します。簡単なモジュールやパッケージを作成して、それぞれの概念を理解しましょう。ここでの目標はそれぞれを自作できる力を身につけることではなく、どのようなもので、どのような構造になっているかなど、その大枠を理解するところでとどめておきましょう。  \n",
        "\n",
        "### モジュール\n",
        "\n",
        "モジュールとは関数やクラスをひとまとめにした Python ファイルです。Colab 上に modules.py という名前のファイルを作成しましょう。ファイル作成の手順は下記の画像に従って行ってください。作成を行う際には、まず Colab と仮想マシンが接続されていることを確認してください。    \n",
        "\n",
        "![Colab 上にファイルの作成 1](http://drive.google.com/uc?export=view&id=1JtlmI-iagQya27eadl-G3fuDTxsEr2VX)\n",
        "\n",
        "「ファイル」をクリックして、ファイル画面を開き、空白で右クリックします。  \n",
        "メニューが表示されたら、「新しいファイル」をクリックするとファイルを作成することができます。名前は modules.py という名前で作成します。  \n",
        "\n",
        "![Colab 上にファイルの作成 2](http://drive.google.com/uc?export=view&id=1L6quOgxnAc2BNGWHoQZZb4omd6knYXA8)\n",
        "\n",
        "ファイルの作成が完了したら、ファイル名をクリックして編集画面を開きましょう。  \n",
        "編集画面で下記のコードをコピー＆ペイストし、`Ctr + S` でファイルを保存しましょう。  \n",
        "\n",
        "```python\n",
        "\n",
        "# coding: utf-8\n",
        "\n",
        "# 返り値が複数個ある関数\n",
        "def hello(name1='kikagaku', name2='Python'):\n",
        "  result1 = 'Hello' + name1\n",
        "  result2 = 'Hello' + name2\n",
        "  return result1, result2\n",
        "\n",
        "# 模擬的な機械学習のクラス\n",
        "class Model:\n",
        "\n",
        "  def __init__(self, x, t):\n",
        "    self.x = x\n",
        "    self.t = t\n",
        "    self.w = None # 初期状態は値なし\n",
        "\n",
        "  # モデルの学習を行うメソッド（模擬）\n",
        "  def fit(self):\n",
        "    self.w = self.x + self.t\n",
        "\n",
        "  # モデルの検証を行うメソッド（模擬）\n",
        "  def score(self):\n",
        "    print(self.w)\n",
        "\n",
        "```\n",
        "\n",
        "modules.py で定義されている hello 関数と Model クラスはこれまでに取り扱った関数とクラスになりますが、今回はモジュールとして外部ファイルに保存しました。  \n",
        "この作成したモジュールの読み込みは以下のように行います。"
      ]
    },
    {
      "cell_type": "code",
      "execution_count": 1045,
      "metadata": {
        "id": "podTFQW_AxAM"
      },
      "outputs": [],
      "source": [
        "import modules"
      ]
    },
    {
      "cell_type": "markdown",
      "metadata": {
        "id": "A5wGj2VZAxAM"
      },
      "source": [
        "拡張子を無視して、`import ` ＋ ファイル名と宣言することで modules.py が読み込まれます。  \n",
        "これで、modules.py で定義されている関数やクラスを実行することができるようになります。modules.py で定義されいている Hello 関数を実行してみましょう。   "
      ]
    },
    {
      "cell_type": "code",
      "execution_count": 1046,
      "metadata": {
        "id": "JHu8hm3TAxAM"
      },
      "outputs": [
        {
          "data": {
            "text/plain": [
              "('Hellokikagaku', 'HelloPython')"
            ]
          },
          "execution_count": 1046,
          "metadata": {},
          "output_type": "execute_result"
        }
      ],
      "source": [
        "modules.hello()"
      ]
    },
    {
      "cell_type": "markdown",
      "metadata": {
        "id": "5bIgigNkAxAM"
      },
      "source": [
        "続いて、Model クラスを使用してみましょう。クラスを使用するためにはまずインスタンス化が必要でした。  "
      ]
    },
    {
      "cell_type": "code",
      "execution_count": 1047,
      "metadata": {
        "id": "1EiqDKlZAxAM"
      },
      "outputs": [],
      "source": [
        "# 疑似の入力値と目標値の定義\n",
        "x, t = 1, 2"
      ]
    },
    {
      "cell_type": "code",
      "execution_count": 1048,
      "metadata": {
        "id": "9tkysiAkAxAN"
      },
      "outputs": [],
      "source": [
        "# modules.py の Model クラスのインスタンス化\n",
        "model = modules.Model(x, t)"
      ]
    },
    {
      "cell_type": "markdown",
      "metadata": {
        "id": "jEyJpmX7AxAN"
      },
      "source": [
        "クラス内で定義されいている属性を確認しましょう。  "
      ]
    },
    {
      "cell_type": "code",
      "execution_count": 1049,
      "metadata": {
        "id": "TIXiTqB5AxAN"
      },
      "outputs": [],
      "source": [
        "# Model クラスに初期化されている w 属性の確認\n",
        "model.w"
      ]
    },
    {
      "cell_type": "markdown",
      "metadata": {
        "id": "P83tDhGCAxAO"
      },
      "source": [
        "続いて `.fit()` メソッドを用いて、模擬の学習を行います。 クラス内では `x` と `t` の値が加算されるようになっています。  "
      ]
    },
    {
      "cell_type": "code",
      "execution_count": 1050,
      "metadata": {
        "id": "25QO2AfyAxAO"
      },
      "outputs": [],
      "source": [
        "# インスタンス化したモデルの学習（模擬）\n",
        "model.fit()"
      ]
    },
    {
      "cell_type": "markdown",
      "metadata": {
        "id": "UXhCZDMjAxAO"
      },
      "source": [
        "学習後の `w` の値を確認しましょう。  \n",
        "`x` と `t` の値が加算されていれば、正常に動作しています。  "
      ]
    },
    {
      "cell_type": "code",
      "execution_count": 1051,
      "metadata": {
        "id": "MTCuQWJxAxAO"
      },
      "outputs": [
        {
          "data": {
            "text/plain": [
              "3"
            ]
          },
          "execution_count": 1051,
          "metadata": {},
          "output_type": "execute_result"
        }
      ],
      "source": [
        "# 学習完了後のモデルの重みの確認\n",
        "model.w"
      ]
    },
    {
      "cell_type": "markdown",
      "metadata": {
        "id": "u9o-M7ntAxAP"
      },
      "source": [
        "また、`import modules` のように実行すると、modules.py に記述されている全ての関数やクラスを読み込んでしまいます。必要な関数やクラスだけを読み込みたい場合は次のように実行します。  "
      ]
    },
    {
      "cell_type": "code",
      "execution_count": 1052,
      "metadata": {
        "id": "JX9lQKiHAxAP"
      },
      "outputs": [],
      "source": [
        "from modules import hello"
      ]
    },
    {
      "cell_type": "markdown",
      "metadata": {
        "id": "ZzaRoM0UAxAP"
      },
      "source": [
        "### パッケージ\n",
        "\n",
        "本格的にプログラムを作り込んでいくと、1 つのファイルに関数やクラスをまとめて記述することに限界が来るため、プロジェクト単位などモジュールを切り分け、全体をパッケージとする場合が多いです。今回は、kikagaku というパッケージを作成し、modules1 と modules2 というモジュールを格納してみましょう。  \n",
        "まず、kikagaku というフォルダを作成し、そこに modules1.py と modules2.py を作成してください。  \n",
        "\n",
        "フォルダの作成方法も先程のファイルの作成と同じ手順で、「新しいフォルダ」を選択します。  \n",
        "フォルダ内にファイルを作成する際にはフォルダ上で右クリックし、「新しいファイル」を選択します。  \n",
        "\n",
        "フォルダとファイルの構成は下記のようになっています。\n",
        "```\n",
        "\n",
        "kikagaku\n",
        "├── modules1.py\n",
        "└── modules2.py\n",
        "\n",
        "```\n",
        "\n",
        "それぞれのファイルに次の内容を記述してください。  \n",
        "\n",
        "`modules1.py`  \n",
        "\n",
        "```python\n",
        "\n",
        "# coding: utf-8\n",
        "\n",
        "def add(a, b):\n",
        "  return a + b\n",
        "\n",
        "def sub(a, b):\n",
        "  return a - b\n",
        "\n",
        "```\n",
        "\n",
        "\n",
        "`modules2.py`  \n",
        "\n",
        "```python\n",
        "\n",
        "# coding: utf-8\n",
        "\n",
        "def mul(a, b):\n",
        "  return a * b\n",
        "\n",
        "def div(a, b):\n",
        "  return a / b\n",
        "\n",
        "```\n",
        "\n",
        "実際に kikagaku というパッケージから modules1.py のモジュールを読み込み、関数を実行しましょう。"
      ]
    },
    {
      "cell_type": "code",
      "execution_count": 1053,
      "metadata": {
        "id": "3m9WE3INAxAQ"
      },
      "outputs": [],
      "source": [
        "from kikagaku import modules1"
      ]
    },
    {
      "cell_type": "code",
      "execution_count": 1054,
      "metadata": {
        "id": "FzyhUOf6AxAQ"
      },
      "outputs": [
        {
          "data": {
            "text/plain": [
              "4"
            ]
          },
          "execution_count": 1054,
          "metadata": {},
          "output_type": "execute_result"
        }
      ],
      "source": [
        "modules1.add(1, 3)"
      ]
    },
    {
      "cell_type": "code",
      "execution_count": 1055,
      "metadata": {
        "id": "WIVN4FvJAxAQ"
      },
      "outputs": [
        {
          "data": {
            "text/plain": [
              "-2"
            ]
          },
          "execution_count": 1055,
          "metadata": {},
          "output_type": "execute_result"
        }
      ],
      "source": [
        "modules1.sub(1, 3)"
      ]
    },
    {
      "cell_type": "markdown",
      "metadata": {
        "id": "zuyhvPatAxAR"
      },
      "source": [
        "パッケージもモジュールと同様に関数を指定して読み込むことも可能です。modules2.py の関数 `mul` 、`div` を指定すると次ぐのようになります。"
      ]
    },
    {
      "cell_type": "code",
      "execution_count": 1056,
      "metadata": {
        "id": "gTAyf4P8AxAR"
      },
      "outputs": [],
      "source": [
        "from kikagaku.modules2 import mul, div"
      ]
    },
    {
      "cell_type": "code",
      "execution_count": 1057,
      "metadata": {
        "id": "13GDwwiFAxAS"
      },
      "outputs": [
        {
          "data": {
            "text/plain": [
              "3"
            ]
          },
          "execution_count": 1057,
          "metadata": {},
          "output_type": "execute_result"
        }
      ],
      "source": [
        "mul(1, 3)"
      ]
    },
    {
      "cell_type": "code",
      "execution_count": 1058,
      "metadata": {
        "id": "-ArRjYEIAxAS"
      },
      "outputs": [
        {
          "data": {
            "text/plain": [
              "0.3333333333333333"
            ]
          },
          "execution_count": 1058,
          "metadata": {},
          "output_type": "execute_result"
        }
      ],
      "source": [
        "div(1, 3)"
      ]
    },
    {
      "cell_type": "markdown",
      "metadata": {
        "id": "zArCVx4fAxAS"
      },
      "source": [
        "このように、パッケージ内のモジュールから関数を読み込んで来ることができることがわかりました。  \n",
        "今回は関数のみを扱っていますが、モジュール内のクラスも当然取り扱うことが可能です。  \n",
        "\n",
        "ただし、このままだと `import kikagaku` のようにパッケージ名を読み込んだ場合 modules1 と modules2 が紐づきません。パッケージとモジュールの紐づける場合は、kikagaku フォルダ内に `__init__.py` を作成して次のように記述します。   \n",
        "\n",
        "`__init__.py`  \n",
        "\n",
        "```\n",
        "from . import modules1\n",
        "from . import modules2\n",
        "\n",
        "```\n",
        "\n",
        "ファイル構造は下記のようになっている必要があります。  \n",
        "\n",
        "```\n",
        "\n",
        "kikagaku\n",
        "├── __init__.py\n",
        "├── modules1.py\n",
        "└── modules2.py\n",
        "\n",
        "```\n",
        "\n",
        "こちらのファイルを kikagaku フォルダに追加した状態で再度パッケージを読み込み、モジュールを実行すると次のようになります。"
      ]
    },
    {
      "cell_type": "code",
      "execution_count": 1059,
      "metadata": {
        "id": "C66smkpyAxAT"
      },
      "outputs": [],
      "source": [
        "import kikagaku"
      ]
    },
    {
      "cell_type": "code",
      "execution_count": 1060,
      "metadata": {
        "id": "MFEu0RMXAxAT"
      },
      "outputs": [
        {
          "data": {
            "text/plain": [
              "3"
            ]
          },
          "execution_count": 1060,
          "metadata": {},
          "output_type": "execute_result"
        }
      ],
      "source": [
        "kikagaku.modules1.add(1, 2)"
      ]
    },
    {
      "cell_type": "code",
      "execution_count": 1061,
      "metadata": {
        "id": "XgqtK5suAxAT"
      },
      "outputs": [
        {
          "data": {
            "text/plain": [
              "6"
            ]
          },
          "execution_count": 1061,
          "metadata": {},
          "output_type": "execute_result"
        }
      ],
      "source": [
        "kikagaku.modules2.mul(2, 3)"
      ]
    },
    {
      "cell_type": "markdown",
      "metadata": {
        "id": "UDPSO3m5AxAT"
      },
      "source": [
        "今回はパッケージを簡単に自作しましたが、パッケージを自作することはもう少し先のステップです。次章以降では他の人が作った外部パッケージをインストールしてきて使用するため、読み込み方や階層構造の概念を理解していればひとまず大丈夫です。  "
      ]
    },
    {
      "cell_type": "markdown",
      "metadata": {
        "id": "_NIwGecbAxAU"
      },
      "source": [
        "## 練習問題 本章のまとめ\n",
        "\n",
        "本章で学んだ内容を復習しましょう。下記の内容を次のセルに記述し、実行結果を確認してください。（必要に応じてセルの追加を行ってください。）  \n",
        "\n",
        "下記の内容のクラス `House` を作成・実行し、実行結果を取得してください。  \n",
        "\n",
        "- 引数に `name`、`distance`、`crime` とるように、`__init__` 関数を作成\n",
        "- `get_info` という名前の、下記の実行例が表示されるような関数の作成\n",
        "\n",
        "*ヒント*  \n",
        "\n",
        "実行例は下記のようになります。  \n",
        "\n",
        "```python\n",
        "house = House('機械学習', 5, 0.3)\n",
        "house.get_info()\n",
        ">>>'名前は機械学習、駅からの距離は5km、犯罪発生率は0.3'\n",
        "```"
      ]
    },
    {
      "cell_type": "code",
      "execution_count": 1062,
      "metadata": {
        "id": "skt_exPgAxAU"
      },
      "outputs": [],
      "source": [
        "# クラスの定義\n",
        "class House:\n",
        "\n",
        "    def __init__(self, name, distance, crime):\n",
        "        self.name = name\n",
        "        self.distance = distance\n",
        "        self.crime = crime\n",
        "    \n",
        "    def get_info(self):\n",
        "        print('名前は', self.name, '、駅からの距離は', self.distance, 'km、犯罪発生率は', self.crime, '%', sep='')"
      ]
    },
    {
      "cell_type": "code",
      "execution_count": 1063,
      "metadata": {
        "id": "41kIlUm0AxAU"
      },
      "outputs": [],
      "source": [
        "# クラスのインスタンス化\n",
        "house = House('グンマー帝国', 2000, 30)"
      ]
    },
    {
      "cell_type": "code",
      "execution_count": 1064,
      "metadata": {
        "id": "GNfTmUf9AxAU"
      },
      "outputs": [
        {
          "name": "stdout",
          "output_type": "stream",
          "text": [
            "名前はグンマー帝国、駅からの距離は2000km、犯罪発生率は30%\n"
          ]
        }
      ],
      "source": [
        "# メソッドの実行\n",
        "house.get_info()"
      ]
    },
    {
      "cell_type": "markdown",
      "metadata": {
        "id": "9ELojfnPAxAW"
      },
      "source": [
        "<img src=\"http://drive.google.com/uc?export=view&id=1g2xjXbw5qYeqdJqcOf3uASvzBQxhlE8u\" width=30%>"
      ]
    }
  ],
  "metadata": {
    "colab": {
      "collapsed_sections": [
        "0M1dmJSacA7g",
        "ZzaRoM0UAxAP"
      ],
      "name": "TKBasic009_python_basic3.ipynb",
      "provenance": []
    },
    "kernelspec": {
      "display_name": ".venv",
      "language": "python",
      "name": "python3"
    },
    "language_info": {
      "codemirror_mode": {
        "name": "ipython",
        "version": 3
      },
      "file_extension": ".py",
      "mimetype": "text/x-python",
      "name": "python",
      "nbconvert_exporter": "python",
      "pygments_lexer": "ipython3",
      "version": "3.12.3"
    }
  },
  "nbformat": 4,
  "nbformat_minor": 0
}
