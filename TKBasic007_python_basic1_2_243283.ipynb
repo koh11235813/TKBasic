{
 "cells": [
  {
   "cell_type": "markdown",
   "metadata": {
    "id": "C81lic8iXmcg"
   },
   "source": [
    "# Python の基礎 1（データ構造と制御構文） \n",
    " "
   ]
  },
  {
   "cell_type": "markdown",
   "metadata": {
    "id": "_CMW13uMBlpk"
   },
   "source": [
    "本章ではプログラミング言語 Python の基礎的な文法を学んでいきます。  \n",
    "\n",
    "次章以降で登場するコードを理解するために必要な最低限の知識を習得することがゴールです。  \n",
    "詳細な知識を確認したい場合には、[Python公式チュートリアル](https://docs.python.jp/3/tutorial/index.html)を参照してください。  \n"
   ]
  },
  {
   "cell_type": "markdown",
   "metadata": {
    "id": "iHGl76oDXmcq"
   },
   "source": [
    "## 本章の構成\n",
    "- Python のバージョンについて\n",
    "- 必要な準備\n",
    "- Google Colaboratory の基本\n",
    "- Colab の基本的な使い方\n",
    "- Python の特徴\n",
    "- Python 基礎（データ構造）\n",
    "- 制御構文"
   ]
  },
  {
   "cell_type": "markdown",
   "metadata": {
    "id": "gXszNIo7Xmcr"
   },
   "source": [
    "## Python のバージョンについて\n",
    "Python には 2 系と 3 系といった 2 つのバージョンがあります。それぞれ基本的な機能は同じですが互換性のない部分があるので、本カリキュラムでは 3 系である **Python 3.6** 以上を前提とした解説を行っています。  "
   ]
  },
  {
   "cell_type": "markdown",
   "metadata": {
    "id": "TK3cXCQuBlpm"
   },
   "source": [
    "## 必要な準備\n",
    "\n",
    "本カリキュラムで使用するコードを実行するにあたって Google Colaboratory というサービスの利用を推奨します。  \n",
    "\n",
    "本章ではまず、 **Google Colaboratory** の利用方法を説明します。  \n",
    "必要な事前準備は下記２点です。  \n",
    "\n",
    "- Google アカウント（お持ちでない場合は[こちら](https://accounts.google.com/signup)から作成）\n",
    "- [Chrome](https://www.google.com/chrome/) もしくは [Firefox](https://www.mozilla.org/ja/firefox/new/) のインストール"
   ]
  },
  {
   "cell_type": "markdown",
   "metadata": {
    "id": "D3QflLv0qdiy"
   },
   "source": [
    "## Google Colaboratory の基本\n",
    "\n",
    "Google Colaboratory（以下 Colab ）は、クラウド上で [Jupyter Notebook](https://jupyter.org/)  環境を提供する Google のウェブサービスです。Jupyter Notebook はブラウザ上で主に以下のようなことが可能なオープンソースのウェブアプリケーションであり、データ分析の現場や研究、教育などで広く用いられています。\n",
    "\n",
    "- プログラムを実行と、その結果の確認\n",
    "- Markdown と呼ばれる文章を記述するためのマークアップ言語を使った、メモや解説などの記述の追加\n",
    "\n",
    "Colab では無料で GPU も使用することができますが、そのランタイムは**最大 12 時間**で消えてしまうため、長時間を要する処理などは別途環境を用意する必要があります。\n",
    "学びはじめのうちは、数分から数時間程度で終わる処理がほとんどであるため、気にする必要はありませんが、本格的に使っていく場合は有料のクラウドサービスを利用するなどして、環境を整えるようにしましょう。\n",
    "\n",
    "以降では、その基本的な使い方を説明します。"
   ]
  },
  {
   "cell_type": "markdown",
   "metadata": {
    "id": "SNVvaFdwBlpn"
   },
   "source": [
    "### Colab を開く\n",
    "\n",
    "まずは以下の URL にアクセスして、ブラウザで Google を開き、自分のアカウントにログインしてください。\n",
    "\n",
    "[https://www.google.com/](https://www.google.com/)\n",
    "\n",
    "ログインが完了したら、下記に沿って、Google Drive のページに移動します。Google Drive とはファイルなどを保存することのできるオンラインストレージサービスになります。  \n",
    "\n",
    "![Google Drive](http://drive.google.com/uc?export=view&id=1Or_pv96EGJkbuf0AGdGEydnrKGKKTgD_)\n",
    "\n",
    "Google Drive の右上にある「新規」ボタンをクリックし、下記の手順に沿って、Google Colaboratory を使用できるようにアプリの追加を行います。  \n",
    "\n",
    "![Google Drive2](http://drive.google.com/uc?export=view&id=12bKg9Khqyv5PpK9bFf57wrl4k_aRlqVu)\n",
    "\n",
    "![Google Drive3](http://drive.google.com/uc?export=view&id=1pVcvg_2q_VTj0_DJqoybL3wUswCAgwe0)\n",
    "\n",
    "![Google Drive4](http://drive.google.com/uc?export=view&id=1h4GwCJT7oARQkCAjRTcu5CVlOUlf6INW)\n",
    "\n",
    "これで Google Drive から Colab を使用することができるようになりました。  \n",
    "Google Drive 内に作業フォルダを作業して、資料をアップロードしましょう。フォルダの作成やファイルのアップロードを行うためには画面上で右クリックすると、選択肢が表示されます。  \n",
    "\n",
    "![作業フォルダ](http://drive.google.com/uc?export=view&id=1fdx3c3nc4odWe1Qmyvyawf1sJ5VtW0sH)\n",
    "\n",
    "![ファイルのアップロード](http://drive.google.com/uc?export=view&id=1Aw7IjHbdHPnyJ1dkEEjMI9kkx_IrD3pG)\n",
    "\n",
    "アップロードしたファイルをクリックし、ファイルを開きます。下記の画面が表示されればプログラミングを開始することができます。  \n",
    "\n",
    "![Jupyter Notebook にアクセス](http://drive.google.com/uc?export=view&id=1YuRzAB8jdGTR0u8bO7mcMhK_7xqKYudn)\n",
    "\n",
    "プログラミングを開始するためには右上にある「接続」ボタンをクリックし、ノートブックをサーバーに接続します。  \n",
    "\n",
    "もし、新規ノートブックを開く際には、下記の手順に沿ってファイルを作成します。  \n",
    "\n",
    "![Colab 上で Jupyter Notiiiiasdfjl;kjie"
   ]
  },
  {
   "cell_type": "markdown",
   "metadata": {
    "id": "SWEJAKWMBlpo"
   },
   "source": [
    "### 本資料の活用方法\n",
    "\n",
    "Colab 上ではコードの実行、メモの記入などを行うことができます。  \n",
    "本資料の活用は下記の使用方法を推奨します。  \n",
    "\n",
    "1. `Shift + Enter` でコードの実行結果を確認しながら、それぞれのコードの意味を理解する\n",
    "2. 気になった点などメモを取る\n",
    "3. 練習問題で学んだ内容をプログラミングし、内容の理解を確認する\n",
    "\n",
    "資料を読むだけではなく、実際にコードを実行し、その実行結果を確認することにより、より理解が深まります。また、項目ごとに復習のための練習問題を用意されているので、そちらで実際にプログラミングし、自身の理解度の確認に活用してください。  "
   ]
  },
  {
   "cell_type": "markdown",
   "metadata": {
    "id": "k4ak2UP9Blpp"
   },
   "source": [
    "## Colab の基本的な使い方\n",
    "\n",
    "Colab 上の Jupyter Notebook を以降、単に**ノートブック**と呼びます。  \n",
    "\n",
    "ノートブックは、複数の**セル**と呼ばれるブロックを持つことができます。\n",
    "新しいノートブックを作った直後では、何も書かれていないセルが一つだけ存在している状態になっています。\n",
    "セルの内側のどこかをクリックすると、そのセルを選択することができます。\n",
    "\n",
    "セルには、**コードセル**と**テキストセル**の 2 種類があります。\n",
    "**コードセル** は Python のコードを書き込み、実行するためのセルであり、**テキストセル**は、Markdown 形式で文章を書くためのセルです。\n",
    "\n",
    "それぞれのセルタイプについてもう少し詳しく説明をします。"
   ]
  },
  {
   "cell_type": "markdown",
   "metadata": {
    "id": "9hYkVljaBlpq"
   },
   "source": [
    "### コードセル\n",
    "\n",
    "コードセルは、Python のコードを書き込み、実行することができるセルです。\n",
    "実行するには、コードセルを選択した状態で、`Ctrl + Enter` または `Shift + Enter` を押します。\n",
    "試しに、下のセルを選択して、`Shift + Enter` を押してみてください。"
   ]
  },
  {
   "cell_type": "code",
   "execution_count": 4842,
   "metadata": {
    "colab": {
     "base_uri": "https://localhost:8080/",
     "height": 35
    },
    "id": "EaOJalpbBlpr",
    "outputId": "40291477-aa22-4151-da78-d2ae6d2eb627"
   },
   "outputs": [
    {
     "name": "stdout",
     "output_type": "stream",
     "text": [
      "Hello world!\n"
     ]
    }
   ],
   "source": [
    "print('Hello world!')"
   ]
  },
  {
   "cell_type": "markdown",
   "metadata": {
    "id": "8QsnHDylXQrb"
   },
   "source": [
    "すぐ下に、Hello world! という文字列が表示されました。\n",
    "上のセルに書き込まれているのは Python のコードで、与えられた文字列を表示する関数である `print()` に、`'Hello world!'` という文字列を渡しています。\n",
    "これを今実行したため、その結果が下に表示されています。\n",
    "\n",
    "プログラミング言語の Python については、後ほどより詳しく解説します。"
   ]
  },
  {
   "cell_type": "markdown",
   "metadata": {
    "id": "f7vtQ2SmBlpx"
   },
   "source": [
    "### テキストセル\n",
    "\n",
    "テキストセルでは、Markdown 形式で記述された文章を扱います。\n",
    "試しに、このセルをダブルクリックしてみてください。\n",
    "テキストセルが編集モードになり、Markdown 形式で文章を装飾するための、先程までは表示されていなかった記号が見えるようになります。\n",
    "\n",
    "その状態で `Shift + Enter` を押してみましょう。  \n",
    "\n",
    "もとの文章の表示に戻ります。"
   ]
  },
  {
   "cell_type": "markdown",
   "metadata": {
    "id": "wEwqOW9bBlpy"
   },
   "source": [
    "### Colab から Google Drive を使う\n",
    "\n",
    "Google Drive を Colab で開いたノートブックから利用することができます。\n",
    "ノートブック中でコードを実行して作成したファイルなどを保存したり、逆に Google Drive 上に保存されているデータを読み込んだりすることができます。\n",
    "\n",
    "Colab 上のノートブックから Google Drive を使うには、Colab 専用のツールを使って、`/content/drive` というパスに現在ログイン中の Google アカウントが持っている Google Drive のスペースをマウントします。"
   ]
  },
  {
   "cell_type": "code",
   "execution_count": 4843,
   "metadata": {
    "id": "TI3-V_gN3Ekr"
   },
   "outputs": [],
   "source": [
    "# from google.colab import drive\n",
    "# drive.mount('/content/drive')"
   ]
  },
  {
   "cell_type": "markdown",
   "metadata": {
    "id": "zllU5vanBlp2"
   },
   "source": [
    "このノートブックを Colab で開いてから初めて上のコードセルを実行した場合は、以下のようなメッセージが表示されます。\n",
    "\n",
    "![please authorize](http://drive.google.com/uc?export=view&id=1X_kMmn7DJa0PEFSdy7OPEW2Z1_pK0jmm)\n",
    "\n",
    "指示に従って表示されているURLへアクセスしてください。\n",
    "すると、「アカウントの選択」と書かれたページに飛び、すでにログイン済みの場合はログイン中の Google アカウントのアイコンやメールアドレスが表示されています。\n",
    "利用したいアカウントをクリックして、次に進んで下さい。\n",
    "すると次に、`Google Drive File Stream が Google アカウントへのアクセスをリクエストしています` と書かれたページに飛びます。\n",
    "\n",
    "![access request](http://drive.google.com/uc?export=view&id=1wp9JNxdeMZRm2w5W2ASNvScVu3_btTaz)\n",
    "\n",
    "右下に「許可」と書かれたボタンが見えます。\n",
    "こちらをクリックしてください。\n",
    "すると以下のように認証コードが記載されたページへ移動します。\n",
    "\n",
    "![access code](http://drive.google.com/uc?export=view&id=16AFfON1KzRaqmTyaxJltg0tyZy74mFJM)\n",
    "\n",
    "（この画像では認証コード部分をぼかしています）\n",
    "このコードを選択してコピーするか、右側にあるアイコンをクリックしてコピーしてください。\n",
    "\n",
    "元のノートブックへ戻り、`Enter your authorization code:` というメッセージの下にある空欄に、先程コピーした認証コードを貼り付けて、Enter キーを押してください。\n",
    "\n",
    "**Mounted at /content/drive** と表示されたら、準備は完了です。\n",
    "\n",
    "以下のセルを実行して、自分の Google Drive が Colab からアクセス可能になっていることを確認してください。"
   ]
  },
  {
   "cell_type": "code",
   "execution_count": 4844,
   "metadata": {
    "id": "osShvuIQ3GFy"
   },
   "outputs": [],
   "source": [
    "# 'My Drive'の表記が出ていればマウントがうまく行われています。\n",
    "# !ls 'drive/'"
   ]
  },
  {
   "cell_type": "markdown",
   "metadata": {
    "id": "DbvFPwpova8M"
   },
   "source": [
    "上のセルで実行しているのは Python のコードではありません。\n",
    "Jupyter Notebook では、コードセル中で `!` が先頭に付いている行は特別に解釈されます。`!ls` は、次に続くディレクトリの中にあるファイルまたはディレクトリの一覧を表示せよ、という意味です（注釈 1）。  \n",
    "\n",
    "本資料では基本的に使用する CSV ファイルなどはノートブックと接続しているサーバーに直接ファイルをアップロードする方法を取りますが、ファイルを Google Drive 内に保存し、そのファイルを使用したい方はこちらの方法でファイルの操作を行ってください。  \n",
    "\n",
    "（*注釈 1 : `ls` はシェルコマンドの 1 つです。*）"
   ]
  },
  {
   "cell_type": "markdown",
   "metadata": {
    "id": "jZNTuBQ54BSu"
   },
   "source": [
    "### Colab の便利なショートカット\n",
    "\n",
    "Colab を使用中に、セルのタイプの変更やセルの複製・追加などの操作をする場合は、メニューから該当する項目を選ぶ方法以外に、キーボードショートカットを利用する方法もあります。\n",
    "\n",
    "下記によく使う**ショートカットキー**をまとめておきます。\n",
    "多くのショートカットキーは**二段階**になっており、まず `Ctrl + M` を押してから、それぞれの機能によって異なるコマンドを入力する形になっています。\n",
    "\n",
    "| 説明                 | コマンド      |\n",
    "| -------------------- | ------------- |\n",
    "| Markdownモードへ変更 | Ctrl + M → M |\n",
    "| Codeモードへ変更     | Ctrl + M → Y |\n",
    "| セルを上に追加       | Ctrl + M → A |\n",
    "| セルを下に追加       | Ctrl + M → B |\n",
    "| セルのコピー         | Ctrl + M → C |\n",
    "| セルの貼り付け       | Ctrl + M → V |\n",
    "| セルの消去           | Ctrl + M → D |\n",
    "\n",
    "また、重要なショートカットキーとして、下記の 2 つがあります。これらのコマンドは `Ctrl + M` を入力する必要はありません。    \n",
    "\n",
    "- セルの実行 : `Shift + Enter` \n",
    "- コメントアウト : `Ctrl + /`\n",
    "\n",
    "コメントアウトとは、コード中で実行時に無視したい行やコメントを選択した状態で行う操作です。\n",
    "Python では、`#` の後に続く文字列は全て、コメントとして無視され、実行時に評価されることはありません。"
   ]
  },
  {
   "cell_type": "markdown",
   "metadata": {
    "id": "44vOyaBKEk3m"
   },
   "source": [
    "###  GPU を使用する\n",
    "\n",
    "Colab では GPU を無料で使用することができます。\n",
    "初期設定では GPU を使用しない設定となっているため、GPU を使用する場合は設定を変更する必要があります。\n",
    "\n",
    "GPU を使用する場合は、画面上部のタブの中の 「Runtime」 (または「ランタイム」) をクリックし、「Change runtime type」 (または「ランタイムのタイプを変更」)を選択します。  \n",
    "\n",
    "そして、下記の画像の様に 「Hardware accelerator」  (または「ハードウェアアクセラレータ」)を GPU に変更します。  \n",
    "\n",
    "![GPUの設定](http://drive.google.com/uc?export=view&id=12j6SHcd5aw_Hw4huvfMFAzN_VHHsA0d5)\n",
    "\n",
    "これで Colab 上で GPU を使用できるようになりました。\n",
    "\n"
   ]
  },
  {
   "cell_type": "markdown",
   "metadata": {
    "id": "QoQHVO6rva8O"
   },
   "source": [
    "これで、資料の本編に入っていく準備が完了しました。次の章では、Python というプログラミング言語の基本について解説します。"
   ]
  },
  {
   "cell_type": "markdown",
   "metadata": {
    "id": "SreT4ecEXmc5"
   },
   "source": [
    "## Python の特徴\n",
    "\n",
    "プログラミング言語には、Python 以外にも C 言語や Java、Ruby、R のように様々なものがあります。それぞれの言語がすべての用途に適しているわけではなく、しばしば用途によって得手不得手があります。  \n",
    "\n",
    "本チュートリアルでは基本的に Python というプログラミング言語を扱います。\n",
    "その理由は、Python はデータ解析・機械学習のためのパッケージが充実しており、データ解析や機械学習の分野で最もよく使われている言語だからです。  \n",
    "また、Web アプリケーションフレームワークの開発も活発で、データ解析だけでなく Web サービス開発まで同じ言語で統一して行える点も魅力です。  \n",
    "\n",
    "\n",
    "\n",
    "さらには、初学者にとっても学びやすい言語です。  \n",
    "初学者がプログラミングを学び始めるときにつまづきがちな難しい概念が他の言語と比べ多くなく、入門しやすい言語といえます。  \n",
    "\n",
    "まとめると、Python には  \n",
    "\n",
    "- データ解析や機械学習によく使われている  \n",
    "- Web アプリケーションの開発などでもよく使われている  \n",
    "- 初学者がはじめやすい言語  \n",
    "\n",
    "のような魅力があります。   \n",
    "\n",
    "\n",
    "### 文法とアルゴリズム\n",
    "\n",
    "プログラミングによってある特定の処理をコンピュータで自動化したい場合、**文法**と**アルゴリズム**の 2 つを理解しておく必要があります。\n",
    "\n",
    "プログラムでは、まずはじめにコンピュータに命令を伝えるためのルールとなる**文法**を覚える必要があります。\n",
    "文法を無視した記述があるプログラムは、実行した際にエラーとなり処理が停止します。そのため、文法はしっかりと理解しておく必要があります。\n",
    "\n",
    "ただし、文法さえ理解していれば十分かというとそうではありません。一般的に、初学者向けのプログラミングの参考書では、この文法だけを取り扱うことも多いのですが、コンピュータに処理を自動化させることが目的であれば、文法だけでなく**アルゴリズム**も理解する必要があります。アルゴリズムとは、どういう順番でどのような処理をしていくかの一連の手順をまとめたものです。\n",
    "\n",
    "この章では、アルゴリズムを学ぶ上での基礎となる Python の文法について紹介します。  \n",
    "機械学習やディープラーニングで必要となるアルゴリズムについてはこれ以降の章で紹介します。"
   ]
  },
  {
   "cell_type": "markdown",
   "metadata": {
    "id": "6g610M8ZXmc7"
   },
   "source": [
    "## Python基礎（データ構造）\n",
    "データ構造を理解する上で必要となる以下５つに関して説明して行きます。  \n",
    "\n",
    "- 変数  \n",
    "- 変数の型  \n",
    "- 算術演算子  \n",
    "- 比較演算子  \n",
    "- リスト、辞書、タプル  \n"
   ]
  },
  {
   "cell_type": "markdown",
   "metadata": {
    "id": "hFr15AoSXmc8"
   },
   "source": [
    "### 変数\n",
    "\n",
    "**変数 (variable)** とは、様々な値を格納することができる、**名前がついた入れ物**です。\n",
    "この変数に値を格納したり、更新したりすることで、計算結果を一時的に保持しておくことができます。\n",
    "\n",
    "それでは、`a` という名前の変数に、`1` を**代入**してみましょう。"
   ]
  },
  {
   "cell_type": "code",
   "execution_count": 4845,
   "metadata": {
    "id": "A1tiJCt0Xmc9"
   },
   "outputs": [],
   "source": [
    "a = 1"
   ]
  },
  {
   "cell_type": "markdown",
   "metadata": {
    "id": "SN3yk0FwXmc9"
   },
   "source": [
    "代入は `=` の記号を用います。\n",
    "数学的には `=` は等しいという意味を持ちますが、Python では**「左辺の変数に、右辺の値を代入する」**という意味になります。\n",
    "\n",
    "Jupyter Notebook 上では、変数名だけ、もしくは変数名を最後の行に記述したセルを実行すると、値を確認することができます。"
   ]
  },
  {
   "cell_type": "code",
   "execution_count": 4846,
   "metadata": {
    "id": "7UAo9Bz-Xmc9"
   },
   "outputs": [
    {
     "data": {
      "text/plain": [
       "1"
      ]
     },
     "execution_count": 4846,
     "metadata": {},
     "output_type": "execute_result"
    }
   ],
   "source": [
    "a"
   ]
  },
  {
   "cell_type": "markdown",
   "metadata": {
    "id": "zZpCRISmXmc9"
   },
   "source": [
    "このように、変数に格納されている値を確認することができました。\n",
    "また、値を確認するための他の方法として、`print()` と呼ばれる**関数 (function)** を使用することもできます。\n",
    "関数について詳しくは後述しますが、`print()` のように Python には予め多くの関数が定義されています。 そのような関数を**組み込み関数 (built-in function)** といいます。"
   ]
  },
  {
   "cell_type": "code",
   "execution_count": 4847,
   "metadata": {
    "id": "T0dhbRm4Xmc-"
   },
   "outputs": [
    {
     "name": "stdout",
     "output_type": "stream",
     "text": [
      "1\n"
     ]
    }
   ],
   "source": [
    "print(a)"
   ]
  },
  {
   "cell_type": "markdown",
   "metadata": {
    "id": "oqXwoD3IXmc-"
   },
   "source": [
    "変数名だけをセルに記入して実行する場合と`print()`を利用する場合の違いについては、後述します。"
   ]
  },
  {
   "cell_type": "markdown",
   "metadata": {
    "id": "96Slb_-iXmc-"
   },
   "source": [
    "変数につける名前は、コードを書く人が自由に決めることができます。\n",
    "ただし、わかりやすい名前をつけることがとても大切です。\n",
    "例えば、人の名前を格納するための変数が `a` という変数名だと、それがどのような使われ方をするのかを容易に類推することができません。\n",
    "`name` という名前であれば、ひと目で見て何のための変数かが分かるようになります。\n",
    "これは、自分のコードを読む他人や、未来の自分にとってコードを理解するための大きな手がかりとなります。"
   ]
  },
  {
   "cell_type": "markdown",
   "metadata": {
    "id": "sarp3FmOXmc_"
   },
   "source": [
    "### 変数の型\n",
    "\n",
    "プログラミングで扱う値には種類があります。\n",
    "Python では、**整数 (integer)**、**実数 (real number)**、**文字列 (string)** などが代表的な値の種類です。\n",
    "それぞれの種類によって、コンピュータ内での取扱い方が異なり、この種類のことは一般に**型 (type)** と呼びます。\n",
    "\n",
    "例えば、整数、実数、そして文字列をそれぞれ別々の変数に代入するコードは以下のとおりです。"
   ]
  },
  {
   "cell_type": "code",
   "execution_count": 4848,
   "metadata": {
    "id": "swvc1CPWXmc_"
   },
   "outputs": [],
   "source": [
    "a = 1"
   ]
  },
  {
   "cell_type": "code",
   "execution_count": 4849,
   "metadata": {
    "id": "SHKbhLEpXmc_"
   },
   "outputs": [],
   "source": [
    "b = 1.2"
   ]
  },
  {
   "cell_type": "code",
   "execution_count": 4850,
   "metadata": {
    "id": "LDHMpd4qXmc_"
   },
   "outputs": [],
   "source": [
    "c = 'Python'"
   ]
  },
  {
   "cell_type": "markdown",
   "metadata": {
    "id": "9lXfWAwHXmdA"
   },
   "source": [
    "コンピュータの中での取り扱い方は異なりますが、Python では**変数の型を自動的に決定する**ため、初めのうちはあまり気にする必要はありません。\n",
    "ただし、違う型同士の演算では場合によってエラーが発生するなどの問題が生じるため、簡単に型の特徴は把握しておく必要があります。\n",
    "\n",
    "まずは、上記の `a`, `b`, `c` の型を確認する方法を紹介します。\n",
    "型の確認は `type()` という組み込み関数を使用します。"
   ]
  },
  {
   "cell_type": "code",
   "execution_count": 4851,
   "metadata": {
    "id": "aKOUKe5NXmdA"
   },
   "outputs": [
    {
     "data": {
      "text/plain": [
       "int"
      ]
     },
     "execution_count": 4851,
     "metadata": {},
     "output_type": "execute_result"
    }
   ],
   "source": [
    "type(a)"
   ]
  },
  {
   "cell_type": "code",
   "execution_count": 4852,
   "metadata": {
    "id": "PVuwUTsAXmdA"
   },
   "outputs": [
    {
     "data": {
      "text/plain": [
       "float"
      ]
     },
     "execution_count": 4852,
     "metadata": {},
     "output_type": "execute_result"
    }
   ],
   "source": [
    "type(b)"
   ]
  },
  {
   "cell_type": "code",
   "execution_count": 4853,
   "metadata": {
    "id": "uvHXM_N1XmdB"
   },
   "outputs": [
    {
     "data": {
      "text/plain": [
       "str"
      ]
     },
     "execution_count": 4853,
     "metadata": {},
     "output_type": "execute_result"
    }
   ],
   "source": [
    "type(c)"
   ]
  },
  {
   "cell_type": "markdown",
   "metadata": {
    "id": "63vGileHXmdB"
   },
   "source": [
    "`a` は `int` という整数の型をもつ変数であり、`b` は `float` という実数の型をもつ変数です。\n",
    "この `float` という型の名前は、コンピュータ内で実数を扱うときの形式である**浮動小数点数 (floating-point number)** に由来しています。\n",
    "\n",
    "`c` は `str` という文字列の型をもつ変数であり、値を定義するにはシングルクォーテーション `' '` もしくはダブルクォーテーション `\" \"` で対象の文字列をくくる必要があります。"
   ]
  },
  {
   "cell_type": "markdown",
   "metadata": {
    "id": "ReTZdPqoXmdB"
   },
   "source": [
    "Python では、`.` を含まない連続した数字を `int`、直前・直後も含め `.` が含まれる連続した数字を `float` だと自動的に解釈します。\n",
    "例えば、`7` や `365` は `int` ですが、`2.718`、`.25`、`10.` などは `float` になります。\n",
    "\n",
    "実数の `0` は `0.0` とも `.0` とも `0.` とも書くことができます。"
   ]
  },
  {
   "cell_type": "code",
   "execution_count": 4854,
   "metadata": {
    "id": "jTZt6uKVXmdB"
   },
   "outputs": [
    {
     "data": {
      "text/plain": [
       "int"
      ]
     },
     "execution_count": 4854,
     "metadata": {},
     "output_type": "execute_result"
    }
   ],
   "source": [
    "type(0)"
   ]
  },
  {
   "cell_type": "code",
   "execution_count": 4855,
   "metadata": {
    "id": "WwV4mfzaXmdC"
   },
   "outputs": [
    {
     "data": {
      "text/plain": [
       "float"
      ]
     },
     "execution_count": 4855,
     "metadata": {},
     "output_type": "execute_result"
    }
   ],
   "source": [
    "type(0.)"
   ]
  },
  {
   "cell_type": "code",
   "execution_count": 4856,
   "metadata": {
    "id": "FARGqdxmXmdC"
   },
   "outputs": [
    {
     "data": {
      "text/plain": [
       "float"
      ]
     },
     "execution_count": 4856,
     "metadata": {},
     "output_type": "execute_result"
    }
   ],
   "source": [
    "type(.0)"
   ]
  },
  {
   "cell_type": "markdown",
   "metadata": {
    "id": "hIgJdJAeXmdD"
   },
   "source": [
    "例えば、実数の `5` は以下のように書くことができます。"
   ]
  },
  {
   "cell_type": "code",
   "execution_count": 4857,
   "metadata": {
    "id": "CvOzsdmEXmdD"
   },
   "outputs": [
    {
     "data": {
      "text/plain": [
       "float"
      ]
     },
     "execution_count": 4857,
     "metadata": {},
     "output_type": "execute_result"
    }
   ],
   "source": [
    "type(5.0)"
   ]
  },
  {
   "cell_type": "code",
   "execution_count": 4858,
   "metadata": {
    "id": "GXnE_5x_XmdE"
   },
   "outputs": [
    {
     "data": {
      "text/plain": [
       "float"
      ]
     },
     "execution_count": 4858,
     "metadata": {},
     "output_type": "execute_result"
    }
   ],
   "source": [
    "type(5.)"
   ]
  },
  {
   "cell_type": "markdown",
   "metadata": {
    "id": "CR7yQjQnXmdE"
   },
   "source": [
    "一方、`.5` と書くと、これは `0.5` の略記と解釈されることに注意してください。"
   ]
  },
  {
   "cell_type": "code",
   "execution_count": 4859,
   "metadata": {
    "id": "NEhyxOrzXmdE"
   },
   "outputs": [
    {
     "data": {
      "text/plain": [
       "float"
      ]
     },
     "execution_count": 4859,
     "metadata": {},
     "output_type": "execute_result"
    }
   ],
   "source": [
    "type(.5)"
   ]
  },
  {
   "cell_type": "code",
   "execution_count": 4860,
   "metadata": {
    "id": "pldH4D_VXmdE"
   },
   "outputs": [
    {
     "name": "stdout",
     "output_type": "stream",
     "text": [
      "0.5\n"
     ]
    }
   ],
   "source": [
    "print(.5)"
   ]
  },
  {
   "cell_type": "markdown",
   "metadata": {
    "id": "R3AoU0w6XmdF"
   },
   "source": [
    "また、Python では複数の変数に対する代入を一度に行うことができ、**複数同時の代入 (multiple assignment)** と呼びます。  \n",
    "\n",
    "\n",
    "\n",
    "\n",
    "複数同時の代入は後の章で頻出するため、覚えておきましょう。"
   ]
  },
  {
   "cell_type": "code",
   "execution_count": 4861,
   "metadata": {
    "id": "SjOuePAcXmdF"
   },
   "outputs": [],
   "source": [
    "a, b = 1, 1.2"
   ]
  },
  {
   "cell_type": "code",
   "execution_count": 4862,
   "metadata": {
    "id": "mNQGewg2XmdF"
   },
   "outputs": [],
   "source": [
    "a, b, c = 1, 1.2, 'Python'"
   ]
  },
  {
   "cell_type": "markdown",
   "metadata": {
    "id": "VsdsnV9uiQev"
   },
   "source": [
    "### 算術演算子\n",
    "\n",
    "様々な計算を意味する**演算子**と呼ばれる記号があります。\n",
    "はじめに紹介するのは**算術演算子 (arithmetic operator)** と呼ばれるもので、 2 つの変数または値を取り、 1 つの演算結果を返します。\n",
    "\n",
    "代表的な演算として**四則演算（加算・減算・乗算・除算）**があります。\n",
    "四則演算に対応する演算子として、Python では以下の記号が用いられます。\n",
    "\n",
    "| 演算 | 記号 |\n",
    "|------|------|\n",
    "| 加算（足し算） | `+` |\n",
    "| 減算（引き算） | `-` |\n",
    "| 乗算（掛け算） | `*` |\n",
    "| 除算（割り算） | `/` |\n",
    "\n",
    "具体例を見ながら使い方を説明します。"
   ]
  },
  {
   "cell_type": "code",
   "execution_count": 4863,
   "metadata": {
    "id": "MBaRZ2RkBWbd"
   },
   "outputs": [
    {
     "data": {
      "text/plain": [
       "2"
      ]
     },
     "execution_count": 4863,
     "metadata": {},
     "output_type": "execute_result"
    }
   ],
   "source": [
    "# 整数と整数で加算 -> 結果は整数\n",
    "1+1"
   ]
  },
  {
   "cell_type": "markdown",
   "metadata": {
    "id": "DE56EVRvIfFJ"
   },
   "source": [
    "このように、演算子を使う際には、**記号の両側に値を書きます。**\n",
    "このとき、演算子の両側にひとつずつ空白を空けることが多いです。\n",
    "文法的な意味はありませんが、コードが読みやすくなります。\n",
    "この空白は Python のコーディング規約である [PEP8](https://www.python.org/dev/peps/pep-0008/#should-a-line-break-before-or-after-a-binary-operator) でも推奨されています。"
   ]
  },
  {
   "cell_type": "code",
   "execution_count": 4864,
   "metadata": {
    "id": "BSsWGE_Ev9bH"
   },
   "outputs": [
    {
     "data": {
      "text/plain": [
       "2"
      ]
     },
     "execution_count": 4864,
     "metadata": {},
     "output_type": "execute_result"
    }
   ],
   "source": [
    "1 + 1"
   ]
  },
  {
   "cell_type": "markdown",
   "metadata": {
    "id": "ai1hzuv6v9bJ"
   },
   "source": [
    "値が代入されている変数との演算も下記のように行うことができます。"
   ]
  },
  {
   "cell_type": "code",
   "execution_count": 4865,
   "metadata": {
    "id": "yvA4BP5hIfFJ"
   },
   "outputs": [
    {
     "data": {
      "text/plain": [
       "3"
      ]
     },
     "execution_count": 4865,
     "metadata": {},
     "output_type": "execute_result"
    }
   ],
   "source": [
    "a + 2"
   ]
  },
  {
   "cell_type": "markdown",
   "metadata": {
    "id": "y6xkeITrv9bL"
   },
   "source": [
    "また、`int` と `float` は異なる型同士ですが、計算を行うことができます。\n",
    "`int` と `float` の演算結果の型は `float` になります。"
   ]
  },
  {
   "cell_type": "code",
   "execution_count": 4866,
   "metadata": {
    "id": "IjU6vwcdIfFM"
   },
   "outputs": [
    {
     "data": {
      "text/plain": [
       "2.2"
      ]
     },
     "execution_count": 4866,
     "metadata": {},
     "output_type": "execute_result"
    }
   ],
   "source": [
    "# 整数と実数で加算 -> 結果は実数\n",
    "a + b"
   ]
  },
  {
   "cell_type": "markdown",
   "metadata": {
    "id": "PwsK4SxPIfFN"
   },
   "source": [
    "他の演算子の例を示します。"
   ]
  },
  {
   "cell_type": "code",
   "execution_count": 4867,
   "metadata": {
    "id": "hL5QmnGgBYNF"
   },
   "outputs": [
    {
     "data": {
      "text/plain": [
       "1"
      ]
     },
     "execution_count": 4867,
     "metadata": {},
     "output_type": "execute_result"
    }
   ],
   "source": [
    "# 整数と整数で減算 -> 結果は整数\n",
    "2 - 1"
   ]
  },
  {
   "cell_type": "code",
   "execution_count": 4868,
   "metadata": {
    "id": "huifgJVkv9bR"
   },
   "outputs": [
    {
     "data": {
      "text/plain": [
       "1.5"
      ]
     },
     "execution_count": 4868,
     "metadata": {},
     "output_type": "execute_result"
    }
   ],
   "source": [
    "# 実数と整数で減算 -> 結果は実数\n",
    "3.5 - 2"
   ]
  },
  {
   "cell_type": "code",
   "execution_count": 4869,
   "metadata": {
    "id": "v82yE4keBZeo"
   },
   "outputs": [
    {
     "data": {
      "text/plain": [
       "15"
      ]
     },
     "execution_count": 4869,
     "metadata": {},
     "output_type": "execute_result"
    }
   ],
   "source": [
    "# 整数と整数で乗算 -> 結果は整数\n",
    "3 * 5"
   ]
  },
  {
   "cell_type": "code",
   "execution_count": 4870,
   "metadata": {
    "id": "kYYOMXTHv9bX"
   },
   "outputs": [
    {
     "data": {
      "text/plain": [
       "5.0"
      ]
     },
     "execution_count": 4870,
     "metadata": {},
     "output_type": "execute_result"
    }
   ],
   "source": [
    "# 実数と整数で乗算 -> 結果は実数\n",
    "2.5 * 2"
   ]
  },
  {
   "cell_type": "code",
   "execution_count": 4871,
   "metadata": {
    "id": "KHRGnOcNBi05"
   },
   "outputs": [
    {
     "data": {
      "text/plain": [
       "1.5"
      ]
     },
     "execution_count": 4871,
     "metadata": {},
     "output_type": "execute_result"
    }
   ],
   "source": [
    "# 整数と整数で除算 -> 結果は実数\n",
    "3 / 2"
   ]
  },
  {
   "cell_type": "code",
   "execution_count": 4872,
   "metadata": {
    "id": "NxnIvty-v9bd"
   },
   "outputs": [
    {
     "data": {
      "text/plain": [
       "2.0"
      ]
     },
     "execution_count": 4872,
     "metadata": {},
     "output_type": "execute_result"
    }
   ],
   "source": [
    "# 整数と整数で除算 -> 結果は実数\n",
    "4 / 2"
   ]
  },
  {
   "cell_type": "markdown",
   "metadata": {
    "id": "TDJRJR5vIfFe"
   },
   "source": [
    "Python 3 では、 `/` 記号を用いて除算を行う場合、除数（割る数）と被除数（割られる数）が整数であっても、計算結果として実数が返ります。\n",
    "計算結果として実数を返す除算のことを特に、**真の除算 (true division)** と言います。\n",
    "一方、商（整数部分）を返すような除算演算子として、 `//` 記号が用意されています。 `/` 記号を 2 回、間を空けずに繰り返します。計算結果として商を返す除算のことを、 **切り捨て除算 (floor division)** と呼びます。\n",
    "商を計算したい場合に便利な演算子であるため、こちらも覚えておきましょう。\n",
    "\n",
    "※ Python 2 では、除数も被除数も整数であった場合、 `/` 記号を用いても切り捨て除算が行われるので注意してください。"
   ]
  },
  {
   "cell_type": "code",
   "execution_count": 4873,
   "metadata": {
    "id": "PFwX_4_pBbY0"
   },
   "outputs": [
    {
     "data": {
      "text/plain": [
       "1"
      ]
     },
     "execution_count": 4873,
     "metadata": {},
     "output_type": "execute_result"
    }
   ],
   "source": [
    "# 整数と整数で切り捨て除算 -> 結果は整数\n",
    "3 // 2"
   ]
  },
  {
   "cell_type": "code",
   "execution_count": 4874,
   "metadata": {
    "id": "nCyFpJHKv9bh"
   },
   "outputs": [
    {
     "data": {
      "text/plain": [
       "2"
      ]
     },
     "execution_count": 4874,
     "metadata": {},
     "output_type": "execute_result"
    }
   ],
   "source": [
    "# 整数と整数で切り捨て除算 -> 結果は整数\n",
    "4 // 2"
   ]
  },
  {
   "cell_type": "markdown",
   "metadata": {
    "id": "Mywi7srHv9bj"
   },
   "source": [
    "また、ここで注意すべき点として、整数や実数と文字列の演算は基本的にエラーになります。"
   ]
  },
  {
   "cell_type": "code",
   "execution_count": 4875,
   "metadata": {
    "id": "ia8mAAr5v9bj"
   },
   "outputs": [],
   "source": [
    "# error\n",
    "# a + c"
   ]
  },
  {
   "cell_type": "markdown",
   "metadata": {
    "id": "T24iNnwSv9bk"
   },
   "source": [
    "**エラーメッセージを読みましょう。**\n",
    "\n",
    "> TypeError: unsupported operand type(s) for +: 'int' and 'str'\n",
    "\n",
    "と言われています。「+ にとって int と str はサポートされていない被作用子（ + が作用する対象のこと。operand）です」と書かれています。「int に str を足す」ということはできないというわけです。\n",
    "\n",
    "`int` もしくは `float` と、 `str` の間の加算、減算、除算では上記のエラーが生じます。\n",
    "ただし、`str` と `int` の**乗算**は特別にサポートされており、計算を実行することができます。"
   ]
  },
  {
   "cell_type": "code",
   "execution_count": 4876,
   "metadata": {
    "id": "oKJmWQKcv9bl"
   },
   "outputs": [
    {
     "data": {
      "text/plain": [
       "'PythonPythonPython'"
      ]
     },
     "execution_count": 4876,
     "metadata": {},
     "output_type": "execute_result"
    }
   ],
   "source": [
    "# str と int で乗算\n",
    "c * 3"
   ]
  },
  {
   "cell_type": "markdown",
   "metadata": {
    "id": "xPX4dcGUv9bm"
   },
   "source": [
    "上のコードは、`c` という文字列を `3` 回繰り返す、という意味になります。"
   ]
  },
  {
   "cell_type": "markdown",
   "metadata": {
    "id": "mmlvVMcIv9bm"
   },
   "source": [
    "`str` 同士は足し算を行うことができます。"
   ]
  },
  {
   "cell_type": "code",
   "execution_count": 4877,
   "metadata": {
    "id": "DOK7H8LJv9bn"
   },
   "outputs": [
    {
     "data": {
      "text/plain": [
       "'Pythonチュートリアル'"
      ]
     },
     "execution_count": 4877,
     "metadata": {},
     "output_type": "execute_result"
    }
   ],
   "source": [
    "name1 = 'Python'\n",
    "name2 = 'チュートリアル'\n",
    "\n",
    "name1 + name2"
   ]
  },
  {
   "cell_type": "markdown",
   "metadata": {
    "id": "QoCq87hkv9bq"
   },
   "source": [
    "整数と文字列を連結したいこともあります。\n",
    "例えば、`1` という整数に、 `'番目'` という文字列を足して `'1番目'` という文字列を作りたいような場合です。\n",
    "その場合には、型を変換する**キャスト (cast)** という操作をする必要があります。\n",
    "\n",
    "何かを `int` にキャストしたい場合は `int()` という組み込み関数を使い、`str` にキャストしたい場合は `str()` という組み込み関数を使います。では、`1` という整数を `str` にキャストして、 `'番目'` という文字列と足し算を行ってみましょう。"
   ]
  },
  {
   "cell_type": "code",
   "execution_count": 4878,
   "metadata": {
    "id": "H8E1Puhmv9bq"
   },
   "outputs": [
    {
     "data": {
      "text/plain": [
       "1"
      ]
     },
     "execution_count": 4878,
     "metadata": {},
     "output_type": "execute_result"
    }
   ],
   "source": [
    "1"
   ]
  },
  {
   "cell_type": "code",
   "execution_count": 4879,
   "metadata": {
    "id": "TlnTtXUnv9br"
   },
   "outputs": [
    {
     "data": {
      "text/plain": [
       "int"
      ]
     },
     "execution_count": 4879,
     "metadata": {},
     "output_type": "execute_result"
    }
   ],
   "source": [
    "type(1)"
   ]
  },
  {
   "cell_type": "code",
   "execution_count": 4880,
   "metadata": {
    "id": "EK9fF95av9bt"
   },
   "outputs": [
    {
     "data": {
      "text/plain": [
       "'1'"
      ]
     },
     "execution_count": 4880,
     "metadata": {},
     "output_type": "execute_result"
    }
   ],
   "source": [
    "str(1)"
   ]
  },
  {
   "cell_type": "code",
   "execution_count": 4881,
   "metadata": {
    "id": "JxGEBOZzv9bw"
   },
   "outputs": [
    {
     "data": {
      "text/plain": [
       "str"
      ]
     },
     "execution_count": 4881,
     "metadata": {},
     "output_type": "execute_result"
    }
   ],
   "source": [
    "type(str(1))"
   ]
  },
  {
   "cell_type": "code",
   "execution_count": 4882,
   "metadata": {
    "id": "2boojYfbv9by"
   },
   "outputs": [
    {
     "data": {
      "text/plain": [
       "'1番目'"
      ]
     },
     "execution_count": 4882,
     "metadata": {},
     "output_type": "execute_result"
    }
   ],
   "source": [
    "str(1) + '番目'"
   ]
  },
  {
   "cell_type": "markdown",
   "metadata": {
    "id": "RzvUMnTQv9bz"
   },
   "source": [
    "また、`+=` や `-=` もよく使います。\n",
    "これは、演算と代入を合わせて行うもので、**累積代入文 (augmented assignment statement)** と呼ばれます。\n",
    "\n",
    "下記に示すとおり、`+=` では左辺の変数に対して右辺の値を足した結果で、左辺の変数を更新します。"
   ]
  },
  {
   "cell_type": "code",
   "execution_count": 4883,
   "metadata": {
    "id": "g7g0hOrOv9b0"
   },
   "outputs": [
    {
     "data": {
      "text/plain": [
       "1"
      ]
     },
     "execution_count": 4883,
     "metadata": {},
     "output_type": "execute_result"
    }
   ],
   "source": [
    "# 累積代入文を使わない場合\n",
    "count = 0\n",
    "count = count + 1\n",
    "count"
   ]
  },
  {
   "cell_type": "code",
   "execution_count": 4884,
   "metadata": {
    "id": "bdgvqEjZv9b2"
   },
   "outputs": [
    {
     "data": {
      "text/plain": [
       "1"
      ]
     },
     "execution_count": 4884,
     "metadata": {},
     "output_type": "execute_result"
    }
   ],
   "source": [
    "# 累積代入文を使う場合\n",
    "count = 0\n",
    "count += 1\n",
    "count"
   ]
  },
  {
   "cell_type": "markdown",
   "metadata": {
    "id": "AZ7QMIt-v9b3"
   },
   "source": [
    "四則演算の全てで累積代入文を利用することができます。\n",
    "つまり、`+=`, `-=`, `*=`, `/=` がそれぞれ利用可能です。"
   ]
  },
  {
   "cell_type": "markdown",
   "metadata": {
    "id": "36GMdun-IfFn"
   },
   "source": [
    "Python には、他にも幾つかの算術演算子が用意されています。\n",
    "例えば以下の演算子です。\n",
    "\n",
    "| 演算 | 記号 |\n",
    "|------|------|\n",
    "| 累乗 | `**` |\n",
    "|  剰余　 | `%` |\n",
    "\n",
    "`**` を使うと、$2^3$ は以下のように記述することができます。"
   ]
  },
  {
   "cell_type": "code",
   "execution_count": 4885,
   "metadata": {
    "id": "cK6zHxguIfFo"
   },
   "outputs": [
    {
     "data": {
      "text/plain": [
       "8"
      ]
     },
     "execution_count": 4885,
     "metadata": {},
     "output_type": "execute_result"
    }
   ],
   "source": [
    "# 累乗\n",
    "2 ** 3"
   ]
  },
  {
   "cell_type": "markdown",
   "metadata": {
    "id": "g8RG0jTDv9b6"
   },
   "source": [
    "`%` を使って、`9` を `2` で割った余りを計算してみましょう。"
   ]
  },
  {
   "cell_type": "code",
   "execution_count": 4886,
   "metadata": {
    "id": "CbsiwPcev9b6"
   },
   "outputs": [
    {
     "data": {
      "text/plain": [
       "1"
      ]
     },
     "execution_count": 4886,
     "metadata": {},
     "output_type": "execute_result"
    }
   ],
   "source": [
    "# 剰余\n",
    "9 % 2"
   ]
  },
  {
   "cell_type": "markdown",
   "metadata": {
    "id": "-ecJ1uuvXmdV"
   },
   "source": [
    "### 練習問題 算術演算子\n",
    "\n",
    "算術演算子までで学んだ内容を復習しましょう。下記の内容を次のセルに記述し、実行結果を確認してください。（必要に応じてセルの追加を行ってください。）  \n",
    "\n",
    "下記の内容を実行し、変数 `z` の値を確認して下さい。  \n",
    "\n",
    "- 10 を 2 で掛けた計算結果を変数 `x` に格納\n",
    "- 20 を 4 で割った計算結果を変数 `y` に格納\n",
    "- `x` を `y` で割った計算結果を変数 `z` に格納"
   ]
  },
  {
   "cell_type": "code",
   "execution_count": 4887,
   "metadata": {
    "id": "4ApcaBcFXmdV"
   },
   "outputs": [],
   "source": [
    "# 変数 x の計算\n",
    "x = 10 * 2"
   ]
  },
  {
   "cell_type": "code",
   "execution_count": 4888,
   "metadata": {
    "id": "E9xgOHTbXmdW"
   },
   "outputs": [
    {
     "name": "stdout",
     "output_type": "stream",
     "text": [
      "1\n"
     ]
    }
   ],
   "source": [
    "# 変数 x の確認\n",
    "print(a)"
   ]
  },
  {
   "cell_type": "code",
   "execution_count": 4889,
   "metadata": {
    "id": "TB4FEwqfXmdW"
   },
   "outputs": [],
   "source": [
    "# 変数 y の計算\n",
    "y = 20 / 4"
   ]
  },
  {
   "cell_type": "code",
   "execution_count": 4890,
   "metadata": {
    "id": "Gm5yEKgYXmdW"
   },
   "outputs": [
    {
     "name": "stdout",
     "output_type": "stream",
     "text": [
      "5.0\n"
     ]
    }
   ],
   "source": [
    "# 変数 y の確認\n",
    "print(y)"
   ]
  },
  {
   "cell_type": "code",
   "execution_count": 4891,
   "metadata": {
    "id": "BkTx5TtgXmdW"
   },
   "outputs": [],
   "source": [
    "# 変数 z の計算\n",
    "z = x / y"
   ]
  },
  {
   "cell_type": "code",
   "execution_count": 4892,
   "metadata": {
    "id": "ZFbjO0L3XmdX"
   },
   "outputs": [
    {
     "name": "stdout",
     "output_type": "stream",
     "text": [
      "4.0\n"
     ]
    }
   ],
   "source": [
    "# 変数 z の確認\n",
    "print(z)"
   ]
  },
  {
   "cell_type": "markdown",
   "metadata": {
    "id": "iPc_-40MXmdX"
   },
   "source": [
    "#### 模範解答"
   ]
  },
  {
   "cell_type": "code",
   "execution_count": 4893,
   "metadata": {
    "id": "LkogtGk5XmdY"
   },
   "outputs": [],
   "source": [
    "# 変数 x の計算\n",
    "x = 10 * 2"
   ]
  },
  {
   "cell_type": "code",
   "execution_count": 4894,
   "metadata": {
    "id": "ZYMDYeugXmdZ"
   },
   "outputs": [
    {
     "data": {
      "text/plain": [
       "20"
      ]
     },
     "execution_count": 4894,
     "metadata": {},
     "output_type": "execute_result"
    }
   ],
   "source": [
    "# 変数 x の確認\n",
    "x"
   ]
  },
  {
   "cell_type": "code",
   "execution_count": 4895,
   "metadata": {
    "id": "mtyVGcR7XmdZ"
   },
   "outputs": [],
   "source": [
    "# 変数 y の計算\n",
    "y = 20 / 4"
   ]
  },
  {
   "cell_type": "code",
   "execution_count": 4896,
   "metadata": {
    "id": "tsUlxbpbXmdZ"
   },
   "outputs": [
    {
     "data": {
      "text/plain": [
       "5.0"
      ]
     },
     "execution_count": 4896,
     "metadata": {},
     "output_type": "execute_result"
    }
   ],
   "source": [
    "# 変数 y の確認\n",
    "y"
   ]
  },
  {
   "cell_type": "code",
   "execution_count": 4897,
   "metadata": {
    "id": "IDOiPbJhXmda"
   },
   "outputs": [],
   "source": [
    "# 変数 z の計算\n",
    "z = x / y"
   ]
  },
  {
   "cell_type": "code",
   "execution_count": 4898,
   "metadata": {
    "id": "mto0wMbUXmdb"
   },
   "outputs": [
    {
     "data": {
      "text/plain": [
       "4.0"
      ]
     },
     "execution_count": 4898,
     "metadata": {},
     "output_type": "execute_result"
    }
   ],
   "source": [
    "# 変数 z の確認\n",
    "z"
   ]
  },
  {
   "cell_type": "markdown",
   "metadata": {
    "id": "Z62QzE-4Bc4a"
   },
   "source": [
    "### 比較演算子\n",
    "\n",
    "比較演算子は、2 つの値の比較を行うための演算子です。\n",
    "\n",
    "| 演算 | 記号 |\n",
    "|------|------|\n",
    "| 小なり | `<` |\n",
    "| 大なり | `>` |\n",
    "| 以下 | `<=` |\n",
    "| 以上 | `>=` |\n",
    "| 等しい | `==` |\n",
    "| 等しくない | `!=` |\n",
    "\n",
    "比較演算子は、その両側に与えられた値が決められた条件を満たしているかどうか計算し、満たしている場合は `True` を、満たしていない場合は `False` を返します。\n",
    "`True` や `False` は、**ブール (bool) 型**と呼ばれる型を持った値です。\n",
    "ブール型の値は `True` もしくは `False` の 2 つしか存在しません。\n",
    "\n",
    "いくつかの比較演算子の計算例を示します。"
   ]
  },
  {
   "cell_type": "code",
   "execution_count": 4899,
   "metadata": {
    "id": "5AXOptIWCN53"
   },
   "outputs": [
    {
     "name": "stderr",
     "output_type": "stream",
     "text": [
      "/home/kinoko1943/github/TKBasic/.venv/lib/python3.12/site-packages/IPython/core/displayhook.py:281: UserWarning: Output cache limit (currently 1000 entries) hit.\n",
      "Flushing oldest 200 entries.\n",
      "  warn('Output cache limit (currently {sz} entries) hit.\\n'\n"
     ]
    },
    {
     "data": {
      "text/plain": [
       "True"
      ]
     },
     "execution_count": 4899,
     "metadata": {},
     "output_type": "execute_result"
    }
   ],
   "source": [
    "1 < 2"
   ]
  },
  {
   "cell_type": "code",
   "execution_count": 4900,
   "metadata": {
    "id": "ETSRMdkDv9b-"
   },
   "outputs": [
    {
     "data": {
      "text/plain": [
       "bool"
      ]
     },
     "execution_count": 4900,
     "metadata": {},
     "output_type": "execute_result"
    }
   ],
   "source": [
    "# 型の確認\n",
    "type(1 < 2)"
   ]
  },
  {
   "cell_type": "code",
   "execution_count": 4901,
   "metadata": {
    "id": "wR2OPEwiCP5_"
   },
   "outputs": [
    {
     "data": {
      "text/plain": [
       "False"
      ]
     },
     "execution_count": 4901,
     "metadata": {},
     "output_type": "execute_result"
    }
   ],
   "source": [
    "2 == 5"
   ]
  },
  {
   "cell_type": "code",
   "execution_count": 4902,
   "metadata": {
    "id": "TfEDslvKCQ7o"
   },
   "outputs": [
    {
     "data": {
      "text/plain": [
       "True"
      ]
     },
     "execution_count": 4902,
     "metadata": {},
     "output_type": "execute_result"
    }
   ],
   "source": [
    "1 != 2"
   ]
  },
  {
   "cell_type": "code",
   "execution_count": 4903,
   "metadata": {
    "id": "W1v_F8-7CWI-"
   },
   "outputs": [
    {
     "data": {
      "text/plain": [
       "True"
      ]
     },
     "execution_count": 4903,
     "metadata": {},
     "output_type": "execute_result"
    }
   ],
   "source": [
    "3 >= 3"
   ]
  },
  {
   "cell_type": "code",
   "execution_count": 4904,
   "metadata": {
    "id": "XapxlGSYCSOU"
   },
   "outputs": [
    {
     "data": {
      "text/plain": [
       "True"
      ]
     },
     "execution_count": 4904,
     "metadata": {},
     "output_type": "execute_result"
    }
   ],
   "source": [
    "'test' == 'test'"
   ]
  },
  {
   "cell_type": "markdown",
   "metadata": {
    "id": "aBzVaMJ1IfF7"
   },
   "source": [
    "等しいかどうかを判定する比較演算子 `==` を使う際は、代入演算子 `=` と間違えないように気をつけてください。"
   ]
  },
  {
   "cell_type": "markdown",
   "metadata": {
    "id": "VsBRE0Wyv9ca"
   },
   "source": [
    "### 複合データ型\n",
    "\n",
    "これまでは `a = 1` のように 1 つの変数に 1 つの値を代入する場合を扱ってきましたが、複数の値をまとめて取り扱いたい場面もあります。\n",
    "Python では複数の変数や値をまとめて扱うのに便利な、以下の 3 つの複合データ型があります。\n",
    "\n",
    "- リスト (list)\n",
    "- タプル (tuple)\n",
    "- 辞書 (dictionary)"
   ]
  },
  {
   "cell_type": "markdown",
   "metadata": {
    "id": "S1TLaajMDtmr"
   },
   "source": [
    "### リスト\n",
    "\n",
    "複数の変数を `,` （カンマ）区切りで並べ、それらの全体を `[ ]` で囲んだものを **リスト (list)** と言います。\n",
    "リストに含まれる値を**要素**と呼び、整数の**インデックス** （要素番号）を使ってアクセスします。"
   ]
  },
  {
   "cell_type": "code",
   "execution_count": 4905,
   "metadata": {
    "id": "MJ7ZYj82D-a1"
   },
   "outputs": [
    {
     "name": "stdout",
     "output_type": "stream",
     "text": [
      "[4, 5, 6, 7]\n"
     ]
    }
   ],
   "source": [
    "# リスト型の変数を定義\n",
    "numbers = [4, 5, 6, 7]\n",
    "\n",
    "# 値の確認\n",
    "print(numbers)"
   ]
  },
  {
   "cell_type": "code",
   "execution_count": 4906,
   "metadata": {
    "id": "HH3NT-y4EC4Z"
   },
   "outputs": [
    {
     "data": {
      "text/plain": [
       "list"
      ]
     },
     "execution_count": 4906,
     "metadata": {},
     "output_type": "execute_result"
    }
   ],
   "source": [
    "# 型の確認\n",
    "type(numbers)"
   ]
  },
  {
   "cell_type": "markdown",
   "metadata": {
    "id": "Rk_jY_TTIfGY"
   },
   "source": [
    "`numbers` には 4 つの数値が入っており、**要素数** は 4 です。\n",
    "リストの要素数は、リストの**長さ (length)** とも呼ばれ、組み込み関数の `len()` を用いて取得することができます。\n",
    "`len()` はよく使う関数であるため、覚えておきましょう。"
   ]
  },
  {
   "cell_type": "code",
   "execution_count": 4907,
   "metadata": {
    "id": "DK6aH0AaoELi"
   },
   "outputs": [
    {
     "data": {
      "text/plain": [
       "4"
      ]
     },
     "execution_count": 4907,
     "metadata": {},
     "output_type": "execute_result"
    }
   ],
   "source": [
    "# 要素数の確認\n",
    "len(numbers)"
   ]
  },
  {
   "cell_type": "markdown",
   "metadata": {
    "id": "RiJeRUdrEEUq"
   },
   "source": [
    "リストの各要素へアクセスする方法はいくつかあります。\n",
    "最も簡単な方法は `[]` を使ってアクセスしたい要素番号を指定して、リストから値を取り出したり、その位置の値を書き換えたりする方法です。\n",
    "ここで、注意が必要な点として、Python では先頭の要素のインデックス番号が `0` である点があります。\n",
    "インデックス番号 `1` は 2 番目の要素を指します。"
   ]
  },
  {
   "cell_type": "code",
   "execution_count": 4908,
   "metadata": {
    "id": "DeCsf_L1Em29"
   },
   "outputs": [
    {
     "data": {
      "text/plain": [
       "4"
      ]
     },
     "execution_count": 4908,
     "metadata": {},
     "output_type": "execute_result"
    }
   ],
   "source": [
    "# 先頭の要素にアクセス\n",
    "numbers[0]"
   ]
  },
  {
   "cell_type": "code",
   "execution_count": 4909,
   "metadata": {
    "id": "ox-Ma4yv5xqO"
   },
   "outputs": [
    {
     "data": {
      "text/plain": [
       "6"
      ]
     },
     "execution_count": 4909,
     "metadata": {},
     "output_type": "execute_result"
    }
   ],
   "source": [
    "# 先頭から3番目の要素にアクセス\n",
    "numbers[2]"
   ]
  },
  {
   "cell_type": "code",
   "execution_count": 4910,
   "metadata": {
    "id": "ve-ETFIrv9cg"
   },
   "outputs": [],
   "source": [
    "# 2 番目の要素を書き換え\n",
    "numbers[1] = 10"
   ]
  },
  {
   "cell_type": "code",
   "execution_count": 4911,
   "metadata": {
    "id": "AXpG-tqNv9cg"
   },
   "outputs": [
    {
     "data": {
      "text/plain": [
       "[4, 10, 6, 7]"
      ]
     },
     "execution_count": 4911,
     "metadata": {},
     "output_type": "execute_result"
    }
   ],
   "source": [
    "# 値の確認\n",
    "numbers"
   ]
  },
  {
   "cell_type": "markdown",
   "metadata": {
    "id": "kOVYiVOwIfGW"
   },
   "source": [
    "また、インデックスに負の値を指定すると、末尾からの位置となります。\n",
    "要素番号 `-1` で最後の要素を参照することができます。"
   ]
  },
  {
   "cell_type": "code",
   "execution_count": 4912,
   "metadata": {
    "id": "WSaIdvb4IfGX"
   },
   "outputs": [
    {
     "data": {
      "text/plain": [
       "7"
      ]
     },
     "execution_count": 4912,
     "metadata": {},
     "output_type": "execute_result"
    }
   ],
   "source": [
    "# 末尾の要素にアクセス\n",
    "numbers[-1]"
   ]
  },
  {
   "cell_type": "code",
   "execution_count": 4913,
   "metadata": {
    "id": "jP5fkl3V54WL"
   },
   "outputs": [
    {
     "data": {
      "text/plain": [
       "10"
      ]
     },
     "execution_count": 4913,
     "metadata": {},
     "output_type": "execute_result"
    }
   ],
   "source": [
    "# 末尾から3番目の要素にアクセス\n",
    "numbers[-3]"
   ]
  },
  {
   "cell_type": "markdown",
   "metadata": {
    "id": "DLzLjTQ8EoG9"
   },
   "source": [
    "次に、リストから一度に複数の要素を取り出す操作である**スライス (slice)** を紹介します。\n",
    "`開始位置:終了位置` のようにコロン `:` を用いてインデックスを範囲指定し、複数の部分要素にアクセスします。\n",
    "このスライスの処理は、この後の章でも多用するため、慣れておきましょう。\n",
    "\n",
    "例えば、先頭から 2 つの要素を取り出したい場合、以下のように指定します。"
   ]
  },
  {
   "cell_type": "code",
   "execution_count": 4914,
   "metadata": {
    "id": "MPI2H38DEy2N",
    "scrolled": true
   },
   "outputs": [
    {
     "data": {
      "text/plain": [
       "[4, 10]"
      ]
     },
     "execution_count": 4914,
     "metadata": {},
     "output_type": "execute_result"
    }
   ],
   "source": [
    "numbers[0:2]"
   ]
  },
  {
   "cell_type": "markdown",
   "metadata": {
    "id": "gK6_JXXTE2AY"
   },
   "source": [
    "`開始位置:終了位置` と指定することで、開始位置から**終了位置のひとつ手前**までの要素を抽出します。 \n",
    "終了位置に指定したインデックスの値は含まれないことに注意してください。\n",
    "\n",
    "また、指定する開始番号が `0` である場合、以下のような略記がよく用いられます。"
   ]
  },
  {
   "cell_type": "code",
   "execution_count": 4915,
   "metadata": {
    "id": "hBo2_C5aFPHR"
   },
   "outputs": [
    {
     "data": {
      "text/plain": [
       "[4, 10]"
      ]
     },
     "execution_count": 4915,
     "metadata": {},
     "output_type": "execute_result"
    }
   ],
   "source": [
    "numbers[:2]"
   ]
  },
  {
   "cell_type": "markdown",
   "metadata": {
    "id": "Qqem8sujFQVP"
   },
   "source": [
    "このように、先頭のインデックスは省略することができます。\n",
    "このような記法を使う場合は、終了位置を示す数字を**取り出したい要素の個数**と捉えて、**先頭から 2 つを取り出す**操作だと考えると分かりやすくなります。\n",
    "\n",
    "同様に、ある位置からリストの末尾までを取り出す場合も、終了位置のインデックスを省略することができます。\n",
    "例えば、2 個目の要素から最後までを取り出すには以下のようにします。"
   ]
  },
  {
   "cell_type": "code",
   "execution_count": 4916,
   "metadata": {
    "id": "gItFJqoUFYzX"
   },
   "outputs": [
    {
     "data": {
      "text/plain": [
       "[10, 6, 7]"
      ]
     },
     "execution_count": 4916,
     "metadata": {},
     "output_type": "execute_result"
    }
   ],
   "source": [
    "numbers[1:]"
   ]
  },
  {
   "cell_type": "markdown",
   "metadata": {
    "id": "RRlf3vqOv9cq"
   },
   "source": [
    "この場合は、取り出される要素の個数は `len(numbers) - 1` 個となることに注意してください。\n",
    "\n",
    "以上から、`numbers[:2]` と `numbers[2:]` は、ちょうど 2 個目の要素を境に `numbers` の要素を 2 分割した前半部分と後半部分になっています。\n",
    "ここで、2 個目の要素自体は**後半部に含まれる**ということに注意してください。\n",
    "\n",
    "また、開始位置も終了位置も省略した場合は、すべての要素が選択されます。"
   ]
  },
  {
   "cell_type": "code",
   "execution_count": 4917,
   "metadata": {
    "id": "nav8WoxNv9cq"
   },
   "outputs": [
    {
     "data": {
      "text/plain": [
       "[4, 10, 6, 7]"
      ]
     },
     "execution_count": 4917,
     "metadata": {},
     "output_type": "execute_result"
    }
   ],
   "source": [
    "numbers[:]"
   ]
  },
  {
   "cell_type": "markdown",
   "metadata": {
    "id": "9qPrP6sYv9cs"
   },
   "source": [
    "現状では、`numbers[:]` と `numbers` の結果が同じであるため、どのように使用するか疑問に思われるかも知れません。\n",
    "しかし、後の章では NumPy というライブラリを用いてリストの中にリストが入ったような**多次元配列 (multidimensional array)** を扱っていきます。\n",
    "そして多次元配列を用いて行列を表す場合には、`0 列目のすべての値`を抽出するために `[:, 0]` のような記法を用いるケースが登場します。\n",
    "これは Python 標準の機能ではありませんが、Python 標準のスライス表記を拡張したものになっています。"
   ]
  },
  {
   "cell_type": "markdown",
   "metadata": {
    "id": "AyoiOU5OFfET"
   },
   "source": [
    "リストは数値以外に、文字列を扱うこともでき、また複数の型を同一のリスト内に混在させることもできます。"
   ]
  },
  {
   "cell_type": "code",
   "execution_count": 4918,
   "metadata": {
    "id": "9JglgRiWFyo8"
   },
   "outputs": [
    {
     "data": {
      "text/plain": [
       "['hello', 'world']"
      ]
     },
     "execution_count": 4918,
     "metadata": {},
     "output_type": "execute_result"
    }
   ],
   "source": [
    "# 文字列を格納したリスト\n",
    "array = ['hello', 'world']\n",
    "array"
   ]
  },
  {
   "cell_type": "code",
   "execution_count": 4919,
   "metadata": {
    "id": "Kcf8MyrBv9cu"
   },
   "outputs": [
    {
     "data": {
      "text/plain": [
       "[1, 1.2, 'Python']"
      ]
     },
     "execution_count": 4919,
     "metadata": {},
     "output_type": "execute_result"
    }
   ],
   "source": [
    "# 複数の型が混在したリスト\n",
    "array = [1, 1.2, 'Python']\n",
    "array"
   ]
  },
  {
   "cell_type": "markdown",
   "metadata": {
    "id": "9fKT2sjNv9cu"
   },
   "source": [
    "リストにリストを代入することもできます。\n",
    "また、Python 標準のリストでは入れ子になったリスト内の要素数がばらばらでも問題ありません。"
   ]
  },
  {
   "cell_type": "code",
   "execution_count": 4920,
   "metadata": {
    "id": "Q8JxfHS8v9cv"
   },
   "outputs": [
    {
     "data": {
      "text/plain": [
       "[[1, 1.2, 'Python', True], [3.2, 'Tutorial']]"
      ]
     },
     "execution_count": 4920,
     "metadata": {},
     "output_type": "execute_result"
    }
   ],
   "source": [
    "array = [[1, 1.2, 'Python', True], [3.2, 'Tutorial']]\n",
    "array"
   ]
  },
  {
   "cell_type": "markdown",
   "metadata": {
    "id": "5lYy-LP6F3wP"
   },
   "source": [
    "リストを使う際に頻出する操作として、**リストへの値の追加**があります。\n",
    "リスト型には `append()` というメソッドが定義されており、これを用いてリストの末尾に新しい値を追加することができます。\n",
    "\n",
    "上記の `array` に値を追加してみましょう。"
   ]
  },
  {
   "cell_type": "code",
   "execution_count": 4921,
   "metadata": {
    "id": "RmgtEN8Lv9cw"
   },
   "outputs": [],
   "source": [
    "# 末尾に 2.5 を追加\n",
    "array.append(2.5)"
   ]
  },
  {
   "cell_type": "code",
   "execution_count": 4922,
   "metadata": {
    "id": "2E8q5y94v9cx"
   },
   "outputs": [
    {
     "data": {
      "text/plain": [
       "[[1, 1.2, 'Python', True], [3.2, 'Tutorial'], 2.5]"
      ]
     },
     "execution_count": 4922,
     "metadata": {},
     "output_type": "execute_result"
    }
   ],
   "source": [
    "# 値の確認\n",
    "array"
   ]
  },
  {
   "cell_type": "markdown",
   "metadata": {
    "id": "y5dQJA57v9cz"
   },
   "source": [
    "また、今後頻出する処理として、**空のリスト**を定義しておき、そこに後段の処理の中で適宜新たな要素を追加していくという使い方があります。"
   ]
  },
  {
   "cell_type": "code",
   "execution_count": 4923,
   "metadata": {
    "id": "00AEmnpxGPky"
   },
   "outputs": [
    {
     "data": {
      "text/plain": [
       "['Python', 'チュートリアル']"
      ]
     },
     "execution_count": 4923,
     "metadata": {},
     "output_type": "execute_result"
    }
   ],
   "source": [
    "# 空のリストを定義\n",
    "array = []\n",
    "\n",
    "# 空のリストに要素を追加\n",
    "array.append('Python')\n",
    "array.append('チュートリアル')\n",
    "\n",
    "array"
   ]
  },
  {
   "cell_type": "markdown",
   "metadata": {
    "id": "CV1072C3M7Qy"
   },
   "source": [
    "### タプル\n",
    "\n",
    "**タプル (tuple)** はリストと同様に複数の要素をまとめた型ですが、リストとは異なる点として、定義した後に**中の要素を変更できない**という性質を持ちます。\n",
    "\n",
    "タプルの定義には `( )`を用います。"
   ]
  },
  {
   "cell_type": "code",
   "execution_count": 4924,
   "metadata": {
    "id": "mo4lGZN6NGAI"
   },
   "outputs": [
    {
     "data": {
      "text/plain": [
       "(4, 5, 6, 7)"
      ]
     },
     "execution_count": 4924,
     "metadata": {},
     "output_type": "execute_result"
    }
   ],
   "source": [
    "# タプルを定義\n",
    "array = (4, 5, 6, 7)\n",
    "array"
   ]
  },
  {
   "cell_type": "code",
   "execution_count": 4925,
   "metadata": {
    "id": "LEUgknZov9c3"
   },
   "outputs": [
    {
     "data": {
      "text/plain": [
       "tuple"
      ]
     },
     "execution_count": 4925,
     "metadata": {},
     "output_type": "execute_result"
    }
   ],
   "source": [
    "# 型の確認\n",
    "type(array)"
   ]
  },
  {
   "cell_type": "markdown",
   "metadata": {
    "id": "9w2M0A02v9c3"
   },
   "source": [
    "タプルの定義する際に `( )` を使用したため、要素へのアクセスも `( )` を使うように感じるかもしれませんが、実際にはリストと同様 `[ ]` を使用します。"
   ]
  },
  {
   "cell_type": "code",
   "execution_count": 4926,
   "metadata": {
    "id": "Fq7zIHMfNIXG"
   },
   "outputs": [
    {
     "data": {
      "text/plain": [
       "4"
      ]
     },
     "execution_count": 4926,
     "metadata": {},
     "output_type": "execute_result"
    }
   ],
   "source": [
    "# 先頭の要素へアクセス\n",
    "array[0]"
   ]
  },
  {
   "cell_type": "code",
   "execution_count": 4927,
   "metadata": {
    "id": "3XdB2S5pv9c4"
   },
   "outputs": [
    {
     "data": {
      "text/plain": [
       "(4, 5, 6)"
      ]
     },
     "execution_count": 4927,
     "metadata": {},
     "output_type": "execute_result"
    }
   ],
   "source": [
    "# リストと同様、スライスも使用可能\n",
    "array[:3]"
   ]
  },
  {
   "cell_type": "markdown",
   "metadata": {
    "id": "KjdkYtSmNSl3"
   },
   "source": [
    "先述の通り、タプルは各要素の値を変更することができません。\n",
    "この性質は、定数項などプログラムの途中で書き換わってしまうことが望ましくないものをまとめて扱うのに便利です。\n",
    "\n",
    "実際に、タプルの要素に値の書き換えを行うとエラーが発生します。"
   ]
  },
  {
   "cell_type": "code",
   "execution_count": 4928,
   "metadata": {
    "id": "DRoToOjUNI51"
   },
   "outputs": [],
   "source": [
    "# error\n",
    "# array[0] = 10"
   ]
  },
  {
   "cell_type": "markdown",
   "metadata": {
    "id": "6aq_3yNZv9c6"
   },
   "source": [
    "`tuple` のように中身が変更できない性質のことを**イミュータブル (immutable)**であると言います。反対に、`list` のように中身が変更できる性質のことを**ミュータブル (mutable)**であると言います。"
   ]
  },
  {
   "cell_type": "markdown",
   "metadata": {
    "id": "nV8Lp5jLNO66"
   },
   "source": [
    "### 辞書\n",
    "\n",
    "リストやタプルでは、複数の値をまとめて扱うことができました。\n",
    "そこで、定期テストの結果をまとめることを考えてみましょう。\n",
    "\n",
    "例えば、数学 90 点、理科 75 点、英語 80 点だったという結果を `scores = [90, 75, 80]` とリストで表してみます。\n",
    "しかし、これでは**何番目がどの教科の点数に対応するか**、一見して分かりにくいと思われます。\n",
    "\n",
    "Python の `dict` 型は、**キー (key)** とそれに対応する**値 (value)** をセットにして格納することができる型であり、このようなときに便利です。\n",
    "\n",
    "リストやタプルでは、各要素にアクセスする際に整数のインデックスを用いていましたが、辞書ではキーでインデックス化されているため、整数や文字列など、色々なものを使って要素を指定することができます。\n",
    "\n",
    "辞書は `{}` を用いて定義し、要素にアクセスする際には、リストやタプルと同様に `[ ]` を使用し、`[ ]` の中にキーを指定して対応する値を取り出します。"
   ]
  },
  {
   "cell_type": "code",
   "execution_count": 4929,
   "metadata": {
    "id": "NyxphI5fNMO8"
   },
   "outputs": [
    {
     "data": {
      "text/plain": [
       "{'Math': 90, 'Science': 75, 'English': 80}"
      ]
     },
     "execution_count": 4929,
     "metadata": {},
     "output_type": "execute_result"
    }
   ],
   "source": [
    "# 辞書を定義\n",
    "scores = {'Math': 90, 'Science': 75, 'English': 80 }\n",
    "scores"
   ]
  },
  {
   "cell_type": "code",
   "execution_count": 4930,
   "metadata": {
    "id": "M-V2XOEdNu2a"
   },
   "outputs": [
    {
     "data": {
      "text/plain": [
       "90"
      ]
     },
     "execution_count": 4930,
     "metadata": {},
     "output_type": "execute_result"
    }
   ],
   "source": [
    "# key が Math の value にアクセス\n",
    "scores['Math'] "
   ]
  },
  {
   "cell_type": "code",
   "execution_count": 4931,
   "metadata": {
    "id": "TA5V7SUBv9c8"
   },
   "outputs": [
    {
     "data": {
      "text/plain": [
       "{'数学': 90, '理科': 75, '英語': 80}"
      ]
     },
     "execution_count": 4931,
     "metadata": {},
     "output_type": "execute_result"
    }
   ],
   "source": [
    "# key に日本語を使用することも可能\n",
    "scores = {'数学': 90, '理科': 75, '英語': 80}\n",
    "scores"
   ]
  },
  {
   "cell_type": "code",
   "execution_count": 4932,
   "metadata": {
    "id": "IL2y81t-v9c9"
   },
   "outputs": [
    {
     "data": {
      "text/plain": [
       "90"
      ]
     },
     "execution_count": 4932,
     "metadata": {},
     "output_type": "execute_result"
    }
   ],
   "source": [
    "scores['数学']"
   ]
  },
  {
   "cell_type": "markdown",
   "metadata": {
    "id": "Jd_XpPMqfrSL"
   },
   "source": [
    "他の人が定義した辞書に、**どのようなキーが存在するのか**を調べたいときがあります。\n",
    "辞書には、そのような場合に使える便利なメソッドがいくつか存在します。\n",
    "\n",
    "- `keys()`: キーのリストを取得。`dict_keys` というリストと性質が似た型が返る\n",
    "- `values()`: 値のリストを取得。`dict_values` というリストと性質が似た型が返る\n",
    "- `items()`: 各要素の `(key, value)` のタプルが並んだリストを取得。`dict_items` というリストと性質が似た型が返る"
   ]
  },
  {
   "cell_type": "code",
   "execution_count": 4933,
   "metadata": {
    "id": "FkJjSlbShKjK"
   },
   "outputs": [
    {
     "data": {
      "text/plain": [
       "dict_keys(['数学', '理科', '英語'])"
      ]
     },
     "execution_count": 4933,
     "metadata": {},
     "output_type": "execute_result"
    }
   ],
   "source": [
    "# キーのリスト\n",
    "scores.keys()"
   ]
  },
  {
   "cell_type": "code",
   "execution_count": 4934,
   "metadata": {
    "id": "YOAOTDtUhNBz"
   },
   "outputs": [
    {
     "data": {
      "text/plain": [
       "dict_values([90, 75, 80])"
      ]
     },
     "execution_count": 4934,
     "metadata": {},
     "output_type": "execute_result"
    }
   ],
   "source": [
    "# 値のリスト\n",
    "scores.values()"
   ]
  },
  {
   "cell_type": "code",
   "execution_count": 4935,
   "metadata": {
    "id": "mWA7opwAhVEa"
   },
   "outputs": [
    {
     "data": {
      "text/plain": [
       "dict_items([('数学', 90), ('理科', 75), ('英語', 80)])"
      ]
     },
     "execution_count": 4935,
     "metadata": {},
     "output_type": "execute_result"
    }
   ],
   "source": [
    "# (キー, 値)というタプルを要素とするリスト\n",
    "scores.items()"
   ]
  },
  {
   "cell_type": "markdown",
   "metadata": {
    "id": "I9WEXgSZv9dC"
   },
   "source": [
    "`dict_keys`, `dict_values`, `dict_items` と新しい型が登場しましたが、これは辞書型特有の型であり厳密には標準のリストとは異なりますが、リストと性質の似た型であるという程度の認識で問題ありません。"
   ]
  },
  {
   "cell_type": "markdown",
   "metadata": {
    "id": "qpoTmSY8bTDw"
   },
   "source": [
    "辞書に要素を追加する場合は、新しいキーを指定して値を代入します。"
   ]
  },
  {
   "cell_type": "code",
   "execution_count": 4936,
   "metadata": {
    "id": "nDZ4RRcjnERu"
   },
   "outputs": [],
   "source": [
    "scores['国語'] = 85"
   ]
  },
  {
   "cell_type": "code",
   "execution_count": 4937,
   "metadata": {
    "id": "P0HJVZJSnKal"
   },
   "outputs": [
    {
     "data": {
      "text/plain": [
       "{'数学': 90, '理科': 75, '英語': 80, '国語': 85}"
      ]
     },
     "execution_count": 4937,
     "metadata": {},
     "output_type": "execute_result"
    }
   ],
   "source": [
    "scores"
   ]
  },
  {
   "cell_type": "markdown",
   "metadata": {
    "id": "NIC2fwAknPf9"
   },
   "source": [
    "また、既に存在するキーを指定した場合には、値が上書きされます。"
   ]
  },
  {
   "cell_type": "code",
   "execution_count": 4938,
   "metadata": {
    "id": "teLZbAHQnUfN"
   },
   "outputs": [],
   "source": [
    "scores['数学'] = 95"
   ]
  },
  {
   "cell_type": "code",
   "execution_count": 4939,
   "metadata": {
    "id": "kQESKoXgnYRN"
   },
   "outputs": [
    {
     "data": {
      "text/plain": [
       "{'数学': 95, '理科': 75, '英語': 80, '国語': 85}"
      ]
     },
     "execution_count": 4939,
     "metadata": {},
     "output_type": "execute_result"
    }
   ],
   "source": [
    "scores"
   ]
  },
  {
   "cell_type": "markdown",
   "metadata": {
    "id": "zTYLayT3qEzA"
   },
   "source": [
    "## 制御構文\n",
    "\n",
    "複雑なプログラムを記述しようとすると、繰り返しの処理や、条件によって動作を変える処理が必要となります。\n",
    "これらは**制御構文**を用いて記述します。\n",
    "\n",
    "ここでは最も基本的な制御構文を 2 つ紹介します。\n",
    "\n",
    "- 繰り返し (`for`, `while`)\n",
    "- 条件分岐 (`if`)\n",
    "\n",
    "Python の制御構文は、**ヘッダ (header)** と **ブロック (block)** と呼ばれる 2 つの部分で構成されています。\n",
    "これらを合わせて **複合文 (compound statement)** と呼びます。\n",
    "\n",
    "![ヘッダーとブロック](http://drive.google.com/uc?export=view&id=1N21zKWGVpnZl9G200DNNDjO6yukiunB-)"
   ]
  },
  {
   "cell_type": "markdown",
   "metadata": {
    "id": "ciZc5_PCv9dJ"
   },
   "source": [
    "上図に示すように、制御構文ではヘッダ行に `for` 文や `if-else` 句を記述し、行末に `:` 記号を書きます。次に、ヘッダ行の条件で実行したい一連の処理文を、ブロックとしてその次の行以降に記述していきます。その際、 **インデント (indent)** と呼ばれる空白文字を先頭に挿入することで、ブロックを表現します。同じ数の空白でインデントされた文がブロックとみなされます。\n",
    "Python では、インデントとして**スペース 4 つ**を用いることが推奨されています。"
   ]
  },
  {
   "cell_type": "markdown",
   "metadata": {
    "id": "oELnTpERNwCQ"
   },
   "source": [
    "### 繰り返し（ for 文）\n",
    "\n",
    "同じ内容のメールを宛名だけ個別に変えて、1000 人に一斉送信したい場合など、繰り返す処理を記述する制御構文である `for` を使います。\n",
    "\n",
    "![for文](http://drive.google.com/uc?export=view&id=18MNASdFX-ttjT5rrykbEw84YuAKUAhlr)"
   ]
  },
  {
   "cell_type": "markdown",
   "metadata": {
    "id": "_-50XwKOv9dJ"
   },
   "source": [
    "`for` 文の文法は上図のとおりです。\n",
    "\n",
    "**イテラブルオブジェクト (iterable object)** とは、反復可能オブジェクトのことであり、要素を一度に 1 つずつ返せるオブジェクトのことを指します。\n",
    "`range()` という組み込み関数を使うと、引数に与えた整数の回数だけ順番に整数を返すイテラブルオブジェクトを作ることができます。\n",
    "`range(5)` と書くと、0, 1, 2, 3, 4 という整数 5 つを順番に返すイテラブルオブジェクトになります。\n",
    "\n",
    "後述しますが、このイテラブルオブジェクトとして、リストやタプルも指定することができます。"
   ]
  },
  {
   "cell_type": "code",
   "execution_count": 4940,
   "metadata": {
    "id": "f7Y4APgkON_7"
   },
   "outputs": [
    {
     "name": "stdout",
     "output_type": "stream",
     "text": [
      "0\n",
      "1\n",
      "2\n",
      "3\n",
      "4\n"
     ]
    }
   ],
   "source": [
    "# 5回繰り返す\n",
    "for i in range(5):\n",
    "    print(i)"
   ]
  },
  {
   "cell_type": "markdown",
   "metadata": {
    "id": "oLpTgIv4OPnt"
   },
   "source": [
    "上記の例では、イテラブルオブジェクトが1 つずつ返す値を変数 `i` で受け取っています。\n",
    "最初は `i = 0` から始まっていることに注意してください。\n",
    "最後の値も、`5` ではなく `4` となっています。\n",
    "このように、`range()` に 1 つの整数を与えた場合は、その整数 - 1 まで 0 から 1 つずつ増えていく整数を順番に返します。"
   ]
  },
  {
   "cell_type": "code",
   "execution_count": 4941,
   "metadata": {
    "id": "SUTjSLuKv9dK"
   },
   "outputs": [
    {
     "data": {
      "text/plain": [
       "4"
      ]
     },
     "execution_count": 4941,
     "metadata": {},
     "output_type": "execute_result"
    }
   ],
   "source": [
    "# 繰り返し処理が終わった後の値の確認\n",
    "i"
   ]
  },
  {
   "cell_type": "markdown",
   "metadata": {
    "id": "4sMmj2Ewv9dL"
   },
   "source": [
    "Jupyter Notebook では変数名をコードセルの最後の行に書いて実行するとその変数に代入されている値を確認できましたが、for 文の中のブロックでは明示的に `print()` を使う必要があります。\n",
    "`print()` を用いないと、以下のように何も表示されません。"
   ]
  },
  {
   "cell_type": "code",
   "execution_count": 4942,
   "metadata": {
    "id": "2SlR9vcGv9dL"
   },
   "outputs": [],
   "source": [
    "# 変数の値は表示されない\n",
    "for i in range(5):\n",
    "    i"
   ]
  },
  {
   "cell_type": "markdown",
   "metadata": {
    "id": "tEczQdb9v9dM"
   },
   "source": [
    "for 文を使って、0 から始まって 1 ずつ大きくなっていく整数順番に取得し、これをリストのインデックスに利用すれば、リストの各要素に順番にアクセスすることができます。"
   ]
  },
  {
   "cell_type": "code",
   "execution_count": 4943,
   "metadata": {
    "id": "b6XXuQ_gOnxk"
   },
   "outputs": [
    {
     "name": "stdout",
     "output_type": "stream",
     "text": [
      "佐藤\n",
      "鈴木\n",
      "高橋\n"
     ]
    }
   ],
   "source": [
    "names = ['佐藤', '鈴木', '高橋']\n",
    "\n",
    "for i in range(3):\n",
    "    print(names[i])"
   ]
  },
  {
   "cell_type": "markdown",
   "metadata": {
    "id": "ci6hVBb-v9dN"
   },
   "source": [
    "少し応用して、自動的に敬称をつけて表示してみましょう。"
   ]
  },
  {
   "cell_type": "code",
   "execution_count": 4944,
   "metadata": {
    "id": "B24Fyoe9v9dN"
   },
   "outputs": [
    {
     "name": "stdout",
     "output_type": "stream",
     "text": [
      "佐藤さん\n",
      "鈴木さん\n",
      "高橋さん\n"
     ]
    }
   ],
   "source": [
    "for i in range(3):\n",
    "    print('{}さん'.format(names[i]))"
   ]
  },
  {
   "cell_type": "markdown",
   "metadata": {
    "id": "msGhS1ISv9dN"
   },
   "source": [
    "つぎに、さらに汎用性の高いプログラムを目指します。\n",
    "\n",
    "上記のコードに関して、汎用性が低い点として、`range(3)` のように `3` という値を直接記述していることが挙げられます。\n",
    "この `3` はリストの要素の数を意味していますが、リストの要素の数が変わると、このプログラムも書き換える必要があり、手間がかかったり、ミスが発生する原因となったりします。\n",
    "\n",
    "リスト内の要素の数は、組み込み関数である `len()` を用いて取得できるため、これを使用した汎用性の高いプログラムに書き換えましょう。"
   ]
  },
  {
   "cell_type": "code",
   "execution_count": 4945,
   "metadata": {
    "id": "e4gbC4CIOzve"
   },
   "outputs": [
    {
     "data": {
      "text/plain": [
       "3"
      ]
     },
     "execution_count": 4945,
     "metadata": {},
     "output_type": "execute_result"
    }
   ],
   "source": [
    "len(names)"
   ]
  },
  {
   "cell_type": "code",
   "execution_count": 4946,
   "metadata": {
    "id": "4i21QYMwPB1C"
   },
   "outputs": [
    {
     "name": "stdout",
     "output_type": "stream",
     "text": [
      "佐藤さん\n",
      "鈴木さん\n",
      "高橋さん\n"
     ]
    }
   ],
   "source": [
    "for i in range(len(names)):\n",
    "    print('{}さん'.format(names[i]))"
   ]
  },
  {
   "cell_type": "markdown",
   "metadata": {
    "id": "9wx-qJovPEC0"
   },
   "source": [
    "これでリストの要素数に依存しないプログラムにすることができました。"
   ]
  },
  {
   "cell_type": "markdown",
   "metadata": {
    "id": "KIO9gkUnv9dR"
   },
   "source": [
    "また、リスト自体をイテラブルオブジェクトとして指定することにより、リスト要素数の取得も `[]` でのインデックス番号の指定もせずに、より可読性の高いプログラムを書くことができます。"
   ]
  },
  {
   "cell_type": "code",
   "execution_count": 4947,
   "metadata": {
    "id": "EDqeGWucv9dR"
   },
   "outputs": [
    {
     "name": "stdout",
     "output_type": "stream",
     "text": [
      "佐藤さん\n",
      "鈴木さん\n",
      "高橋さん\n"
     ]
    }
   ],
   "source": [
    "# リストをイテラブルオブジェクトに指定\n",
    "for name in names:\n",
    "    print('{}さん'.format(name))"
   ]
  },
  {
   "cell_type": "markdown",
   "metadata": {
    "id": "iWEhrw_9v9dS"
   },
   "source": [
    "最初のケースと比べていかがでしょうか。\n",
    "動作としては変わりがありませんが、可読性という観点も重要です。"
   ]
  },
  {
   "cell_type": "markdown",
   "metadata": {
    "id": "eeTHJ3hzPW7U"
   },
   "source": [
    "リストをイテラブルオブジェクトとして指定した場合、要素番号を取得できませんが、状況によっては要素番号を使用したいことがあります。\n",
    "\n",
    "そのような場合は、`enumerate()` という組み込み関数を使います。\n",
    "これにイテラブルオブジェクトを渡すと、`(要素番号, 要素)` というタプルを 1 つずつ返すイテラブルオブジェクトになります。"
   ]
  },
  {
   "cell_type": "code",
   "execution_count": 4948,
   "metadata": {
    "id": "8dT-qUhGv9dT"
   },
   "outputs": [
    {
     "name": "stdout",
     "output_type": "stream",
     "text": [
      "0番目: 佐藤さん\n",
      "1番目: 鈴木さん\n",
      "2番目: 高橋さん\n"
     ]
    }
   ],
   "source": [
    "for i, name in enumerate(names):\n",
    "    message = '{}番目: {}さん'.format(i, name)\n",
    "    print(message)"
   ]
  },
  {
   "cell_type": "markdown",
   "metadata": {
    "id": "wGwCa9wmP2r4"
   },
   "source": [
    "`enumerate()` と同様、`for` 文と合わせてよく使う組み込み関数に `zip()` があります。\n",
    "\n",
    "`zip()` は、複数のイテラブルオブジェクトを受け取り、その要素のペアを順番に返すイテラブルオブジェクトを作ります。\n",
    "このイテラブルオブジェクトは、渡されたイテラブルオブジェクトそれぞれの先頭の要素から順番に、タプルに束ねて返します。\n",
    "このイテラブルオブジェクトの長さは、渡されたイテラブルオブジェクトのうち最も短い長さと一致します。"
   ]
  },
  {
   "cell_type": "code",
   "execution_count": 4949,
   "metadata": {
    "id": "5w8huhHcQR8F"
   },
   "outputs": [
    {
     "name": "stdout",
     "output_type": "stream",
     "text": [
      "Python 3.7 !!\n",
      "TensorFlow 2.0.0 !!\n"
     ]
    }
   ],
   "source": [
    "names = ['Python', 'TensorFlow']\n",
    "versions = ['3.7', '2.0.0']\n",
    "suffixes = ['!!', '!!', '?']\n",
    "\n",
    "for name, version, suffix in zip(names, versions, suffixes):\n",
    "    print('{} {} {}'.format(name, version, suffix))"
   ]
  },
  {
   "cell_type": "markdown",
   "metadata": {
    "id": "IeQCA00UQYDq"
   },
   "source": [
    "`suffixes` の要素数は 3 ですが、より短いイテラブルオブジェクトと共に `zip` に渡されたため、先頭から 2 つ目までしか値が取り出されていません。"
   ]
  },
  {
   "cell_type": "markdown",
   "metadata": {
    "id": "WaplxtlFXmeN"
   },
   "source": [
    "### 練習問題 制御構文（ for 文）\n",
    "\n",
    "制御構文までで学んだ内容を復習しましょう。下記の内容を次のセルに記述し、実行結果を確認してください。（必要に応じてセルの追加を行ってください。）  \n",
    "\n",
    "下記の内容を実行し、リスト `c` の値を確認して下さい。  \n",
    "\n",
    "- 1、2、3 が格納されたリスト `a` を定義\n",
    "- 4、5、6 が格納されたリスト `b` を定義\n",
    "- `a` と `b` の値を足し合わせ 5、7、9 の値を持つリスト `c` を獲得\n",
    "\n",
    "*ヒント*  \n",
    "\n",
    "方法は 1 つではありません。スライスや for 文など様々な方法を試してみて下さい。"
   ]
  },
  {
   "cell_type": "code",
   "execution_count": 4950,
   "metadata": {
    "id": "mC-GnpxpXmeO"
   },
   "outputs": [],
   "source": [
    "# リスト a の定義\n",
    "a=[1, 2, 3]"
   ]
  },
  {
   "cell_type": "code",
   "execution_count": 4951,
   "metadata": {
    "id": "mfaatlIdXmeO"
   },
   "outputs": [],
   "source": [
    "# リスト b の定義\n",
    "b = [4, 5, 6]"
   ]
  },
  {
   "cell_type": "code",
   "execution_count": 4952,
   "metadata": {
    "id": "nTZ-J3aEXmeP"
   },
   "outputs": [
    {
     "name": "stdout",
     "output_type": "stream",
     "text": [
      "[5, 7, 9]\n"
     ]
    }
   ],
   "source": [
    "# リスト c の獲得\n",
    "c = []\n",
    "for a, b in zip(a, b):\n",
    "    c.append(a + b)\n",
    "\n",
    "print(c)\n",
    "\n"
   ]
  },
  {
   "cell_type": "markdown",
   "metadata": {
    "id": "qqK2IwKUXmeQ"
   },
   "source": [
    "#### 模範解答"
   ]
  },
  {
   "cell_type": "code",
   "execution_count": 4953,
   "metadata": {
    "id": "uG0qmxiTXmeQ"
   },
   "outputs": [],
   "source": [
    "# リスト a の定義\n",
    "a = [1, 2, 3]"
   ]
  },
  {
   "cell_type": "code",
   "execution_count": 4954,
   "metadata": {
    "id": "KrAJ0LnJXmeQ"
   },
   "outputs": [],
   "source": [
    "# リスト b の定義\n",
    "b = [4, 5, 6]"
   ]
  },
  {
   "cell_type": "markdown",
   "metadata": {
    "id": "JRgFOnx9XmeR"
   },
   "source": [
    "for 文を使用せず、インデックスを指定して、値を抽出し単純に足し合わせることでも値を取得することが可能です。"
   ]
  },
  {
   "cell_type": "code",
   "execution_count": 4955,
   "metadata": {
    "id": "xjkOZo3MXmeR"
   },
   "outputs": [
    {
     "data": {
      "text/plain": [
       "[5, 7, 9]"
      ]
     },
     "execution_count": 4955,
     "metadata": {},
     "output_type": "execute_result"
    }
   ],
   "source": [
    "# リスト c の獲得 1\n",
    "c = [a[0] + b[0], a[1] + b[1], a[2] + b[2]]\n",
    "c"
   ]
  },
  {
   "cell_type": "code",
   "execution_count": 4956,
   "metadata": {
    "id": "p41jHzZ9XmeR"
   },
   "outputs": [],
   "source": [
    "# リスト c の獲得 2\n",
    "c = [] # 空のリスト\n",
    "for _a, _b in zip(a, b): # 複数のリストを繰り返す場合は zip() を使用\n",
    "    _c = _a + _b\n",
    "    c.append(_c) # リスト c に値を追加"
   ]
  },
  {
   "cell_type": "code",
   "execution_count": 4957,
   "metadata": {
    "id": "k6Z-LMgCXmeS"
   },
   "outputs": [
    {
     "data": {
      "text/plain": [
       "[5, 7, 9]"
      ]
     },
     "execution_count": 4957,
     "metadata": {},
     "output_type": "execute_result"
    }
   ],
   "source": [
    "c"
   ]
  },
  {
   "cell_type": "markdown",
   "metadata": {
    "id": "WguFiYgqQnQT"
   },
   "source": [
    "### 条件分岐（ if 文）\n",
    "\n",
    "`if` は、指定した条件が `True` か `False` かによって、処理を変えるための制御構文です。\n",
    "\n",
    "![if文](http://drive.google.com/uc?export=view&id=1ZeiVxZ8DYs5leMU7HdkVAiZ3LbsaNVyF)"
   ]
  },
  {
   "cell_type": "markdown",
   "metadata": {
    "id": "J-Z8g-Klv9dV"
   },
   "source": [
    "`elif` と `else` は任意であり、`elif` は 1 つだけでなく複数連ねることができます。\n",
    "\n",
    "例えば、0 より大きいことを条件とした処理を書いてみます。"
   ]
  },
  {
   "cell_type": "code",
   "execution_count": 4958,
   "metadata": {
    "id": "E-x_6gXwSsm7"
   },
   "outputs": [
    {
     "name": "stdout",
     "output_type": "stream",
     "text": [
      "0より大きいです\n"
     ]
    }
   ],
   "source": [
    "# if の条件を満たす場合\n",
    "a = 1\n",
    "\n",
    "if a > 0:\n",
    "    print('0より大きいです')\n",
    "else:\n",
    "    print('0以下です')"
   ]
  },
  {
   "cell_type": "code",
   "execution_count": 4959,
   "metadata": {
    "id": "BmcHf-w5v9dV"
   },
   "outputs": [
    {
     "name": "stdout",
     "output_type": "stream",
     "text": [
      "0以下です\n"
     ]
    }
   ],
   "source": [
    "# if の条件を満たさない場合\n",
    "a = -1\n",
    "\n",
    "if a > 0:\n",
    "    print('0より大きいです')\n",
    "else:\n",
    "    print('0以下です')"
   ]
  },
  {
   "cell_type": "markdown",
   "metadata": {
    "id": "u0F8tX6FStcQ"
   },
   "source": [
    "また、`if` に対する条件以外の条件分岐を追加する場合は、下記のように `elif` を使います。"
   ]
  },
  {
   "cell_type": "code",
   "execution_count": 4960,
   "metadata": {
    "id": "6li0UyjpStjg"
   },
   "outputs": [
    {
     "name": "stdout",
     "output_type": "stream",
     "text": [
      "０です\n"
     ]
    }
   ],
   "source": [
    "a = 0\n",
    "\n",
    "if a > 0:    \n",
    "    print('0より大きいです')\n",
    "elif a == 0:\n",
    "    print('０です')\n",
    "else:\n",
    "    print('0より小さいです')"
   ]
  },
  {
   "cell_type": "markdown",
   "metadata": {
    "id": "tZ15Hv9Gv9dY"
   },
   "source": [
    "### 繰り返し（ while 文）\n",
    "\n",
    "繰り返し処理は、`for` 以外にも `while` を用いて記述することもできます。\n",
    "`while` 文では、以下のように**ループを継続する条件**を指定します。\n",
    "指定された条件文が `True` である限り、ブロックの部分に記述された処理が繰り返し実行されます。\n",
    "\n",
    "![while文](http://drive.google.com/uc?export=view&id=1_SNQsZEk5x9qnlJmL_5z_8wshYVya6TX)"
   ]
  },
  {
   "cell_type": "markdown",
   "metadata": {
    "id": "Zjv8d3Rmv9dZ"
   },
   "source": [
    "`while` 文を使用した 3 回繰り返すプログラムは下記のとおりです。"
   ]
  },
  {
   "cell_type": "code",
   "execution_count": 4961,
   "metadata": {
    "id": "aFhfzaDFv9dZ"
   },
   "outputs": [
    {
     "name": "stdout",
     "output_type": "stream",
     "text": [
      "0\n",
      "1\n",
      "2\n"
     ]
    }
   ],
   "source": [
    "count = 0\n",
    "\n",
    "while count < 3:\n",
    "    print(count)\n",
    "    count += 1"
   ]
  },
  {
   "cell_type": "markdown",
   "metadata": {
    "id": "1Q3QReThv9da"
   },
   "source": [
    "ここで使われている `count` という変数は、ループの中身が何回実行されたかを数えるために使われています。\n",
    "まず `0` で初期化し、ループ内の処理が一度行われるたびに `count` の値に 1 を足しています。\n",
    "この `count` を使った条件式を `while` 文に与えることで、ループを回したい回数を指定しています。\n",
    "\n",
    "一方、`while True` と指定すると、`True` は変数ではなく値なので、変更されることはなく、ループは無限に回り続けます。\n",
    "`while` 文自体は無限ループの状態にしておき、ループの中で `if` 文を使って、ある条件が満たされた場合はループを中断する、という使い方ができます。\n",
    "これには `break` 文が用いられます。\n",
    "\n",
    "以下は、`break` 文を使って上のコードと同様に 3 回ループを回すコードです。"
   ]
  },
  {
   "cell_type": "code",
   "execution_count": 4962,
   "metadata": {
    "id": "wj65vycFv9da"
   },
   "outputs": [
    {
     "name": "stdout",
     "output_type": "stream",
     "text": [
      "0\n",
      "1\n",
      "2\n"
     ]
    }
   ],
   "source": [
    "count = 0\n",
    "\n",
    "while True:\n",
    "    print(count)\n",
    "    count += 1\n",
    "    \n",
    "    if count == 3:\n",
    "        break"
   ]
  },
  {
   "cell_type": "markdown",
   "metadata": {
    "id": "AQFnBfgEv9da"
   },
   "source": [
    "`count` の値が 3 と等しいかどうかが毎回チェックされ、等しくなっていれば `break` 文が実行されて `while` ループが終了します。"
   ]
  },
  {
   "cell_type": "markdown",
   "metadata": {
    "id": "2rtEn2APv9db"
   },
   "source": [
    "`while` 文を使って、指定された条件を満たして**いない**間ループを繰り返すという処理も書くことができます。`while` 文自体の使い方は同じですが、条件を反転して与えることで、与えた条件が `False` である間繰り返されるようにすることができます。\n",
    "\n",
    "これには、ブール値を反転する `not` を用います。\n",
    "`not True` は `False` を返し、`not False` は `True` を返します。"
   ]
  },
  {
   "cell_type": "code",
   "execution_count": 4963,
   "metadata": {
    "id": "0PucNNA0v9db"
   },
   "outputs": [
    {
     "data": {
      "text/plain": [
       "False"
      ]
     },
     "execution_count": 4963,
     "metadata": {},
     "output_type": "execute_result"
    }
   ],
   "source": [
    "not True"
   ]
  },
  {
   "cell_type": "code",
   "execution_count": 4964,
   "metadata": {
    "id": "9iX7JkEOv9db"
   },
   "outputs": [
    {
     "data": {
      "text/plain": [
       "True"
      ]
     },
     "execution_count": 4964,
     "metadata": {},
     "output_type": "execute_result"
    }
   ],
   "source": [
    "not False"
   ]
  },
  {
   "cell_type": "code",
   "execution_count": 4965,
   "metadata": {
    "id": "TkSUZ1iZv9dc"
   },
   "outputs": [
    {
     "data": {
      "text/plain": [
       "True"
      ]
     },
     "execution_count": 4965,
     "metadata": {},
     "output_type": "execute_result"
    }
   ],
   "source": [
    "not 1 == 2"
   ]
  },
  {
   "cell_type": "markdown",
   "metadata": {
    "id": "0aM2yZ7qv9dd"
   },
   "source": [
    "このように、`not` はあとに続くブール値を反転します。\n",
    "これを用いて、`count` が 3 **ではない**限りループを繰り返すというコードを `while` 文を使って書いてみましょう。"
   ]
  },
  {
   "cell_type": "code",
   "execution_count": 4966,
   "metadata": {
    "id": "vhvBNYCXv9dd"
   },
   "outputs": [
    {
     "name": "stdout",
     "output_type": "stream",
     "text": [
      "0\n",
      "1\n",
      "2\n"
     ]
    }
   ],
   "source": [
    "count = 0\n",
    "\n",
    "while not count == 3:\n",
    "    print(count)\n",
    "    count += 1"
   ]
  },
  {
   "cell_type": "markdown",
   "metadata": {
    "id": "bY_GbbERXmeV"
   },
   "source": [
    "## 練習問題 本章のまとめ\n",
    "\n",
    "本章で学んだ内容を復習しましょう。下記の内容を次のセルに記述し、実行結果を確認してください。（必要に応じてセルの追加を行ってください。）  \n",
    "\n",
    "下記の内容のプログラムを作成・実行し、リスト `odd` と `even` の値を確認して下さい。  \n",
    "\n",
    "- 1、2、3、4、5、6、7、8、9、10 が格納されたリスト `numbers` を定義\n",
    "- `numbers` のリストから奇数を `odd` というリストに格納、偶数は `even` というリストに格納\n",
    "\n",
    "*ヒント*  \n",
    "\n",
    "for 文、if 文を活用しましょう。偶数か奇数かの判定には 2 で割り切れるかを用いるといいでしょう。"
   ]
  },
  {
   "cell_type": "code",
   "execution_count": 4967,
   "metadata": {
    "id": "pzhCNphxXmeW"
   },
   "outputs": [],
   "source": [
    "# numbers の定義\n",
    "numbers=[1, 2, 3, 4, 5, 6, 7, 8, 9, 10]"
   ]
  },
  {
   "cell_type": "code",
   "execution_count": 4968,
   "metadata": {
    "id": "WG_EayTjXmeW"
   },
   "outputs": [
    {
     "name": "stdout",
     "output_type": "stream",
     "text": [
      "even: [2, 4, 6, 8, 10]\n",
      "edd: [1, 3, 5, 7, 9]\n"
     ]
    }
   ],
   "source": [
    "# odd、even の獲得\n",
    "odd = []\n",
    "even = []\n",
    "\n",
    "for numbers in numbers:\n",
    "    if(numbers % 2 == 0):\n",
    "        even.append(numbers)\n",
    "        # print('even: {}'.format(even))\n",
    "    elif(numbers % 2 == 1):\n",
    "        odd.append(numbers)\n",
    "        # print('odd: {}'.format(edd))\n",
    "\n",
    "print('even: {}'.format(even))\n",
    "\n",
    "print('edd: {}'.format(odd))"
   ]
  }
 ],
 "metadata": {
  "colab": {
   "collapsed_sections": [
    "jZNTuBQ54BSu",
    "44vOyaBKEk3m",
    "hFr15AoSXmc8",
    "sarp3FmOXmc_",
    "VsdsnV9uiQev",
    "-ecJ1uuvXmdV",
    "iPc_-40MXmdX",
    "Z62QzE-4Bc4a",
    "VsBRE0Wyv9ca",
    "S1TLaajMDtmr",
    "CV1072C3M7Qy",
    "nV8Lp5jLNO66",
    "oELnTpERNwCQ",
    "WaplxtlFXmeN",
    "qqK2IwKUXmeQ",
    "WguFiYgqQnQT",
    "tZ15Hv9Gv9dY"
   ],
   "name": "TKBasic007_python_basic1.ipynb",
   "provenance": []
  },
  "kernelspec": {
   "display_name": ".venv",
   "language": "python",
   "name": "python3"
  },
  "language_info": {
   "codemirror_mode": {
    "name": "ipython",
    "version": 3
   },
   "file_extension": ".py",
   "mimetype": "text/x-python",
   "name": "python",
   "nbconvert_exporter": "python",
   "pygments_lexer": "ipython3",
   "version": "3.12.3"
  }
 },
 "nbformat": 4,
 "nbformat_minor": 0
}
