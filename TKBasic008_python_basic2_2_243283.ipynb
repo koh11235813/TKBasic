{
 "cells": [
  {
   "cell_type": "markdown",
   "metadata": {
    "id": "Lynzt3zlQnH2"
   },
   "source": [
    "# Pythonの基礎 2（関数）  \n",
    "前章からプログラミングの講義に入り、Pythonの基礎として変数と制御構文について学習しました。  \n",
    "本章ではそれらの知識をベースにして、具体的な処理を定義・実行するために必要な**関数**という概念を扱って行きます。  \n",
    "\n",
    "関数を学ぶメリットとしては、プログラムを記述する上で同じ処理が何度も必要になるケースで有用です。  \n",
    "機械学習に限らず、プログラムを学ぶ際には必ず理解すべきテーマなのでしっかり理解しておきましょう。  \n",
    "\n",
    "全く同じコードをコピー＆ペーストで書いてしまうと後から編集が困難なプログラムになってしまいます。  \n",
    "そういった事態を防ぐために、同じ処理は １ つの関数として独立して記述することで後から編集が用意になります。  "
   ]
  },
  {
   "cell_type": "markdown",
   "metadata": {
    "id": "7LXwg287QnH9"
   },
   "source": [
    "## 本章の構成\n",
    "- 関数とは  \n",
    "- 関数を定義する方法  \n",
    "- 様々な種類の関数を定義  "
   ]
  },
  {
   "cell_type": "markdown",
   "metadata": {
    "id": "e96zsBv7IfDn"
   },
   "source": [
    "## 関数とは\n",
    "\n",
    "冒頭でもお伝えした通り、プログラムを記述する際には同じような処理が何度も必要になるケースが多いです。  \n",
    "\n",
    "そのため、まとまった一連処理を実行するコードをプログラム全体から独立させて記述しておき、いつでも呼び出しできる状態にしておく事が重要です。そうすることで、エラー発生時や後からプログラムを編集する際に大幅に手間を減らすことが可能となります。  \n",
    "\n",
    "その為に用いる処理をひとまとめにする方法として**関数**の扱い方を紹介します。  "
   ]
  },
  {
   "cell_type": "markdown",
   "metadata": {
    "id": "RCB98_8xv9df"
   },
   "source": [
    "## 関数を定義する方法\n",
    "関数は図の様にヘッダー部分とブロック部分から構成されます。\n",
    "\n",
    "![関数の定義](http://drive.google.com/uc?export=view&id=1xGMYrCUk6gb-3tZZcX30baW_TaknyakO)\n",
    "\n",
    "\n",
    "簡単な関数の例として**受け取った値を 2 倍して表示する関数**を作ってみましょう。  \n",
    "関数を定義するには、まず名前を決める必要があるので、`double()` という名前で定義してみます。"
   ]
  },
  {
   "cell_type": "code",
   "execution_count": 1,
   "metadata": {
    "id": "iDh3Mpi_IfDp"
   },
   "outputs": [],
   "source": [
    "# 関数 double() の定義\n",
    "def double(x):\n",
    "    print(2 * x)"
   ]
  },
  {
   "cell_type": "markdown",
   "metadata": {
    "id": "yG-qN405v9dg"
   },
   "source": [
    "定義した関数を使用するためには実行を行うコードが必要です。"
   ]
  },
  {
   "cell_type": "code",
   "execution_count": 2,
   "metadata": {
    "id": "6QUecRiUv9dg"
   },
   "outputs": [
    {
     "name": "stdout",
     "output_type": "stream",
     "text": [
      "6\n"
     ]
    }
   ],
   "source": [
    "# 関数の実行\n",
    "double(3)"
   ]
  },
  {
   "cell_type": "code",
   "execution_count": 3,
   "metadata": {
    "id": "dR7DqN2fv9dh"
   },
   "outputs": [
    {
     "name": "stdout",
     "output_type": "stream",
     "text": [
      "10\n"
     ]
    }
   ],
   "source": [
    "double(5)"
   ]
  },
  {
   "cell_type": "code",
   "execution_count": 4,
   "metadata": {
    "id": "wjStuxcBv9di"
   },
   "outputs": [
    {
     "name": "stdout",
     "output_type": "stream",
     "text": [
      "3.0\n"
     ]
    }
   ],
   "source": [
    "double(1.5)"
   ]
  },
  {
   "cell_type": "markdown",
   "metadata": {
    "id": "CRggp-QcIfDs"
   },
   "source": [
    "`double(x)` における `x` のように、関数に渡される変数や値のことを**引数 (argument)** といいます。  \n",
    "上の例は関数名が `double` で、1つの引数 `x` をとり、`2 * x` という計算を行い、その結果を表示しています。"
   ]
  },
  {
   "cell_type": "markdown",
   "metadata": {
    "id": "KiAFZ31cQnIN"
   },
   "source": [
    "## 様々な種類の関数を定義"
   ]
  },
  {
   "cell_type": "markdown",
   "metadata": {
    "id": "VDqeEdX5v9dj"
   },
   "source": [
    "### 複数の引数をとる関数\n",
    "\n",
    "先ほどは 1 つの引数を取る関数を定義しましたが、実際に機械学習を行う際には複数の引数が必要となります。  \n",
    "複数の引数をとる関数を定義する場合は、関数名に続く `()` の中にカンマ `,` 区切りで引数名を並べます。  \n",
    "\n",
    "例として引数を 2 つとり、足し算を行う関数 `add()` を作ってみましょう。"
   ]
  },
  {
   "cell_type": "code",
   "execution_count": 5,
   "metadata": {
    "id": "ARE2LU8Qv9dl"
   },
   "outputs": [],
   "source": [
    "# 関数の定義\n",
    "def add(a, b):\n",
    "    print(a + b)"
   ]
  },
  {
   "cell_type": "code",
   "execution_count": 6,
   "metadata": {
    "id": "Zte-_M1-v9dl"
   },
   "outputs": [
    {
     "name": "stdout",
     "output_type": "stream",
     "text": [
      "3\n"
     ]
    }
   ],
   "source": [
    "# 関数の実行\n",
    "add(1, 2)"
   ]
  },
  {
   "cell_type": "code",
   "execution_count": 7,
   "metadata": {
    "id": "7HUAVoGhv9dm"
   },
   "outputs": [
    {
     "name": "stdout",
     "output_type": "stream",
     "text": [
      "5.5\n"
     ]
    }
   ],
   "source": [
    "add(3, 2.5)"
   ]
  },
  {
   "cell_type": "code",
   "execution_count": 8,
   "metadata": {
    "id": "IjMBFjvmv9dm"
   },
   "outputs": [
    {
     "name": "stdout",
     "output_type": "stream",
     "text": [
      "-4\n"
     ]
    }
   ],
   "source": [
    "add(1, -5)"
   ]
  },
  {
   "cell_type": "markdown",
   "metadata": {
    "id": "A8XpuE_av9dn"
   },
   "source": [
    "### 引数をとらない関数\n",
    "引数をとらない関数を定義する場合でも、関数名の後に `()` を記述しておく必要があります。  \n",
    "例えば、実行するとメッセージを表示する関数を定義して、実行してみましょう。"
   ]
  },
  {
   "cell_type": "code",
   "execution_count": 9,
   "metadata": {
    "id": "z2Xej00Bv9dn"
   },
   "outputs": [],
   "source": [
    "# 引数のない関数の定義\n",
    "def hello():\n",
    "    print('Pythonの基礎')"
   ]
  },
  {
   "cell_type": "code",
   "execution_count": 10,
   "metadata": {
    "id": "peShhHg2v9dn"
   },
   "outputs": [
    {
     "name": "stdout",
     "output_type": "stream",
     "text": [
      "Pythonの基礎\n"
     ]
    }
   ],
   "source": [
    "# 引数のない関数の実行\n",
    "hello()"
   ]
  },
  {
   "cell_type": "markdown",
   "metadata": {
    "id": "BZGSKTbcv9do"
   },
   "source": [
    "### 引数のデフォルト値\n",
    "\n",
    "引数には、あらかじめ値を与えておくことができます。\n",
    "これは、引数をとる関数を定義する際に、何も引数に値が渡されなかったときにどのような値がその引数に渡されたことにするかをあらかじめ決めておける機能で、その値のことを**デフォルト値**と呼びます。\n",
    "\n",
    "例えば、上の `hello()` という関数に、`message` という引数をもたせ、そこにデフォルト値を設定しておきます。"
   ]
  },
  {
   "cell_type": "code",
   "execution_count": 11,
   "metadata": {
    "id": "uw2d8qDov9do"
   },
   "outputs": [],
   "source": [
    "def hello(message='Pythonの基礎 関数編'):\n",
    "    print(message)"
   ]
  },
  {
   "cell_type": "markdown",
   "metadata": {
    "id": "7i8TQcfzv9do"
   },
   "source": [
    "この関数は引数に何も与えずに呼び出すと、「Pythonの基礎 関数編」というメッセージを表示し、引数に別な値が渡されると、その値を表示します。"
   ]
  },
  {
   "cell_type": "code",
   "execution_count": 12,
   "metadata": {
    "id": "Fh4VEHmMv9dp"
   },
   "outputs": [
    {
     "name": "stdout",
     "output_type": "stream",
     "text": [
      "Pythonの基礎 関数編\n"
     ]
    }
   ],
   "source": [
    "hello()"
   ]
  },
  {
   "cell_type": "code",
   "execution_count": 13,
   "metadata": {
    "id": "p2g-ULOWv9dp"
   },
   "outputs": [
    {
     "name": "stdout",
     "output_type": "stream",
     "text": [
      "Python basic!\n"
     ]
    }
   ],
   "source": [
    "hello('Python basic!')"
   ]
  },
  {
   "cell_type": "markdown",
   "metadata": {
    "id": "GWhAbt3ov9dq"
   },
   "source": [
    "デフォルト値が与えられていない引数は、関数呼び出しの際に必ず何らかの値が渡される必要がありますが、デフォルト値を持つ場合は、何も指定しなくても関数を呼び出すことができるようになります。"
   ]
  },
  {
   "cell_type": "markdown",
   "metadata": {
    "id": "DpwRYy4ov9dq"
   },
   "source": [
    "### 返り値のある関数\n",
    "\n",
    "上で定義した足し算を行う関数 `add()` では、計算結果を表示するだけで、計算結果を呼び出し元に戻していませんでした。\n",
    "そのため、このままでは計算結果を関数の外から利用することができません。\n",
    "\n",
    "そこで、`add()` 関数の末尾に `return` 文を追加して、計算結果を呼び出し元に返すように変更してみましょう。"
   ]
  },
  {
   "cell_type": "code",
   "execution_count": 14,
   "metadata": {
    "id": "ZCtzpxG1v9dq"
   },
   "outputs": [],
   "source": [
    "# 返り値のある関数の定義\n",
    "def add(a, b):\n",
    "    return a + b"
   ]
  },
  {
   "cell_type": "markdown",
   "metadata": {
    "id": "M9c1_e-sv9dr"
   },
   "source": [
    "このように、呼び出し元に返したい値を `return` に続いて書くと、その値が `add()` 関数を呼び出したところへ戻されます。\n",
    "`return` で返される値のことを**返り値 (return value)** と言います。\n",
    "\n",
    "以下に、計算結果を `result` という変数に格納し、表示する例を示します。"
   ]
  },
  {
   "cell_type": "code",
   "execution_count": 15,
   "metadata": {
    "id": "RPJnjuL5v9dr"
   },
   "outputs": [
    {
     "data": {
      "text/plain": [
       "4"
      ]
     },
     "execution_count": 15,
     "metadata": {},
     "output_type": "execute_result"
    }
   ],
   "source": [
    "result = add(1, 3)\n",
    "\n",
    "result"
   ]
  },
  {
   "cell_type": "markdown",
   "metadata": {
    "id": "tagr61vUv9ds"
   },
   "source": [
    "計算結果が `result` に格納されているので、この結果を用いてさらに別の処理を行うことができます。"
   ]
  },
  {
   "cell_type": "code",
   "execution_count": 16,
   "metadata": {
    "id": "Qe8Enb6Ev9ds"
   },
   "outputs": [
    {
     "data": {
      "text/plain": [
       "8"
      ]
     },
     "execution_count": 16,
     "metadata": {},
     "output_type": "execute_result"
    }
   ],
   "source": [
    "result = add(1, 3)\n",
    "\n",
    "result_doubled = result * 2\n",
    "\n",
    "result_doubled"
   ]
  },
  {
   "cell_type": "markdown",
   "metadata": {
    "id": "fP4OdcI-v9ds"
   },
   "source": [
    "また、返り値は「呼び出し元」に返されると書きました。\n",
    "この「呼び出し元」というのは、関数を呼び出す部分のことで、上のコードは `add(1, 3)` の部分が `4` という結果の値になり、それが左辺の `result` に代入されています。\n",
    "\n",
    "これを用いると、例えば「2 と 3 を足した結果と、1 と 3 を足した結果を、掛け合わせる」という計算が、以下のように書けます。"
   ]
  },
  {
   "cell_type": "code",
   "execution_count": 17,
   "metadata": {
    "id": "gs0hBjg6v9ds"
   },
   "outputs": [
    {
     "data": {
      "text/plain": [
       "20"
      ]
     },
     "execution_count": 17,
     "metadata": {},
     "output_type": "execute_result"
    }
   ],
   "source": [
    "add(2, 3) * add(1, 3)"
   ]
  },
  {
   "cell_type": "markdown",
   "metadata": {
    "id": "Bt6m8w3yQnIi"
   },
   "source": [
    "### 練習問題 返り値のある関数\n",
    "\n",
    "返り値のある関数までで学んだ内容を復習しましょう。下記の内容を次のセルに記述し、実行結果を確認してください。（必要に応じてセルの追加を行ってください。）  \n",
    "\n",
    "下記の内容の関数 `hello` を作成・実行し、実行結果を変数 `result` に格納し、確認して下さい。関数を作成する際にはまず動作するプログラムを作成しましょう。動作するプログラムが作成できたら、そのプログラムを関数化する、という流れを意識することが重要です。  \n",
    "\n",
    "1. 変数 `name` に Python という文字列を格納。`name` を使用して、'Hello, Python' という文字列を作成できるプログラムを作成\n",
    "2. 上記のプログラムを `hello` という名前で関数化。`hello(name='機械学習')`を実行すると 'Hello, 機械学習' という文字列を獲得できることを確認\n",
    "3. 関数の引数にデフォルトの値を設定した`hello2()`を作成、`hello2()` を実行すると 'Hello, 機械学習' という文字列を獲得できることを確認\n",
    "4. 実行結果を `result` という変数に格納・確認\n",
    "\n",
    "*ヒント*  \n",
    "\n",
    "実行結果は下記のようになります。  \n",
    "\n",
    "```python\n",
    "# 2. の実行結果 関数化\n",
    "result = hello('機械学習')\n",
    "print(result)\n",
    ">>> 'Hello 機械学習'\n",
    "\n",
    "# 3. の実行結果 関数の引数にデフォルトの値を設定\n",
    "result = hello2()\n",
    "print(result)\n",
    ">>> 'Hello 機械学習'\n",
    "```\n",
    "\n",
    "文字列に変数を加える際には、`文字列.format(変数)` 実行することができます。詳細は第 7 章 Python の基礎 1 を確認して下さい。"
   ]
  },
  {
   "cell_type": "code",
   "execution_count": 18,
   "metadata": {
    "id": "Grhjai6HQnIj"
   },
   "outputs": [
    {
     "name": "stdout",
     "output_type": "stream",
     "text": [
      "Hello, Python\n"
     ]
    }
   ],
   "source": [
    "# 動作するプログラムの作成\n",
    "name = 'Python'\n",
    "hl = 'Hello, '\n",
    "\n",
    "text = hl + name\n",
    "print(text)\n"
   ]
  },
  {
   "cell_type": "code",
   "execution_count": 19,
   "metadata": {
    "id": "XSdkLq3fQnIk"
   },
   "outputs": [],
   "source": [
    "# 動作するプログラムを関数化\n",
    "def hello(name):\n",
    "    hl = 'Hello, '\n",
    "    result = hl + name\n",
    "    return result\n",
    "\n"
   ]
  },
  {
   "cell_type": "code",
   "execution_count": 20,
   "metadata": {
    "id": "mQs5dMT2QnIl"
   },
   "outputs": [
    {
     "data": {
      "text/plain": [
       "'Hello, 機械学習'"
      ]
     },
     "execution_count": 20,
     "metadata": {},
     "output_type": "execute_result"
    }
   ],
   "source": [
    "# 関数の実行と返り値の確認\n",
    "hello(name = '機械学習')"
   ]
  },
  {
   "cell_type": "code",
   "execution_count": 21,
   "metadata": {
    "id": "SST0TasbQnIl"
   },
   "outputs": [],
   "source": [
    "# 関数にデフォルトの値を設定した関数の作成\n",
    "def hello2(name = '機械学習'):\n",
    "    hl = 'Hello, '\n",
    "    result = hl + name\n",
    "    return result"
   ]
  },
  {
   "cell_type": "code",
   "execution_count": 22,
   "metadata": {
    "id": "OZF-__LnQnIm"
   },
   "outputs": [
    {
     "data": {
      "text/plain": [
       "'Hello, Jupyter Notebook'"
      ]
     },
     "execution_count": 22,
     "metadata": {},
     "output_type": "execute_result"
    }
   ],
   "source": [
    "# 関数の実行と返り値の確認 \n",
    "hello2()\n",
    "hello2(name = 'Jupyter Notebook')"
   ]
  },
  {
   "cell_type": "markdown",
   "metadata": {
    "id": "RHjDTzD3QnIm"
   },
   "source": [
    "#### 模範解答"
   ]
  },
  {
   "cell_type": "code",
   "execution_count": 23,
   "metadata": {
    "id": "H3oA_HSaQnIm"
   },
   "outputs": [
    {
     "data": {
      "text/plain": [
       "'Hello, Python'"
      ]
     },
     "execution_count": 23,
     "metadata": {},
     "output_type": "execute_result"
    }
   ],
   "source": [
    "# 動作するプログラムの作成\n",
    "name = 'Python'\n",
    "'Hello, {}'.format(name)"
   ]
  },
  {
   "cell_type": "code",
   "execution_count": 24,
   "metadata": {
    "id": "JM8mqenVQnIn"
   },
   "outputs": [],
   "source": [
    "# 動作するプログラムを関数化\n",
    "def hello(name):\n",
    "    return 'Hello, {}'.format(name)"
   ]
  },
  {
   "cell_type": "code",
   "execution_count": 25,
   "metadata": {
    "id": "aJ4X3tzUQnIn"
   },
   "outputs": [
    {
     "data": {
      "text/plain": [
       "'Hello, 機械学習'"
      ]
     },
     "execution_count": 25,
     "metadata": {},
     "output_type": "execute_result"
    }
   ],
   "source": [
    "# 関数の実行と返り値の確認\n",
    "result = hello('機械学習')\n",
    "result"
   ]
  },
  {
   "cell_type": "code",
   "execution_count": 26,
   "metadata": {
    "id": "Uqx9VlwUQnIn"
   },
   "outputs": [],
   "source": [
    "# 関数にデフォルトの値を設定した関数の作成\n",
    "def hello2(name='機械学習'):\n",
    "    return 'Hello, {}'.format(name)"
   ]
  },
  {
   "cell_type": "code",
   "execution_count": 27,
   "metadata": {
    "id": "02MClq59QnIn"
   },
   "outputs": [
    {
     "data": {
      "text/plain": [
       "'Hello, 機械学習'"
      ]
     },
     "execution_count": 27,
     "metadata": {},
     "output_type": "execute_result"
    }
   ],
   "source": [
    "# 関数の実行と返り値の確認 \n",
    "result = hello2()\n",
    "result"
   ]
  },
  {
   "cell_type": "markdown",
   "metadata": {
    "id": "BJnkcc_Qv9dt"
   },
   "source": [
    "### 変数のスコープ\n",
    "\n",
    "関数の中で定義した変数は基本的には関数の外では利用できません。\n",
    "例えば、以下の例を見てみましょう。"
   ]
  },
  {
   "cell_type": "code",
   "execution_count": 28,
   "metadata": {
    "id": "L8vtxEV7v9dt"
   },
   "outputs": [
    {
     "data": {
      "text/plain": [
       "1"
      ]
     },
     "execution_count": 28,
     "metadata": {},
     "output_type": "execute_result"
    }
   ],
   "source": [
    "a = 1\n",
    "\n",
    "# 関数の内部で a に 2 を代入\n",
    "def change():\n",
    "    a = 2\n",
    "    \n",
    "change()\n",
    "\n",
    "a"
   ]
  },
  {
   "cell_type": "markdown",
   "metadata": {
    "id": "Z9slKEKXv9du"
   },
   "source": [
    "関数の外で `a = 1` と初期化した変数と同じ名前の変数に対して、`change()` 関数の内部で `a = 2` という代入を行っているにもかかわらず、`change()` 関数の実行後にも関数の外側では `a` の値は 1 のままになっています。\n",
    "**関数の外側で定義された変数** `a` **に、関数内部での処理が影響していないことがわかります。**\n",
    "\n",
    "なぜこうなるかというと、関数の中で変数に値が代入されるとき、その変数はその関数の**スコープ (scope)** でだけ有効な**ローカル変数**になり、関数の外にある同じ名前の変数とは別のものを指すようになるためです。\n",
    "スコープとは、その変数が参照可能な範囲のことです。\n",
    "上の例では、`a = 2` の代入を行った時点で`change()` 関数のスコープに `a` という変数が作られ、`change()` 関数の中からは `a` といえばこれを指すようになります。関数から抜けると、`a` は 1 を値に持つ外側の変数を指すようになります。\n",
    "\n",
    "ただし、代入を行わずに、参照するだけであれば、関数の内側から外側で定義された変数を利用することができます。"
   ]
  },
  {
   "cell_type": "code",
   "execution_count": 29,
   "metadata": {
    "id": "XgGcEUSQv9du"
   },
   "outputs": [
    {
     "name": "stdout",
     "output_type": "stream",
     "text": [
      "From inside: 1\n",
      "From outside: 1\n"
     ]
    }
   ],
   "source": [
    "a = 1\n",
    "\n",
    "def change():\n",
    "    print('From inside:', a)\n",
    "    \n",
    "change()\n",
    "\n",
    "print('From outside:', a)"
   ]
  },
  {
   "cell_type": "markdown",
   "metadata": {
    "id": "vAHe5xDGv9dv"
   },
   "source": [
    "この場合は、`change()` 関数のスコープには `a` という変数は作られないので、関数の中で `a` といえば外側で定義された変数を指します。\n",
    "\n",
    "関数の外で定義された変数は**グローバル変数**と呼ばれます。\n",
    "グローバル変数は、特に特別な記述を要せず参照することはできますが、関数の中で**代入**を行う場合は、`global` 文を使って、代入先をグローバル変数とする宣言を行う必要があります。"
   ]
  },
  {
   "cell_type": "code",
   "execution_count": 30,
   "metadata": {
    "id": "D1uNClamv9dv"
   },
   "outputs": [
    {
     "data": {
      "text/plain": [
       "2"
      ]
     },
     "execution_count": 30,
     "metadata": {},
     "output_type": "execute_result"
    }
   ],
   "source": [
    "a = 1\n",
    "\n",
    "def change():\n",
    "    global a  # a をグローバル変数である宣言\n",
    "    a = 2       # グローバル変数への代入\n",
    "\n",
    "# 関数の実行\n",
    "change()\n",
    "\n",
    "# 結果の確認 <- a の値が上書きされている\n",
    "a"
   ]
  },
  {
   "cell_type": "markdown",
   "metadata": {
    "id": "MSTyBWulv9dv"
   },
   "source": [
    "`global a` という行を `change()` 関数内で `a` という変数を使用する前に追加すると、その行以降は `a` という変数への代入も関数の外側で定義されたグローバル変数の `a` に対して行われます。"
   ]
  },
  {
   "cell_type": "markdown",
   "metadata": {
    "id": "mwZ-T1CTv9dn"
   },
   "source": [
    "### 組み込み関数\n",
    "\n",
    "上述のように自作で定義した関数 `double()`  `add()` などとは別で、Python には予め多くの関数が定義されています。そのような関数を**組み込み関数 (built-in function)** と呼び、ここまで何度か使用した`print()` や `len()`, `range()` は組み込み関数に該当します。  \n",
    "\n",
    "組み込み関数の一覧は[こちら](https://docs.python.org/ja/3/library/functions.html)で確認できるので、関数を自作する前に組み込み関数が用意されていないか確認するようにすると良いです。  "
   ]
  },
  {
   "cell_type": "markdown",
   "metadata": {
    "id": "VNOSlKD7QnIx"
   },
   "source": [
    "## 練習問題 本章のまとめ\n",
    "\n",
    "本章で学んだ内容を復習しましょう。下記の内容を次のセルに記述し、実行結果を確認してください。（必要に応じてセルの追加を行ってください。）  \n",
    "\n",
    "下記の内容の関数 `calc` を作成・実行し、実行結果をリスト `odd` と `even` に格納し、確認して下さい。  \n",
    "\n",
    "1. Python の組み込み関数である `list` と `range` を用いて、1 ~ 10 までの整数値をリスト `numbers` に格納\n",
    "2. `numbers` 内の値を奇数と偶数に分けるプログラムを作成。それぞれ `odd` と `even` に格納\n",
    "3. 2 で作成した、プログラムを `calc` という名前で関数化\n",
    "4. 関数に引数を設定し、`numbers` のリストの範囲を変更可能に変更\n",
    "\n",
    "*ヒント*  \n",
    "\n",
    "実行結果は下記のようになります。  \n",
    "\n",
    "```python\n",
    "# 1. numbers\n",
    "print(numbers)\n",
    ">>> [1, 2, 3, 4, 5, 6, 7, 8, 9 ,10]\n",
    "\n",
    "# 3. calc の実行\n",
    "odd, even = calc()\n",
    "print(odd, even)\n",
    ">>> [1, 3, 5, 7, 9] [2, 4, 6, 8, 10]\n",
    "\n",
    "# 4. 関数に引数を設定\n",
    "odd, even = calc(n_min=1, n_max=5)\n",
    "print(odd, even)\n",
    ">>> [1, 3, 5] [2, 4]\n",
    "```\n",
    "\n",
    "`calc` の関数の中に `numbers` の定義を含めましょう。`numbers` の定義をする際に `list(range(n_min, n_max+1))` とすることにより引数の値を用いて、リストの範囲を指定することができます。4 の関数に引数を設定する際は 3 で作成した関数をコピー＆ペーストし、新たなセルに貼り付け、その関数を変更しましょう。"
   ]
  },
  {
   "cell_type": "code",
   "execution_count": 31,
   "metadata": {
    "id": "p84xB0HdQ8Xx"
   },
   "outputs": [
    {
     "name": "stdout",
     "output_type": "stream",
     "text": [
      "[1, 2, 3, 4, 5, 6, 7, 8, 9, 10]\n"
     ]
    }
   ],
   "source": [
    "# 1. numbers\n",
    "n_min = 1\n",
    "n_max = 10\n",
    "numbers = list(range(n_min, n_max+1))\n",
    "\n",
    "print(numbers)"
   ]
  },
  {
   "cell_type": "code",
   "execution_count": 32,
   "metadata": {},
   "outputs": [
    {
     "name": "stdout",
     "output_type": "stream",
     "text": [
      "odd:   [1, 3, 5, 7, 9]\n",
      "even:  [2, 4, 6, 8, 10]\n"
     ]
    }
   ],
   "source": [
    "# 2. odd & even\n",
    "odd = []\n",
    "even = []\n",
    "\n",
    "for numbers in range(n_min, n_max + 1):\n",
    "    if (numbers % 2 == 1):\n",
    "        odd.append(numbers)\n",
    "    if (numbers % 2 == 0):\n",
    "        even.append(numbers)\n",
    "print('odd:  ', odd)\n",
    "print('even: ', even)\n"
   ]
  },
  {
   "cell_type": "code",
   "execution_count": 33,
   "metadata": {},
   "outputs": [
    {
     "name": "stdout",
     "output_type": "stream",
     "text": [
      "[1, 3, 5, 7, 9] [2, 4, 6, 8, 10]\n"
     ]
    }
   ],
   "source": [
    "# 3. calc\n",
    "n_min = 1\n",
    "n_max = 10\n",
    "numbers = list(range(n_min, n_max+1))\n",
    "\n",
    "def calc(_numbers, _n_min = 1, _n_max = 10):\n",
    "    _odd = []\n",
    "    _even = []\n",
    "\n",
    "    for _numbers in range(_n_min, _n_max + 1):\n",
    "        if (_numbers % 2 == 1):\n",
    "            _odd.append(_numbers)\n",
    "        if (_numbers % 2 == 0):\n",
    "            _even.append(_numbers)\n",
    "    return _odd, _even\n",
    "\n",
    "\n",
    "odd, even = calc(numbers, n_min, n_max)\n",
    "print(odd, even)\n",
    "    \n"
   ]
  },
  {
   "cell_type": "code",
   "execution_count": 34,
   "metadata": {},
   "outputs": [
    {
     "name": "stdout",
     "output_type": "stream",
     "text": [
      "[1, 3, 5] [2, 4]\n"
     ]
    }
   ],
   "source": [
    "# 4. set argument to function(calc)\n",
    "\n",
    "def calc(n_min = 1, n_max = 10):\n",
    "    numbers = list(range(n_min, n_max+1))\n",
    "    _odd = []\n",
    "    _even = []\n",
    "\n",
    "    for numbers in range(n_min, n_max + 1):\n",
    "        if (numbers % 2 == 1):\n",
    "            _odd.append(numbers)\n",
    "        if (numbers % 2 == 0):\n",
    "            _even.append(numbers)\n",
    "    return _odd, _even\n",
    "\n",
    "odd, even = calc(n_min=1, n_max=5)\n",
    "print(odd, even)\n"
   ]
  },
  {
   "cell_type": "markdown",
   "metadata": {
    "id": "5jP7bxVvQnI0"
   },
   "source": [
    "<img src=\"http://drive.google.com/uc?export=view&id=1g2xjXbw5qYeqdJqcOf3uASvzBQxhlE8u\" width=30%>"
   ]
  }
 ],
 "metadata": {
  "colab": {
   "collapsed_sections": [
    "A8XpuE_av9dn",
    "BZGSKTbcv9do",
    "DpwRYy4ov9dq",
    "Bt6m8w3yQnIi",
    "RHjDTzD3QnIm",
    "BJnkcc_Qv9dt",
    "mwZ-T1CTv9dn"
   ],
   "name": "TKBasic008_python_basic2.ipynb",
   "provenance": []
  },
  "kernelspec": {
   "display_name": ".venv",
   "language": "python",
   "name": "python3"
  },
  "language_info": {
   "codemirror_mode": {
    "name": "ipython",
    "version": 3
   },
   "file_extension": ".py",
   "mimetype": "text/x-python",
   "name": "python",
   "nbconvert_exporter": "python",
   "pygments_lexer": "ipython3",
   "version": "3.12.3"
  }
 },
 "nbformat": 4,
 "nbformat_minor": 0
}
