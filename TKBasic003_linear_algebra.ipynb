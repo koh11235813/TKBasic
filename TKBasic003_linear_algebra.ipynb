{
  "cells": [
    {
      "cell_type": "markdown",
      "metadata": {
        "id": "Lja-H3pv7q74"
      },
      "source": [
        "# 機械学習の数学 2（線形代数）"
      ]
    },
    {
      "cell_type": "markdown",
      "metadata": {
        "id": "KiD1JHDa7q75"
      },
      "source": [
        "3 章では、機械学習において微分と同等に頻出する**線形代数 (Linear algebra)**について解説します。  \n",
        "\n",
        "線形代数で用いられるベクトル・行列などの記法用いることで複数の変数間の関係をシンプルに記述できます。機械学習の理論を勉強する際に必須の知識となるため抑えておく必要があります。  "
      ]
    },
    {
      "cell_type": "markdown",
      "metadata": {
        "id": "kxfv5N4jAG9M"
      },
      "source": [
        "## 本章の構成\n",
        "- 線形代数とは  \n",
        "- 線形代数の記法  \n",
        "- ベクトル・行列の演算方法  "
      ]
    },
    {
      "cell_type": "markdown",
      "metadata": {
        "id": "-DU73biSAG9O"
      },
      "source": [
        "## 線形代数とは\n",
        "\n",
        "線形代数と言うと難しくイメージされる方が多いのですが、中学校で学ぶ連立方程式や高校で学ぶベクトルも線形代数の 1 つです。 基本的な理解としては、複雑な計算式を簡略化する事にメリットがあります。   \n",
        "\n",
        "プログラミングの分野においてはコンピュータに効率よく処理を行わせることが重要であり、特に機械学習の場合は大量の計算式が必要になります。その計算式を人にとってもコンピュータにとっても分かり易く表記するために線形代数の知識が不可欠となります。  "
      ]
    },
    {
      "cell_type": "markdown",
      "metadata": {
        "id": "vYXtuSvRAG9P"
      },
      "source": [
        "## 線形代数の記法\n",
        "最初に線形代数で使われるスカラー、ベクトル、行列の 3 つの記法について説明します。\n"
      ]
    },
    {
      "cell_type": "markdown",
      "metadata": {
        "id": "VSsvisJf7q76"
      },
      "source": [
        "### スカラー\n",
        "**スカラー (scalar)** は、1 つの値もしくは変数のことです。例えば、\n",
        "\n",
        "$$\n",
        "x, \\ y,\\  M,\\  N\n",
        "$$\n",
        "\n",
        "のように表します。一般的に、太字や斜体にされていない文字がスカラーを表すのに使われます。スカラーは例えば温度や身長といった単一の数量を表すことに使われます。\n",
        "\n",
        "\n",
        "### ベクトル\n",
        "**ベクトル (vector)** は、複数のスカラーを縦方向（もしくは横方向）に集めて並べたものであり、\n",
        "\n",
        "$$\n",
        "{\\bf x}=\\begin{bmatrix}\n",
        "x_{1} \\\\\n",
        "x_{2} \\\\\n",
        "x_{3}\n",
        "\\end{bmatrix}, \\\n",
        "{\\bf y}=\\begin{bmatrix}\n",
        "y_{1} \\\\\n",
        "y_{2} \\\\\n",
        "\\vdots \\\\\n",
        "y_{N}\n",
        "\\end{bmatrix}\n",
        "$$\n",
        "\n",
        "のように表します。ベクトルを表すのに用いられる文字は、スカラーと区別しやすいよう太字とするのが一般的です。ベクトルを表現する際、縦方向に並べたものを列ベクトル、横方向に並べたものを行ベクトルとよびます。本資料では、特に明示しない限り、単にベクトルと表現した場合には列ベクトルを指すこととします。\n",
        "\n",
        "\n",
        "### 行列\n",
        "**行列 (matrix)** は複数の同じサイズのベクトルを並べたものであり、\n",
        "\n",
        "$$\n",
        "{\\bf X} =\n",
        "\\begin{bmatrix}\n",
        "x_{11} & x_{12} \\\\\n",
        "x_{21} & x_{22} \\\\\n",
        "x_{31} & x_{32}\n",
        "\\end{bmatrix}\n",
        "$$\n",
        "\n",
        "のようなものを表します。行列のサイズは行数と列数で表現します。例えば、この ${\\bf X}$ は3行2列なので、サイズが $(3, 2)$ である行列、と言います。しばしば行列は大文字、または大文字の太文字で表記することで区別されます。"
      ]
    },
    {
      "cell_type": "markdown",
      "metadata": {
        "id": "LuMABYKaAG9S"
      },
      "source": [
        "## ベクトル・行列の演算方法"
      ]
    },
    {
      "cell_type": "markdown",
      "metadata": {
        "id": "WQ0tHkac7q77"
      },
      "source": [
        "### 足し算・引き算\n",
        "\n",
        "行列やベクトル同士の演算について学んでいきましょう。足し算は同じサイズの行列またはベクトルの間だけで成立します。以下に、行列およびベクトル同士の和の計算方法を具体例で示します。\n",
        "\n",
        "**ベクトル同士の和**\n",
        "$$\n",
        "\\begin{bmatrix}\n",
        "1 \\\\\n",
        "2 \\\\\n",
        "3\n",
        "\\end{bmatrix}+\\begin{bmatrix}\n",
        "4 \\\\\n",
        "5 \\\\\n",
        "6\n",
        "\\end{bmatrix}=\\begin{bmatrix}\n",
        "1 + 4 \\\\\n",
        "2 + 5 \\\\\n",
        "3 + 6\n",
        "\\end{bmatrix}=\\begin{bmatrix}\n",
        "5 \\\\\n",
        "7 \\\\\n",
        "9\n",
        "\\end{bmatrix}\n",
        "$$\n",
        "\n",
        "**行列同士の和**\n",
        "$$\n",
        "\\begin{bmatrix}\n",
        "1 & 2 & 3 \\\\\n",
        "4 & 5 & 6\n",
        "\\end{bmatrix}+\\begin{bmatrix}\n",
        "7 & 8 & 9 \\\\\n",
        "10 & 11 & 12\n",
        "\\end{bmatrix}=\\begin{bmatrix}\n",
        "1+7 & 2+8 & 3+9 \\\\\n",
        "4+10 & 5+11 & 6+12\n",
        "\\end{bmatrix}=\\begin{bmatrix}\n",
        "8 & 10 & 12 \\\\\n",
        "14 & 16 & 18\n",
        "\\end{bmatrix}\n",
        "$$\n",
        "\n",
        "このように行列やベクトルの中の**要素**を、それぞれ対応する場所同士で足し合わせます。引き算も同様です。ベクトルや行列の足し算・引き算は、**互いに同じサイズのベクトル間もしくは行列間でないと計算が成立しない**という点に注意しましょう。"
      ]
    },
    {
      "cell_type": "markdown",
      "metadata": {
        "id": "YAj8RCXV7q78"
      },
      "source": [
        "### ベクトルの内積\n",
        "\n",
        "同じサイズのベクトル間では内積が定義できます。内積は、 $\\cdot$ で表され、同じ位置の対応する要素同士を掛けていき、それらを足し合わせることで計算できます。\n",
        "\n",
        "$$\n",
        "\\begin{aligned}& \\begin{bmatrix}\n",
        "1 & 2 & 3\n",
        "\\end{bmatrix} \\cdot \\begin{bmatrix}\n",
        "4 \\\\\n",
        "5 \\\\\n",
        "6\n",
        " \\end{bmatrix} = 1 \\times 4 + 2 \\times 5  + 3 \\times 6 = 32 \\end{aligned}\n",
        "$$"
      ]
    },
    {
      "cell_type": "markdown",
      "metadata": {
        "id": "T5znTS-c7q79"
      },
      "source": [
        "### 行列の掛け算（行列積）\n",
        "\n",
        "行列の掛け算には、行列積、外積、要素積（アダマール積）など複数種あり、最もよく使われる**行列積**について説明します。以降では明示しない限り行列の掛け算は行列積を指すこととします。\n",
        "\n",
        "行列 ${\\bf A}$ と行列 ${\\bf B}$ の行列積は、${\\bf A}$ の各行と ${\\bf B}$ の各列の内積を並べたものとして定義されます。例えば行列 ${\\bf A}$ の2 行目の行ベクトルと、行列 ${\\bf B}$ の 2 列目の列ベクトルの内積の結果は、${\\bf A}$ と ${\\bf B}$ の行列積の結果を表す行列 ${\\bf C}$ の 2 行 2 列目に対応します。\n",
        "\n",
        "![行列積](http://drive.google.com/uc?export=view&id=1KHiTgY-j8yn7n6C0M-Tk_5xrFZ0stvYZ)\n",
        "\n",
        "そして、内積が定義される条件はベクトルのサイズが等しいということでしたが、ここでもそれが成り立つために、${\\bf   A}$ の**列数**と ${\\bf B}$ の**行数**が一致する必要があります。そして、結果の行列 ${\\bf C}$ の行数と列数は ${\\bf A}$ の行数と ${\\bf B}$ の列数とそれぞれ等しくなります。\n",
        "\n",
        "![行列積の条件](http://drive.google.com/uc?export=view&id=1sDloeV4z3SaQ_ooH1rOUGSQ7mWysVoNp)\n",
        "\n",
        "また、行列積がスカラー積と大きく異なる性質のひとつとして、${\\bf AB}$ と ${\\bf BA}$ が等しいとは限らないということが挙げられます。この違いを明示的に表現する言葉として、行列 ${\\bf A}$ に行列 ${\\bf B}$ を左から掛けること（ ${\\bf BA}$ の計算）を行列 ${\\bf B}$ を行列 ${\\bf A}$ に**左乗**すると言い、右から掛ける場合は**右乗**すると言います。\n",
        "\n",
        "行列積は線形代数や機械学習の多くの問題で使われます。また、行列同士の演算には割り算（例えば ${\\bf A} / {\\bf B}$ ）に相当するものはありませんが、後述する**逆行列**を使った ${\\bf A} {\\bf B}^{-1}$ のような逆行列の掛け算というものが存在します。\n",
        "\n",
        "それでは、計算条件を確認しながら、下記の３つの練習問題を計算してください。\n",
        "\n",
        "$$\n",
        "\\begin{aligned}\n",
        "&\\left( 1\\right)\n",
        "\\begin{bmatrix}\n",
        "1 & 2\n",
        "\\end{bmatrix}\n",
        "\\begin{bmatrix}\n",
        "3 \\\\\n",
        "4\n",
        "\\end{bmatrix}\\\\\n",
        "&\\left( 2\\right)\n",
        "\\begin{bmatrix}\n",
        "1 & 2 \\\\\n",
        "3 & 4\n",
        "\\end{bmatrix}\\begin{bmatrix}\n",
        "5 \\\\\n",
        "6\n",
        "\\end{bmatrix}\\\\\n",
        "&\\left( 3\\right)\n",
        "\\begin{bmatrix}\n",
        "1 & 2\n",
        "\\end{bmatrix}\\begin{bmatrix}\n",
        "3 & 4 \\\\\n",
        "5 & 6\n",
        "\\end{bmatrix}\\begin{bmatrix}\n",
        "3 \\\\\n",
        "1\n",
        "\\end{bmatrix}\n",
        "\\end{aligned}\n",
        "$$\n",
        "\n",
        "こちらが解答です。\n",
        "\n",
        "$$\n",
        "\\begin{aligned}\n",
        "&\\left( 1\\right)\n",
        "\\begin{bmatrix}\n",
        "1 & 2\n",
        "\\end{bmatrix}\\begin{bmatrix}\n",
        "3 \\\\\n",
        "4\n",
        "\\end{bmatrix} = 1\\times 3 + 2 \\times 4 = 11\\\\\n",
        "&\\left( 2\\right)\n",
        "\\begin{bmatrix}\n",
        "1 & 2 \\\\\n",
        "3 & 4\n",
        "\\end{bmatrix}\\begin{bmatrix}\n",
        "5 \\\\\n",
        "6\n",
        "\\end{bmatrix} = \\begin{bmatrix}\n",
        "1 \\times 5 + 2 \\times 6 \\\\\n",
        "3 \\times 5 + 4 \\times 6\n",
        "\\end{bmatrix} = \\begin{bmatrix}\n",
        "17 \\\\\n",
        "39\n",
        "\\end{bmatrix}\\\\\n",
        "&\\left( 3\\right)\n",
        "\\begin{bmatrix}\n",
        "1 & 2\n",
        "\\end{bmatrix}\\begin{bmatrix}\n",
        "3 & 4 \\\\\n",
        "5 & 6\n",
        "\\end{bmatrix}\\begin{bmatrix}\n",
        "3 \\\\\n",
        "1\n",
        "\\end{bmatrix}\n",
        "=\\begin{bmatrix}\n",
        "1 & 2\n",
        "\\end{bmatrix}\\begin{bmatrix}\n",
        "3 \\times 3 + 4 \\times 1 \\\\\n",
        "5 \\times 3 + 6 \\times 1\n",
        "\\end{bmatrix} = \\begin{bmatrix}\n",
        "1 & 2\n",
        "\\end{bmatrix}\\begin{bmatrix}\n",
        "13 \\\\\n",
        "21\n",
        "\\end{bmatrix}\n",
        "= 1 \\times 13 + 2 \\times 21\n",
        "=55\n",
        "\\end{aligned}\n",
        "$$\n",
        "\n",
        "このような計算は、機械学習の基礎を学習していく過程でよく登場します。行列積では、演算前と後の行数・列数の変化に注意しましょう。"
      ]
    },
    {
      "cell_type": "markdown",
      "metadata": {
        "id": "mFA54KR47q7-"
      },
      "source": [
        "### ベクトル・行列の転置\n",
        "\n",
        "ベクトルは縦方向に要素が並んだ列ベクトルを基本としていましたが、横方向に要素が並んだ行ベクトルを使いたい場合もあります。そこで列ベクトルを行ベクトルに、行ベクトルを列ベクトルに変換する操作を**転置 (transpose)** とよび、ベクトルを表す文字の右肩に ${\\rm T}$ と書くことでこの操作が行われることを表します。例えば、\n",
        "\n",
        "$$\n",
        "\\begin{aligned}\n",
        "{\\bf x}\n",
        "&=\\begin{bmatrix}\n",
        "1 \\\\\n",
        "2 \\\\\n",
        "3\n",
        "\\end{bmatrix}, \\\n",
        "{\\bf x}^{\\rm T} = \\begin{bmatrix} 1 & 2 & 3 \\end{bmatrix} \\\\\n",
        "{\\bf X}\n",
        "&=\\begin{bmatrix}\n",
        "1 & 4 \\\\\n",
        "2 & 5 \\\\\n",
        "3 & 6\n",
        "\\end{bmatrix}, \\\n",
        "{\\bf X}^{\\rm T}=\\begin{bmatrix}\n",
        "1 & 2 & 3 \\\\\n",
        "4 & 5 & 6\n",
        "\\end{bmatrix}\n",
        "\\end{aligned}\n",
        "$$\n",
        "\n",
        "のようになります。行列に対する転置では、サイズが $(N, M)$ だったものは行と列が入れ替わるためサイズが $(M, N)$ の行列となります。つまり、 $i$ 行 $j$ 列目の値が転置後には $j$ 行 $i$ 列目の値になります。転置の公式として次を覚えておきましょう。\n",
        "\n",
        "$$\n",
        "\\begin{aligned}\n",
        "&\\left( 1\\right) \\ \\left( {\\bf A}^{\\rm T} \\right)^{\\rm T} = {\\bf A} \\\\\n",
        "&\\left( 2\\right) \\ \\left( {\\bf A}{\\bf B} \\right)^{\\rm T} = {\\bf B}^{\\rm T}{\\bf A}^{\\rm T}\\\\\n",
        "&\\left( 3\\right) \\ \\left( {\\bf A}{\\bf B}{\\bf C} \\right)^{\\rm T} = {\\bf C}^{\\rm T}{\\bf B}^{\\rm T}{\\bf A}^{\\rm T}\n",
        "\\end{aligned}\n",
        "$$"
      ]
    },
    {
      "cell_type": "markdown",
      "metadata": {
        "id": "ukRIBXJL7q7_"
      },
      "source": [
        "### 演算によるベクトル・行列のサイズ変化\n",
        "\n",
        "行列積を行った後は行列サイズが変化します。サイズが $(L, M)$ の行列と $(M ,N)$ の行列の行列積の結果は $(L, N)$ となります。例えば先ほどの３つの練習問題のサイズがどのように変化したかを以下にまとめます。\n",
        "\n",
        "![ベクトル/行列のサイズ](http://drive.google.com/uc?export=view&id=1ZRJZ4-VAcJDrjq9lSM1rfbrzPE6gU4MO)\n",
        "\n",
        "(3)では、一番左端のベクトルと、真ん中の行列の乗算結果が、行ベクトルであるため、サイズの変化が(1)と同じケースに帰着することに注意してください。また、ある次元のサイズが1となった場合（例えば $(3, 1)$ の行列など）その次元を削除しベクトルをスカラーとして、行列をベクトルとして扱う場合があります。このようにサイズが1になった一部の次元をつぶす操作を squeeze と呼ぶ場合があります。"
      ]
    },
    {
      "cell_type": "markdown",
      "metadata": {
        "id": "PGh56iiO7q8A"
      },
      "source": [
        "### 単位行列\n",
        "\n",
        "スカラー値の $1$ は、 $10 \\times 1 = 10$ のように、任意の数を $1$ に乗じても値が変化しないという性質を持ちます。行列の演算において、これと同様の働きをする行列が**単位行列**です。\n",
        "\n",
        "$$\n",
        "{\\bf I} =\n",
        "\\begin{bmatrix}\n",
        "1 & 0 & \\cdots  & 0 \\\\\n",
        "0 & 1 & \\cdots  & 0 \\\\\n",
        "\\vdots & \\vdots & \\ddots & \\vdots  \\\\\n",
        "0 & 0 & \\cdots  & 1\n",
        "\\end{bmatrix}\n",
        "$$\n",
        "\n",
        "上記のような形をしており、記号 ${\\bf I}$ で表されるのが一般的です。行列の斜めの要素を**対角要素**とよび、それ以外の要素を非対角要素とよびます。単位行列は、対角要素が全て $1$ で、非対角要素が全て $0$ であるような **正方行列**（行数と列数が等しい行列）です。例えば、$2 \\times 2$ の単位行列は、\n",
        "\n",
        "$$\n",
        "{\\bf I} =\n",
        "\\begin{bmatrix}\n",
        "1 & 0 \\\\\n",
        "0 & 1\n",
        "\\end{bmatrix}\n",
        "$$\n",
        "\n",
        "であり、$3 \\times 3$ の単位行列は、\n",
        "\n",
        "$$\n",
        "{\\bf I} =\n",
        "\\begin{bmatrix}\n",
        "1 & 0 & 0 \\\\\n",
        "0 & 1 & 0 \\\\\n",
        "0 & 0 & 1\n",
        "\\end{bmatrix}\n",
        "$$\n",
        "\n",
        "です。行列のサイズを明示したい場合に、 $I_n$ （ $n \\times n$ の単位行列の意味）と添字でサイズを表記することがあります。\n",
        "\n",
        "単位行列はサイズが等しい任意の正方行列 ${\\bf A}$ に対して以下の計算が成立します。\n",
        "\n",
        "$$\n",
        "\\begin{aligned}\n",
        "{\\bf A}{\\bf I} &= {\\bf A} \\\\\n",
        "{\\bf I}{\\bf A} &= {\\bf A}\n",
        "\\end{aligned}\n",
        "$$\n",
        "\n",
        "適当な値を持つ行列を用意して、単位行列を掛け、元の行列と値が変わらないことを確認してみましょう。\n",
        "\n",
        "$$\n",
        "\\begin{aligned}\n",
        "\\begin{bmatrix}\n",
        "1 & 2 \\\\\n",
        "3 & 4\n",
        "\\end{bmatrix}\n",
        "\\begin{bmatrix}\n",
        "1 & 0 \\\\\n",
        "0 & 1\n",
        "\\end{bmatrix}\n",
        "&=\n",
        "\\begin{bmatrix}\n",
        "1 \\times 1 + 2 \\times 0 & 1 \\times 0 + 2 \\times 1 \\\\\n",
        "3 \\times 1 + 4 \\times 0 & 3 \\times 0 + 4 \\times 1\n",
        "\\end{bmatrix} \\\\\n",
        "&=\n",
        "\\begin{bmatrix}\n",
        "1 & 2 \\\\\n",
        "3 & 4\n",
        "\\end{bmatrix}\n",
        "\\end{aligned}\n",
        "$$\n",
        "\n",
        "元の行列と全ての要素が一致しました。"
      ]
    },
    {
      "cell_type": "markdown",
      "metadata": {
        "id": "truuSeTL7q8G"
      },
      "source": [
        "### 逆行列\n",
        "\n",
        "行列 ${\\bf A}$ に対し、 ${\\bf AB} = {\\bf I}$ , ${\\bf BA} = {\\bf I}$ を満たす行列 ${\\bf B}$ のことを ${\\bf A}$ の**逆行列**といい，このような条件を満たすものは存在すれば1つであることが知られています．それを ${\\bf A}^{-1}$ と書きます．すなわち，定義から\n",
        "\n",
        "$$\n",
        "\\begin{aligned}\n",
        "{\\bf AA}^{-1} = {\\bf I} \\\\\n",
        "{\\bf A}^{-1}{\\bf A} = {\\bf I}\n",
        "\\end{aligned}\n",
        "$$\n",
        "\n",
        "が成立します。ここで、 ${\\bf I}$ は単位行列です。逆行列は、スカラーにおける逆数（ $2 \\times 2^{-1} = 1$ ）に対応するような行列です。\n",
        "\n",
        "サイズが $2 \\times 2$ や $3 \\times 3$ といった小さな行列の場合には、手計算でも可能な逆行列計算の方法が知られていますが、機械学習ではより大きなサイズの行列（ $1000 \\times 1000$ など）を扱うことがあり、そういった大きな行列の逆行列を効率的または近似的にコンピュータを使って計算する手法が研究されています。\n",
        "\n",
        "また、逆行列は常に存在するとは限りません。逆行列が存在するような行列のことを**正則行列**と呼びます（行列が正則であるための条件については今回は説明しません。）"
      ]
    },
    {
      "cell_type": "markdown",
      "metadata": {
        "id": "a1hytPfx7q8M"
      },
      "source": [
        "### ベクトルによる微分と勾配\n",
        "\n",
        "微分は、入力が変化した場合の関数値の変化量から求められました。これは関数の入力がベクトルである場合も同様です。ベクトルを入力にとる関数の微分を考えてみましょう。入力ベクトルの要素毎に出力に対する偏微分を計算し、それらを並べてベクトルにしたものが**勾配 (gradient)** です。\n",
        "\n",
        "まず勾配計算の具体例を見てみましょう。\n",
        "\n",
        "$$\n",
        "\\begin{aligned}\n",
        "{\\bf b}\n",
        "&=\\begin{bmatrix}\n",
        "3 \\\\\n",
        "4\n",
        "\\end{bmatrix}, \\\n",
        "{\\bf x} =\n",
        "\\begin{bmatrix}\n",
        "x_{1} \\\\\n",
        "x_{2}\n",
        "\\end{bmatrix}\\\\\n",
        "{\\bf b}^{\\rm T}{\\bf x} &=\n",
        "\\begin{bmatrix}\n",
        "3 & 4\n",
        "\\end{bmatrix}\n",
        "\\begin{bmatrix}\n",
        "x_1 \\\\\n",
        "x_2\n",
        "\\end{bmatrix}\n",
        "= 3x_1 + 4x_2\n",
        "\\end{aligned}\n",
        "$$\n",
        "\n",
        "この ${\\bf b}^{\\rm T}{\\bf x}$ をベクトル ${\\bf x}$ で微分したものを、\n",
        "\n",
        "$$\n",
        "\\frac{\\partial}{\\partial {\\bf x}} \\left( {\\bf b}^{\\rm T}{\\bf x} \\right)\n",
        "$$\n",
        "\n",
        "と表し、これは ${\\bf b}^{\\rm T}{\\bf x}$ を ${\\bf x}$ という**ベクトルで微分**することを意味しています。「ベクトルで微分」とは、ベクトルの要素それぞれで対象を微分し、その結果を要素に対応する位置に並べたベクトルを計算することで、具体的には以下のようなことを指しています。\n",
        "\n",
        "$$\n",
        "\\begin{aligned}\n",
        "\\frac{\\partial}{\\partial {\\bf x}} \\left( {\\bf b}^{\\rm T} {\\bf x} \\right)\n",
        "&= \\frac{\\partial}{\\partial {\\bf x}} \\left( 3x_1 + 4x_2 \\right) \\\\\n",
        "&=\n",
        "\\begin{bmatrix}\n",
        "\\frac{\\partial}{\\partial x_1} \\left( 3x_1 + 4x_2 \\right) \\\\\n",
        "\\frac{\\partial}{\\partial x_2} \\left( 3x_1 + 4x_2 \\right)\n",
        "\\end{bmatrix}\n",
        "\\end{aligned}\n",
        "$$\n",
        "\n",
        "各要素の計算を進めると、以下のようになります。\n",
        "\n",
        "$$\n",
        "\\begin{aligned}\n",
        "\\frac{\\partial}{\\partial x_1} \\left( 3x_1 + 4x_2 \\right)\n",
        "&= \\frac{\\partial}{\\partial x_1} \\left( 3x_1 \\right)\n",
        "+ \\frac{\\partial}{\\partial x_1} \\left( 4x_2 \\right) \\\\\n",
        "&= 3 \\times \\frac{\\partial}{\\partial x_1} \\left( x_1 \\right)\n",
        "+ 4 \\times \\frac{\\partial}{\\partial x_1} (x_2) \\\\\n",
        "&= 3 \\times 1 + 4 \\times 0 \\\\\n",
        "&= 3\n",
        "\\end{aligned}\n",
        "$$\n",
        "\n",
        "$$\n",
        "\\begin{aligned}\n",
        "\\frac{\\partial}{\\partial x_2} \\left( 3x_1 + 4x_2 \\right)\n",
        "&= \\frac{\\partial}{\\partial x_2} \\left( 3x_1 \\right)\n",
        "+ \\frac{\\partial}{\\partial x_2} \\left( 4x_2 \\right) \\\\\n",
        "&= 3 \\times \\frac{\\partial}{\\partial x_2} (x_1)\n",
        "+ 4 \\times \\frac{\\partial}{\\partial x_2} (x_2) \\\\\n",
        "&= 3 \\times 0 + 4 \\times 1 \\\\\n",
        "&= 4\n",
        "\\end{aligned}\n",
        "$$\n",
        "\n",
        "計算結果を整理すると、以下のようになります。\n",
        "\n",
        "$$\n",
        "\\begin{aligned}\n",
        "\\frac{\\partial}{\\partial {\\bf x}} \\left( {\\bf b}^{\\rm T}{\\bf x} \\right)\n",
        "&=\n",
        "\\begin{bmatrix}\n",
        "\\frac{\\partial}{\\partial x_1} \\left( 3x_1 + 4x_2 \\right)  \\\\\n",
        "\\frac{\\partial}{\\partial x_2} \\left( 3x_1 + 4x_2\\right)\n",
        "\\end{bmatrix}\n",
        "=\n",
        "\\begin{bmatrix}\n",
        "3  \\\\\n",
        "4\n",
        "\\end{bmatrix}\n",
        "=\n",
        "{\\bf b}\n",
        "\\end{aligned}\n",
        "$$\n",
        "\n",
        "もう一つ別の例を考えてみましょう。\n",
        "\n",
        "$$\n",
        "\\begin{aligned}\n",
        "{\\bf b}\n",
        "&=\n",
        "\\begin{bmatrix}\n",
        "3 \\\\\n",
        "4\n",
        "\\end{bmatrix}, \\\n",
        "{\\bf x}\n",
        "=\n",
        "\\begin{bmatrix}\n",
        "x_{1} \\\\\n",
        "x_{2}\n",
        "\\end{bmatrix} \\\\\n",
        "\\frac{\\partial}{\\partial {\\bf x}} \\left( {\\bf b} \\right)\n",
        "&=\n",
        "\\begin{bmatrix}\n",
        "\\frac{\\partial}{\\partial x_1} \\left( 3 \\right)  \\\\\n",
        "\\frac{\\partial}{\\partial x_2} \\left( 4 \\right)\n",
        "\\end{bmatrix}\n",
        "=\n",
        "\\begin{bmatrix}\n",
        "0 \\\\\n",
        "0\n",
        "\\end{bmatrix}\n",
        "=\n",
        "{\\bf 0}\n",
        "\\end{aligned}\n",
        "$$\n",
        "\n",
        "偏微分を行う対象に変数が含まれていない場合、その偏微分は $0$ となります。要素が $0$ のみで構成されたベクトルを**ゼロベクトル**と言います。\n",
        "\n",
        "これらを踏まえて、いくつかよく現れるベクトルによる微分の計算結果をまとめて覚えておきましょう。\n",
        "\n",
        "$$\n",
        "\\begin{aligned}\n",
        "&\\left( 1 \\right) \\ \\frac{\\partial}{\\partial {\\bf x}} \\left( {\\bf c} \\right) = {\\bf 0} \\\\\n",
        "&\\left( 2 \\right) \\ \\frac{\\partial}{\\partial {\\bf x}} \\left( {\\bf b}^{\\rm T}{\\bf x} \\right) = {\\bf b} \\\\\n",
        "&\\left( 3 \\right) \\ \\frac{\\partial}{\\partial {\\bf x}} \\left( {\\bf x}^{\\rm T}{\\bf A}{\\bf x} \\right) = \\left( {\\bf A} + {\\bf A}^{\\rm T} \\right) {\\bf x}\n",
        "\\end{aligned}\n",
        "$$\n",
        "\n",
        "(1)と(2) はすでに導出済みです。(3) は導出が少し複雑なので省略しますが、数値を代入して確認してみてください。この3つの計算は機械学習を学んでいく上でよく登場します。\n",
        "\n",
        "こういった行列やベクトルの計算で用いられる公式は他にもたくさんあり、知っておくと便利なものが [The Matrix Cookbook](https://www.math.uwaterloo.ca/~hwolkowi/matrixcookbook.pdf) などにまとまっています。"
      ]
    },
    {
      "cell_type": "markdown",
      "metadata": {
        "id": "avCtKuJQAG9g"
      },
      "source": [
        "## 練習問題 本章のまとめ\n",
        "\n",
        "本章で学んだ内容を復習しましょう。問題の答えをそれぞれのセルに記載してください。  \n",
        "（プログラミングを行うのではなく、問題をノート上などで解き、回答を空白のセルに記入してください。）"
      ]
    },
    {
      "cell_type": "markdown",
      "metadata": {
        "id": "Onb2NmnEAG9h"
      },
      "source": [
        "問 1. 次の計算を行い、計算結果を次のセルに記述してください。  \n",
        "\n",
        "$$\n",
        "\\begin{aligned}\n",
        "\\begin{bmatrix}\n",
        "3 & 4\n",
        "\\end{bmatrix}\\begin{bmatrix}\n",
        "1 & 3 \\\\\n",
        "2 & 4\n",
        "\\end{bmatrix}\\begin{bmatrix}\n",
        "2 \\\\\n",
        "1\n",
        "\\end{bmatrix}\n",
        "\\end{aligned}\n",
        "$$"
      ]
    },
    {
      "cell_type": "code",
      "execution_count": null,
      "metadata": {
        "id": "jOAYpB9wAG9h"
      },
      "outputs": [],
      "source": [
        "# 問 1. の計算結果\n",
        "[18, 25]"
      ]
    },
    {
      "cell_type": "markdown",
      "source": [
        "$$\n",
        "{\\bf Ans.} =\n",
        "\\begin{bmatrix}\n",
        "18 \\\\\n",
        "25\n",
        "\\end{bmatrix}\n",
        "$$"
      ],
      "metadata": {
        "id": "xigHOl7OB0mu"
      }
    },
    {
      "cell_type": "markdown",
      "metadata": {
        "id": "5FcWsJ8WAG9k"
      },
      "source": [
        "問 2. 次の微分の計算を行い、計算結果を次のセルに記述してください。  \n",
        "\n",
        "$$\n",
        "\\begin{aligned}\n",
        "{\\bf b}\n",
        "&=\\begin{bmatrix}\n",
        "5 \\\\\n",
        "7\n",
        "\\end{bmatrix}, \\\n",
        "{\\bf x} =\n",
        "\\begin{bmatrix}\n",
        "x_{1} \\\\\n",
        "x_{2}\n",
        "\\end{bmatrix}\\\\\n",
        "\\end{aligned}\n",
        "$$\n",
        "\n",
        "$$\n",
        "\\frac{\\partial}{\\partial {\\bf x}} \\left( {\\bf b}^{\\rm T}{\\bf x} \\right)\n",
        "$$"
      ]
    },
    {
      "cell_type": "code",
      "execution_count": 2,
      "metadata": {
        "id": "yClZvAdxAG9k"
      },
      "outputs": [],
      "source": [
        "# 問 2. の計算結果"
      ]
    },
    {
      "cell_type": "markdown",
      "source": [
        "$$\n",
        "{\\bf b} =\n",
        "\\begin{bmatrix}\n",
        "5 \\\\\n",
        "7\n",
        "\\end{bmatrix}\n",
        "$$"
      ],
      "metadata": {
        "id": "nSjFU-xYBwNU"
      }
    },
    {
      "cell_type": "markdown",
      "metadata": {
        "id": "MxYBi5-AAG9r"
      },
      "source": [
        "問 3. 次のある ${\\bf a}$ ベクトル、${\\bf B}$ 行列、${\\bf c}$ ベクトルの計算を行った場合のサイズをスカラー・ベクトル・行列のいずれかから答えてください。  \n",
        "\n",
        "$$\n",
        "{\\bf a}^{\\rm T}{\\bf B}{\\bf c}\n",
        "$$"
      ]
    },
    {
      "cell_type": "code",
      "execution_count": null,
      "metadata": {
        "id": "6KvICuuHAG9s"
      },
      "outputs": [],
      "source": [
        "# 問 3. の回答\n",
        "ベクトル\n"
      ]
    },
    {
      "cell_type": "markdown",
      "metadata": {
        "id": "Kqnvbk0PAG9w"
      },
      "source": [
        "<img src=\"http://drive.google.com/uc?export=view&id=1g2xjXbw5qYeqdJqcOf3uASvzBQxhlE8u\" width=30%>"
      ]
    }
  ],
  "metadata": {
    "colab": {
      "provenance": []
    },
    "kernelspec": {
      "display_name": "Python 3",
      "language": "python",
      "name": "python3"
    },
    "language_info": {
      "codemirror_mode": {
        "name": "ipython",
        "version": 3
      },
      "file_extension": ".py",
      "mimetype": "text/x-python",
      "name": "python",
      "nbconvert_exporter": "python",
      "pygments_lexer": "ipython3",
      "version": "3.12.3"
    }
  },
  "nbformat": 4,
  "nbformat_minor": 0
}