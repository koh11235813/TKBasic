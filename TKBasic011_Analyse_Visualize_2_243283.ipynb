{
  "nbformat": 4,
  "nbformat_minor": 0,
  "metadata": {
    "accelerator": "GPU",
    "colab": {
      "name": "TKBasic011_Analyse_Visualize.ipynb",
      "provenance": [],
      "collapsed_sections": []
    },
    "kernelspec": {
      "display_name": "Python 3",
      "language": "python",
      "name": "python3"
    },
    "language_info": {
      "codemirror_mode": {
        "name": "ipython",
        "version": 3
      },
      "file_extension": ".py",
      "mimetype": "text/x-python",
      "name": "python",
      "nbconvert_exporter": "python",
      "pygments_lexer": "ipython3",
      "version": "3.6.4"
    },
    "toc": {
      "base_numbering": 1,
      "nav_menu": {},
      "number_sections": true,
      "sideBar": true,
      "skip_h1_title": false,
      "title_cell": "Table of Contents",
      "title_sidebar": "Contents",
      "toc_cell": false,
      "toc_position": {},
      "toc_section_display": true,
      "toc_window_display": false
    }
  },
  "cells": [
    {
      "cell_type": "markdown",
      "metadata": {
        "id": "YA1SG5ODM5oX"
      },
      "source": [
        "# データ処理と可視化\n",
        "\n",
        "本章から最終 15 章まで機械学習にデータの前処理や機械学習アルゴリズムの実装など、機械学習に関するプログラミングについて学んでいきます。  \n",
        "まず入門として、データ解析において必須となる Python のパッケージである Pandas と Matplotlib を用いたデータの取扱いを練習しましょう。  "
      ]
    },
    {
      "cell_type": "markdown",
      "metadata": {
        "id": "l7wiytrCM5oY"
      },
      "source": [
        "## 本章の構成\n",
        "- Pandas によるデータ処理の基礎  \n",
        "- Matplotlib によるデータ可視化の基礎  \n"
      ]
    },
    {
      "cell_type": "markdown",
      "metadata": {
        "id": "jEuKb9fhjovk"
      },
      "source": [
        "## Pandas によるデータ処理の基礎\n",
        "\n",
        "Pandas は Python を用いたデータ解析で最も頻繁に用いられるパッケージの 1 つであり、CSV データの読み込み・条件抽出・加工などデータ整理全般で使用します。  \n",
        "\n",
        "本節では Pandas の代表的な機能の使い方を説明します。  \n",
        "\n",
        "- CSV ファイルの読み込み  \n",
        "- 基礎統計量の算出  \n",
        "- データの並べ替え  \n",
        "- 入力変数と教師データの分割  \n",
        "- 欠損値の除去 / 補間  \n",
        "- カテゴリカル変数の取り扱い  \n",
        "\n",
        "まず Pandas パッケージを読み込みましょう。  \n",
        "`pandas` は `pd` という別名を与えて用いるのが一般的です。  "
      ]
    },
    {
      "cell_type": "code",
      "metadata": {
        "id": "oOg-SRWp2OQz"
      },
      "source": [
        "import pandas as pd"
      ],
      "execution_count": null,
      "outputs": []
    },
    {
      "cell_type": "markdown",
      "metadata": {
        "id": "26MTeJHGqx6q"
      },
      "source": [
        "### CSV ファイルの読み込み\n",
        "\n",
        "データセットは Colab で用意されているサンプルデータを使用します。  \n",
        "Colab 以外で実行する場合は、[こちら](https://download.mlcc.google.com/mledu-datasets/california_housing_train.csv)をダウンロードして、使用してください。\n",
        "\n",
        "**Colab へのファイルのアップロード**  \n",
        "\n",
        "アップロード方法は下記の画像に従ってください。ファイルをアップロードする前にノートブックがサーバーに接続されていることを確認してください。    \n",
        "\n",
        "![Google Colaboratory へのファイルのアップロード](http://drive.google.com/uc?export=view&id=1JtlmI-iagQya27eadl-G3fuDTxsEr2VX)\n",
        "\n",
        "![Google Colaboratory へのファイルのアップロード 2](http://drive.google.com/uc?export=view&id=1F64jQuUbK_QqiJMtAONgmWrCQK-vcQO3)\n",
        "\n",
        "ファイルタブをクリックし、アップロードのボタンをクリックするとファイルを選択し、アップロードを行うことができます。  \n",
        "もし、新規のフォルダを作成して、ファイルのアップロードを行う際は、右クリックから新しいフォルダを選択し、新規フォルダを作成した後にファイルをアップロードします。"
      ]
    },
    {
      "cell_type": "markdown",
      "metadata": {
        "id": "0GUo7yjIih3u"
      },
      "source": [
        "Pandas では CSV ファイルを読み込むための `pd.read_csv()` という関数が用意されています。\n",
        "こちらを使って CSV ファイルを読み込みます。"
      ]
    },
    {
      "cell_type": "code",
      "metadata": {
        "id": "QvqC02GJ3V0a"
      },
      "source": [
        "# データセットの読み込み\n",
        "df = pd.read_csv('sample_data/california_housing_train.csv')"
      ],
      "execution_count": null,
      "outputs": []
    },
    {
      "cell_type": "markdown",
      "metadata": {
        "id": "k8c9lneAih3y"
      },
      "source": [
        "`df` という変数名は、**データフレーム (data frame)** という Pandas で中心的に用いられる**データ構造 (data structure)** を表すクラスの名前の頭文字に由来しています。\n",
        "`pd.read_csv()` 関数は、CSV ファイルの内容を `DataFrame` オブジェクトに読み込みます。"
      ]
    },
    {
      "cell_type": "code",
      "metadata": {
        "id": "qj-5MVjXsDIY"
      },
      "source": [
        "# 型の確認\n",
        "type(df)"
      ],
      "execution_count": null,
      "outputs": []
    },
    {
      "cell_type": "markdown",
      "metadata": {
        "id": "Q3BBVv61Zwst"
      },
      "source": [
        "`df` に読み込まれたデータの中身の確認してみましょう。\n",
        "ノートブック上では、大きな DataFrame を表示しようとすると自動的に一部が省略されることがあります。"
      ]
    },
    {
      "cell_type": "code",
      "metadata": {
        "id": "8C5F7DqQZm1y"
      },
      "source": [
        "df"
      ],
      "execution_count": null,
      "outputs": []
    },
    {
      "cell_type": "markdown",
      "metadata": {
        "id": "1MgSOxlt3maP"
      },
      "source": [
        "データを数件のみ確認したい場合は、データフレームがもつ `df.head()` メソッドを使用します。\n",
        "`df.head()` はデフォルトで先頭から 5 件のデータを表示しますが、`df.head(3)` のように引数に表示したいデータ件数を指定すると、指定された件数だけを表示することもできます。\n",
        "それでは、`df.head()` を実行してみましょう。"
      ]
    },
    {
      "cell_type": "code",
      "metadata": {
        "id": "JoO8FkT8s5p9"
      },
      "source": [
        "df.head()"
      ],
      "execution_count": null,
      "outputs": []
    },
    {
      "cell_type": "code",
      "metadata": {
        "id": "UcPEPxhr300W"
      },
      "source": [
        "df.head(3)"
      ],
      "execution_count": null,
      "outputs": []
    },
    {
      "cell_type": "markdown",
      "metadata": {
        "id": "7uZd00IQ47fg"
      },
      "source": [
        "特定の列を抽出したい場合は、`df` に対し、Python の辞書オブジェクトに行うように `[]` を使って取り出したい列の名前を指定します。"
      ]
    },
    {
      "cell_type": "code",
      "metadata": {
        "id": "2MM8BHDt44F-"
      },
      "source": [
        "df['longitude'].head()"
      ],
      "execution_count": null,
      "outputs": []
    },
    {
      "cell_type": "markdown",
      "metadata": {
        "id": "H4C49YU4M5ox"
      },
      "source": [
        "Pandas では行列をデータフレーム型 (`DataFrame`) 、上記のようなベクトルをシリーズ型 (`Series`) と呼ぶ点も覚えておくとエラーの対処などが楽になるので覚えておきましょう。"
      ]
    },
    {
      "cell_type": "code",
      "metadata": {
        "id": "zkbGVJ9rM5ox"
      },
      "source": [
        "type(df['longitude'])"
      ],
      "execution_count": null,
      "outputs": []
    },
    {
      "cell_type": "markdown",
      "metadata": {
        "id": "dkl-DRIMM5oz"
      },
      "source": [
        "データフレームの行・列数を確認するには `.shape` 属性に保存されています。  \n",
        "1 つ目の要素が行数、2 つ目の要素が列数を表します。今回のデータセットの行数は 17,000 、列数が 9 であることが確認できます。データセットを読み込んだ際にはまずはデータの行・列数を確認するようにしましょう。  "
      ]
    },
    {
      "cell_type": "code",
      "metadata": {
        "id": "orJxYF4pM5oz"
      },
      "source": [
        "df.shape"
      ],
      "execution_count": null,
      "outputs": []
    },
    {
      "cell_type": "markdown",
      "metadata": {
        "id": "7fN9CvUmvMQH"
      },
      "source": [
        "### 基礎統計量の算出\n",
        "データフレームには、読み込んだデータの統計量を計算するためのメソッドも用意されています。"
      ]
    },
    {
      "cell_type": "code",
      "metadata": {
        "id": "zctW3yvxuAWM"
      },
      "source": [
        "# 平均\n",
        "df.mean()"
      ],
      "execution_count": null,
      "outputs": []
    },
    {
      "cell_type": "code",
      "metadata": {
        "id": "g-t0WmnsM5o5"
      },
      "source": [
        "# 分散\n",
        "df.var()"
      ],
      "execution_count": null,
      "outputs": []
    },
    {
      "cell_type": "code",
      "metadata": {
        "id": "uaua8RdmM5o7"
      },
      "source": [
        "# 標準偏差\n",
        "df.std()"
      ],
      "execution_count": null,
      "outputs": []
    },
    {
      "cell_type": "code",
      "metadata": {
        "id": "qxs0qB7WuAeY"
      },
      "source": [
        "# 各列の None, NaN, NaT のいずれでもない値の数\n",
        "df.count()"
      ],
      "execution_count": null,
      "outputs": []
    },
    {
      "cell_type": "markdown",
      "metadata": {
        "id": "z0TJ19egvQv7"
      },
      "source": [
        "ここで、データの特徴をおおまかに調べるために便利な `df.describe()` メソッドを実行してみましょう。  \n",
        "基礎統計量と呼ばれる平均値、標準偏差などを一覧で表示する事が出来ます。  "
      ]
    },
    {
      "cell_type": "code",
      "metadata": {
        "id": "T5kLGiCYuAbz"
      },
      "source": [
        "# 基礎統計量を一覧表示\n",
        "df.describe()"
      ],
      "execution_count": null,
      "outputs": []
    },
    {
      "cell_type": "markdown",
      "metadata": {
        "id": "bBq3AXbwNzu5"
      },
      "source": [
        "また、もうひとつ便利なメソッドに相関係数を算出する `df.corr()` があります。\n",
        "入力変数間や入出力間の相関係数を確認することができます。"
      ]
    },
    {
      "cell_type": "code",
      "metadata": {
        "id": "OnFXNN8UNoyR"
      },
      "source": [
        "# 相関係数の算出\n",
        "df.corr()"
      ],
      "execution_count": null,
      "outputs": []
    },
    {
      "cell_type": "markdown",
      "metadata": {
        "id": "NliEdJHzvpom"
      },
      "source": [
        "### データの並べ替え\n",
        "\n",
        "データフレームのある列を抽出し、`df.sort_values()` メソッドを呼び出すことで値の**並べ替え (sort)** を行うことができます。\n",
        "なお、このメソッドは並べ替えが終わったあとの値でもとのデータフレーム内の値を置き換えることまでは行わず、結果を返します。\n",
        "そこで、別の変数で結果を受け取り、始めの 5 行を表示することで並べ替えが行われたことを確認してみましょう。\n",
        "\n",
        "`df.sort_values()` は、デフォルトでは**昇順 (ascending)** に並べ替えを行います。昇順とは、だんだん値が大きくなっていくように並べ替えるときの並べ方のことで、逆にだんだん値が小さくなっていくように並べ替えるときは、**降順 (descending)** に並べると言います。\n",
        "\n",
        "`df.sort_values()` は並べ替えを行いたい列の名前を `by` という引数で受け取ります。また、デフォルトでは昇順に並べ替えを行います。  \n",
        "Colab 上では、メソッドを記述し、`()` 内にカーソルを合わせると必要な引数が自動的に表示されます。  \n",
        "また、メソッドを持つ値に `.` を入力すると候補となるメソッド一覧が表示されます。"
      ]
    },
    {
      "cell_type": "code",
      "metadata": {
        "id": "efmrXOKKwVmf"
      },
      "source": [
        "# total_rooms 列の値を昇順に並べ替え\n",
        "df_as = df.sort_values(by='total_rooms')"
      ],
      "execution_count": null,
      "outputs": []
    },
    {
      "cell_type": "code",
      "metadata": {
        "id": "4-NZFmT3wVjx"
      },
      "source": [
        "df_as.head()"
      ],
      "execution_count": null,
      "outputs": []
    },
    {
      "cell_type": "markdown",
      "metadata": {
        "id": "JvBXPheQxExY"
      },
      "source": [
        "降順に並べ替える場合は、`ascending=False` という引数の指定を行います。"
      ]
    },
    {
      "cell_type": "code",
      "metadata": {
        "id": "H5hcz3PowVgc"
      },
      "source": [
        "# total_rooms の列の値を降順に並べ替え\n",
        "df_de = df.sort_values(by='total_rooms', ascending=False)"
      ],
      "execution_count": null,
      "outputs": []
    },
    {
      "cell_type": "code",
      "metadata": {
        "id": "As4wF8YtwVdL"
      },
      "source": [
        "df_de.head()"
      ],
      "execution_count": null,
      "outputs": []
    },
    {
      "cell_type": "markdown",
      "metadata": {
        "id": "33kVroZ235bY"
      },
      "source": [
        "### インデックス指定によるデータの選択\n",
        "\n",
        "機械学習を行う際には用意した CSV データをそのまま使用することは非常に稀です。情報を適切に取捨選択することがモデルの予測性能を高める上でとても重要なので、データの行・列を選択して必要なデータを抽出する手順を抑える必要があります。  \n",
        "\n",
        "列や行の選択を行う方法は複数ありますが、ここでは整数インデックスを用いてデータの部分選択を行う `df.iloc[]` を紹介します。"
      ]
    },
    {
      "cell_type": "code",
      "metadata": {
        "id": "e7WrVEj2zAhh"
      },
      "source": [
        "# データの確認\n",
        "df.head()"
      ],
      "execution_count": null,
      "outputs": []
    },
    {
      "cell_type": "code",
      "metadata": {
        "id": "UFTSn1GEzF77"
      },
      "source": [
        "# df.iloc[行, 列]\n",
        "# 0 行目 longitude 列の選択\n",
        "df.iloc[0, 0]"
      ],
      "execution_count": null,
      "outputs": []
    },
    {
      "cell_type": "code",
      "metadata": {
        "id": "2U1AiMzizJ0U"
      },
      "source": [
        "# 1 行目 latitude 列の選択\n",
        "df.iloc[1, 1]"
      ],
      "execution_count": null,
      "outputs": []
    },
    {
      "cell_type": "markdown",
      "metadata": {
        "id": "ZPpt5xaHzacL"
      },
      "source": [
        "前章で学んだ NumPy の Array のスライス方法と同様に `:` で全ての値を指定することができます。  \n",
        "また、負のインデックスを用いると、末尾の要素から数えた位置指定を行うこともできます。"
      ]
    },
    {
      "cell_type": "code",
      "metadata": {
        "id": "0jN1f_720Q15"
      },
      "source": [
        "# すべての行の、先頭の列から末尾の列のひとつ手前までを選択\n",
        "x = df.iloc[:, 0:-1]"
      ],
      "execution_count": null,
      "outputs": []
    },
    {
      "cell_type": "code",
      "metadata": {
        "id": "T04ZdhW6M5pd"
      },
      "source": [
        "# 先頭の5件の表示\n",
        "x.head()"
      ],
      "execution_count": null,
      "outputs": []
    },
    {
      "cell_type": "markdown",
      "metadata": {
        "id": "aiH3wkgD0Z08"
      },
      "source": [
        "次のように先頭位置を省略した記述も可能です。  "
      ]
    },
    {
      "cell_type": "code",
      "metadata": {
        "id": "9M3-hDef0RAc"
      },
      "source": [
        "# すべての行の、先頭の列から末尾の列のひとつ手前までを選択\n",
        "x = df.iloc[:, :-1]"
      ],
      "execution_count": null,
      "outputs": []
    },
    {
      "cell_type": "code",
      "metadata": {
        "id": "yLWcPbBs0l16"
      },
      "source": [
        "# 先頭の5件の表示\n",
        "x.head()"
      ],
      "execution_count": null,
      "outputs": []
    },
    {
      "cell_type": "markdown",
      "metadata": {
        "id": "zeCTdqHL7q5i"
      },
      "source": [
        "### 条件指定によるデータの選択\n",
        "\n",
        "次に、条件指定してデータの選択を行う方法を紹介します。\n",
        "\n",
        "まず `median_house_value` 列を選択し、比較演算子を使って**各要素に対する条件**を指定し、条件を満たすかどうかを全要素に対して調べた結果を取得してみましょう。"
      ]
    },
    {
      "cell_type": "code",
      "metadata": {
        "id": "RhJW40Cz6VZj"
      },
      "source": [
        "# median_house_value 列を選択し、全要素に対し 70000 より大きいかどうかを計算\n",
        "mask = df['median_house_value'] > 70000"
      ],
      "execution_count": null,
      "outputs": []
    },
    {
      "cell_type": "code",
      "metadata": {
        "id": "srYmImEs6VVe"
      },
      "source": [
        "mask.head()"
      ],
      "execution_count": null,
      "outputs": []
    },
    {
      "cell_type": "markdown",
      "metadata": {
        "id": "OQ5EFadC6nfc"
      },
      "source": [
        "このように、比較演算子の片方の辺にデータフレームやシリーズをおくと、指定された条件を満たすかどうかを全ての要素に対して計算することができます。\n",
        "結果は、各要素が条件を満たすか、満たさないかを表す `True`、`False` が各要素の位置に格納されたデータフレームやシリーズとなります。\n",
        "これを**マスク (mask)** と呼ぶことがあります。\n",
        "\n",
        "そして、データフレームやシリーズも NumPy の ndarray と同様に、マスクを使って要素を選択することができます。\n",
        "上の `mask` を `df` に `[]` を使って与えることで、指定した条件を満たす要素だけを取り出すことができます。"
      ]
    },
    {
      "cell_type": "code",
      "metadata": {
        "id": "ET6N9DZi6VSV"
      },
      "source": [
        "# df[mask] の先頭 5 件を表示\n",
        "df[mask].head()"
      ],
      "execution_count": null,
      "outputs": []
    },
    {
      "cell_type": "markdown",
      "metadata": {
        "id": "sRw6qcbi7U8t"
      },
      "source": [
        "### 複数の条件指定による要素の選択\n",
        "複数の条件を組み合わせて要素を選択することもでき、**論理和 (or)** は `|`、**論理積 (and)** は `&` を用いて記述します。"
      ]
    },
    {
      "cell_type": "code",
      "metadata": {
        "id": "tYad4IqH8-TU"
      },
      "source": [
        "# 70000 より小さい または 80000 より大きい\n",
        "mask2 = (df['median_house_value'] < 70000) | (df['median_house_value'] > 80000)"
      ],
      "execution_count": null,
      "outputs": []
    },
    {
      "cell_type": "code",
      "metadata": {
        "id": "0QLUPiuo9IDM"
      },
      "source": [
        "mask2.head()"
      ],
      "execution_count": null,
      "outputs": []
    },
    {
      "cell_type": "code",
      "metadata": {
        "id": "spv0H36u9mjf"
      },
      "source": [
        "df[mask2].head()"
      ],
      "execution_count": null,
      "outputs": []
    },
    {
      "cell_type": "code",
      "metadata": {
        "id": "1El4-CLU7UPA"
      },
      "source": [
        "# 70000 より大きい かつ 80000 より小さい\n",
        "mask3 = (df['median_house_value'] > 70000) & (df['median_house_value'] < 80000)"
      ],
      "execution_count": null,
      "outputs": []
    },
    {
      "cell_type": "code",
      "metadata": {
        "id": "EDxNGNDp6VOl"
      },
      "source": [
        "mask3.head()"
      ],
      "execution_count": null,
      "outputs": []
    },
    {
      "cell_type": "code",
      "metadata": {
        "id": "tD0geZQw9lt5"
      },
      "source": [
        "df[mask3].head()"
      ],
      "execution_count": null,
      "outputs": []
    },
    {
      "cell_type": "markdown",
      "metadata": {
        "id": "fbPB_J8H9ayc"
      },
      "source": [
        "条件に当てはまる要素を調べる操作と、条件に当てはまる要素の選択まで、1 行にまとめて書くこともできます。"
      ]
    },
    {
      "cell_type": "code",
      "metadata": {
        "id": "lNcH1ii_6N2O"
      },
      "source": [
        "df[(df['median_house_value'] > 70000) & (df['median_house_value'] < 80000)].head()"
      ],
      "execution_count": null,
      "outputs": []
    },
    {
      "cell_type": "markdown",
      "metadata": {
        "id": "vGjqaByGDShU"
      },
      "source": [
        "### 欠損値の除去・補完\n",
        "\n",
        "データの一部に欠落が存在する場合、該当箇所を欠損値と呼び、 `NaN` (Not a Number)、`None`、`NaT` (Not a Time) などで表示されます。基本的に機械学習のアルゴリズムにデータを適用する際にこのような欠損値は事前に取り除くなどの対処の必要があります。  \n",
        "\n",
        "最も簡単な方法としては、欠損値を含む行（または列）全体を除去する方法があります。  \n",
        "他にも平均値・最頻値など何らかの値で欠損値を補完する方法があります。  \n",
        "\n",
        "まずは、欠損値を除去する方法を紹介します。"
      ]
    },
    {
      "cell_type": "code",
      "metadata": {
        "id": "aoE0QNhuDRyQ"
      },
      "source": [
        "# 演習の為に欠損値を人為的に作成\n",
        "df.iloc[0, 0] = None"
      ],
      "execution_count": null,
      "outputs": []
    },
    {
      "cell_type": "code",
      "metadata": {
        "id": "qZgx5pchDRua"
      },
      "source": [
        "# (0, 'longitude') の要素が NaN になっていることを確認\n",
        "df.head(3)"
      ],
      "execution_count": null,
      "outputs": []
    },
    {
      "cell_type": "code",
      "metadata": {
        "id": "_G5T0rQ2DRq2"
      },
      "source": [
        "# 欠損値のあるレコードを削除\n",
        "df_dropna = df.dropna()\n",
        "\n",
        "# 先頭から 3 件を表示\n",
        "df_dropna.head(3)"
      ],
      "execution_count": null,
      "outputs": []
    },
    {
      "cell_type": "markdown",
      "metadata": {
        "id": "gWpfdlT3E2UE"
      },
      "source": [
        "上の結果と見比べると、`NaN` を含んでいた 0 行目のデータが取り除かれていることが分かります。\n",
        "\n",
        "次に、平均値を使った欠損値の補完を行います。"
      ]
    },
    {
      "cell_type": "code",
      "metadata": {
        "id": "Yv9ICb3wDRm4"
      },
      "source": [
        "# 補完に使用する平均値を計算\n",
        "mean = df.mean()\n",
        "mean"
      ],
      "execution_count": null,
      "outputs": []
    },
    {
      "cell_type": "markdown",
      "metadata": {
        "id": "FJM1ZBXLM5qG"
      },
      "source": [
        "計算した各列の値の平均が格納されている `mean` を、`df.fillna()` メソッドに渡すことで、`mean` を用いた欠損値の補完を行うことができます。"
      ]
    },
    {
      "cell_type": "code",
      "metadata": {
        "id": "ucbggS34FCGu"
      },
      "source": [
        "# 欠損値を mean で補完\n",
        "df_fillna =  df.fillna(mean)\n",
        "\n",
        "# 先頭から 3 件を表示\n",
        "df_fillna.head(3)"
      ],
      "execution_count": null,
      "outputs": []
    },
    {
      "cell_type": "markdown",
      "metadata": {
        "id": "e0QntVBrFN2o"
      },
      "source": [
        "`longitude` 列の 0 行目のデータが 、`mean` の `longitude` の値で補完されていることが確認できます。\n",
        "\n",
        "今回は欠損値が 1 箇所にだけあるデータを用いましたが、`df.dropna()` や `df.fillna()` は、対象の全ての欠損値に対して上記のような操作を行うメソッドです。"
      ]
    },
    {
      "cell_type": "markdown",
      "metadata": {
        "id": "8dJLBY53M5qJ"
      },
      "source": [
        "### 練習問題 Pandas によるデータ処理の基礎\n",
        "\n",
        "Pandasの基礎的な操作方法を復習しましょう。下記の内容を次のセルに記述し、実行結果を確認してください。（必要に応じてセルの追加を行ってください。）  \n",
        "\n",
        "- `sample_data/california_housing_train.csv` のファイルから再度 CSV ファイルの読み込み `df2` という変数に格納\n",
        "- 読み込んだデータセットの各列のデータ数、平均、標準偏差、最小値、最大値などの確認\n",
        "- 1 列目から `median_income` の列までを切り出し、`x` という変数に格納\n",
        "- `median_house_value` の列を切り出し、`t` という変数に格納\n",
        "- `t` の値が 450000 以上のデータを抽出\n",
        "- 上記の抽出したデータを降順に並び替えて値の確認\n",
        "\n",
        "*ヒント*  \n",
        "`median_income` の列は後ろから 2 列目に該当します。うまく負の値を用いて切り出しましょう。  "
      ]
    },
    {
      "cell_type": "code",
      "metadata": {
        "id": "Wi9mNkCZO03Q"
      },
      "source": [
        "# CSV ファイルの読み込み\n"
      ],
      "execution_count": null,
      "outputs": []
    },
    {
      "cell_type": "code",
      "metadata": {
        "id": "Ib6nK0T3O03T"
      },
      "source": [
        "# データの基礎的な統計量の確認\n"
      ],
      "execution_count": null,
      "outputs": []
    },
    {
      "cell_type": "code",
      "metadata": {
        "id": "dCqwXZq9O03V"
      },
      "source": [
        "# データの切り分け： 1 列目から median_income → x\n"
      ],
      "execution_count": null,
      "outputs": []
    },
    {
      "cell_type": "code",
      "metadata": {
        "id": "M3wkyi5-O03X"
      },
      "source": [
        "# データの切り分け： median_house_value → t\n"
      ],
      "execution_count": null,
      "outputs": []
    },
    {
      "cell_type": "code",
      "metadata": {
        "id": "0yurXZVbO03Y"
      },
      "source": [
        "# データの条件抽出：マスクの作成\n"
      ],
      "execution_count": null,
      "outputs": []
    },
    {
      "cell_type": "code",
      "metadata": {
        "id": "CfvisZ14O03a"
      },
      "source": [
        "# データの条件抽出と降順で並び替え\n"
      ],
      "execution_count": null,
      "outputs": []
    },
    {
      "cell_type": "markdown",
      "metadata": {
        "id": "VLpny-_bO51F"
      },
      "source": [
        "#### 模範解答"
      ]
    },
    {
      "cell_type": "code",
      "metadata": {
        "id": "Ecr_8jrSM5qK"
      },
      "source": [
        "# CSV ファイルの読み込み\n",
        "df2 = pd.read_csv('sample_data/california_housing_train.csv')\n",
        "df2.head()"
      ],
      "execution_count": null,
      "outputs": []
    },
    {
      "cell_type": "code",
      "metadata": {
        "id": "NU-b1aQXM5qL"
      },
      "source": [
        "# データの基礎的な統計量の確認\n",
        "df2.describe()"
      ],
      "execution_count": null,
      "outputs": []
    },
    {
      "cell_type": "code",
      "metadata": {
        "id": "ufinWVMfM5qM"
      },
      "source": [
        "# データの切り分け： 1 列目から median_income → x\n",
        "x = df2.iloc[:, :-1]\n",
        "x.head()"
      ],
      "execution_count": null,
      "outputs": []
    },
    {
      "cell_type": "code",
      "metadata": {
        "id": "iAvUew95M5qO"
      },
      "source": [
        "# データの切り分け： median_house_value → t\n",
        "t = df2.iloc[:, -1]\n",
        "t.head()"
      ],
      "execution_count": null,
      "outputs": []
    },
    {
      "cell_type": "code",
      "metadata": {
        "id": "fyBP0rzZM5qQ"
      },
      "source": [
        "# データの条件抽出：マスクの作成\n",
        "mask = (t > 450000)"
      ],
      "execution_count": null,
      "outputs": []
    },
    {
      "cell_type": "code",
      "metadata": {
        "id": "GwWo1XXnM5qR"
      },
      "source": [
        "# データの条件抽出と降順で並び替え\n",
        "t[mask].sort_values(ascending=False)"
      ],
      "execution_count": null,
      "outputs": []
    },
    {
      "cell_type": "markdown",
      "metadata": {
        "id": "MSKoKElq1kF4"
      },
      "source": [
        "## Matplotlib によるデータ可視化の基礎\n",
        "\n",
        "\n",
        "データフレームを見ただけでは直感的にデータの特徴を理解することは簡単ではありません。  \n",
        "データを直感的に理解するにはデータの可視化が有効です。Python でのデータの可視化にはよく [Matplotlib](https://matplotlib.org/) というパッケージを用いることが多いです。Matplotlib を用いてのデータの可視化を行いましょう。    \n",
        "Matplotlib は `matplotlib.pyplot` を `plt` という別名をつけて読み込むのが一般的です。"
      ]
    },
    {
      "cell_type": "code",
      "metadata": {
        "id": "dehoAfTINPN-"
      },
      "source": [
        "import matplotlib.pyplot as plt"
      ],
      "execution_count": null,
      "outputs": []
    },
    {
      "cell_type": "markdown",
      "metadata": {
        "id": "encTBRXeF51v"
      },
      "source": [
        "### 散布図\n",
        "\n",
        "**散布図 (scatter)** は変数間の相関を視覚的に確認したり、データのばらつきや値の範囲を視覚的に確認するのに便利なものです。\n",
        "Matplotlib では与えられた配列から散布図を作成する `plt.scatter()` が用意されています。\n",
        "\n",
        "まずは、`median_income` 列のデータと `median_house_value` 列のデータをそれぞれ横軸、縦軸に取った散布図を描画してみましょう。"
      ]
    },
    {
      "cell_type": "code",
      "metadata": {
        "id": "GRhhh_G2FVGW"
      },
      "source": [
        "plt.scatter(df['median_income'], df['median_house_value'])"
      ],
      "execution_count": null,
      "outputs": []
    },
    {
      "cell_type": "markdown",
      "metadata": {
        "id": "KhQMxoRAM5qe"
      },
      "source": [
        "次に、`pupulation` 列の値と `median_house_value` 列の値をそれぞれ横軸と縦軸にとった散布図を描画します。"
      ]
    },
    {
      "cell_type": "code",
      "metadata": {
        "id": "ubHdt6jcOiKr"
      },
      "source": [
        "plt.scatter(df['population'], df['median_house_value'])"
      ],
      "execution_count": null,
      "outputs": []
    },
    {
      "cell_type": "markdown",
      "metadata": {
        "id": "ojtzCV-ZFVPv"
      },
      "source": [
        "### ヒストグラム\n",
        "\n",
        "データ中にどのような値がよく登場しているかという値ごとの頻度を確認するために使われるものに**ヒストグラム (histogram)** があります。\n",
        "\n",
        "試しに、`median_house_values` 列の値のヒストグラムを描画してみましょう。"
      ]
    },
    {
      "cell_type": "code",
      "metadata": {
        "id": "G0icbrhoFVQ9"
      },
      "source": [
        "plt.hist(df['median_house_value'])"
      ],
      "execution_count": null,
      "outputs": []
    },
    {
      "cell_type": "markdown",
      "metadata": {
        "id": "c7VwUwiqM5qj"
      },
      "source": [
        "上図の棒グラフ 1 つ 1 つの青い棒は、**ビン (bin)** と呼ばれ、それぞれの高さはある値の範囲に入っているサンプルの数を表します。\n",
        "ヒストグラムでは値の範囲を複数指定し、それぞれの範囲に入っているサンプルの個数を描画します。\n",
        "そのため、その値の範囲の指定を `bins` という引数を用いて行う必要があります。\n",
        "ただし、この引数はオプショナル（設定が必須ではない）なもので、何も与えなかった場合はビンの数が自動的に決定されます。\n",
        "この引数に整数を与えた場合は、`bins` 個のビンを値の範囲に対して等間隔に作成します。"
      ]
    },
    {
      "cell_type": "code",
      "metadata": {
        "id": "a9wEhPBrPnO1"
      },
      "source": [
        "# bins 引数に値を指定することで、ビンの数を指定できます\n",
        "plt.hist(df['median_house_value'], bins=50)"
      ],
      "execution_count": null,
      "outputs": []
    },
    {
      "cell_type": "markdown",
      "metadata": {
        "id": "wdyahvtpP-Lq"
      },
      "source": [
        "上図から、`median_house_value` が 500,000 付近の値をとるサンプルが突出して多く存在していることが分かります。"
      ]
    },
    {
      "cell_type": "markdown",
      "metadata": {
        "id": "o9SJUhlyFVS2"
      },
      "source": [
        "### 箱ひげ図\n",
        "\n",
        "**箱ひげ図 (box plot)** は、値のばらつきをわかりやすく表現するための図です。\n",
        "`df.describe()` で確認できるような、いくつかの統計値をまとめて可視化するものです。\n",
        "箱ひげ図は、**五数要約 （ five-number summary ）** と呼ばれる以下の統計量をまとめて表すものです。\n",
        "\n",
        "- 最小値 (minimum)\n",
        "- 第 1 四分位点 (lower quartile) : 全体の 1/4\n",
        "- 中央値 (median)\n",
        "- 第 3 四分位点 (upper quartile) : 全体の 3/4\n",
        "- 最大値 (maximum)\n",
        "\n",
        "また、黒の点はそのデータの外れ値を個々に表しています。`plt.boxplot()` の外れ値の定義に関してはこちらの[公式リファレンス](https://matplotlib.org/3.1.1/api/_as_gen/matplotlib.pyplot.boxplot.html)の `whis` パラメータを確認してください。  \n",
        "\n",
        "描画には、`plt.boxplot()` を用います。"
      ]
    },
    {
      "cell_type": "code",
      "metadata": {
        "id": "s-q3hYgXIyDu"
      },
      "source": [
        "plt.boxplot(df['median_house_value'])"
      ],
      "execution_count": null,
      "outputs": []
    },
    {
      "cell_type": "markdown",
      "metadata": {
        "id": "4DyNSIl_JQyQ"
      },
      "source": [
        "### 折れ線グラフ\n",
        "\n",
        "折れ線グラフは、時系列データなどを表示する際に便利なグラフです。`plt.plot()` を用いて描画します。  \n",
        "`plt.plot(y)` のように引数が 1 つの場合は、`y` の要素が縦軸の値に対応し、 横軸は要素のインデックスとなります。\n",
        "\n",
        "それでは、NumPy を用いて作成したデータを、`plt.plot()` で表示してみましょう。"
      ]
    },
    {
      "cell_type": "code",
      "metadata": {
        "id": "5sXIXrD9k_aG"
      },
      "source": [
        "import numpy as np\n",
        "\n",
        "# [0,10]の間を100分割して数値を返す\n",
        "x = np.linspace(0, 10, 100)\n",
        "\n",
        "# x の値にランダムノイズを加える\n",
        "y = x + np.random.randn(100)"
      ],
      "execution_count": null,
      "outputs": []
    },
    {
      "cell_type": "code",
      "metadata": {
        "id": "RDRAWxyNJQ5p"
      },
      "source": [
        "plt.plot(y)"
      ],
      "execution_count": null,
      "outputs": []
    },
    {
      "cell_type": "markdown",
      "metadata": {
        "id": "9mnZNcn_TwYN"
      },
      "source": [
        "`plt.plot(x, y)` のように引数を 2 つ与える場合は、`x` が横軸、`y` が縦軸に対応します。"
      ]
    },
    {
      "cell_type": "code",
      "metadata": {
        "id": "xEpVGwTaT7U2"
      },
      "source": [
        "plt.plot(x, y)"
      ],
      "execution_count": null,
      "outputs": []
    },
    {
      "cell_type": "markdown",
      "metadata": {
        "id": "lPD1BoD6M5qz"
      },
      "source": [
        "### 練習問題 本章のまとめ\n",
        "\n",
        "本章で学んだ内容を 4 章で学んだ $3σ$ 法を実装し復習しましょう。下記の内容を次のセルに記述し、実行結果を確認してください。（必要に応じてセルの追加を行ってください。）  \n",
        "最終的に $3σ$ 法を用いて外れ値の除去を行い、データの分布が変わっていることが確認できていればうまく実装できています。  \n",
        "\n",
        "\n",
        "$3σ$ 法を用いての外れ値除去のイメージは下記の図でした。  \n",
        "![3σ 法](http://drive.google.com/uc?export=view&id=12DzXwIOUJ7j3pfHw0PBERc9sMJY-SB-s)\n",
        "\n",
        "数式で確認すると下記になります。\n",
        "\n",
        "- $\\mu$ : 平均\n",
        "- $\\sigma$ : 標準偏差\n",
        "\n",
        "$$\n",
        "\\mu-3\\sigma \\leq x \\leq  \\mu + 3\\sigma\n",
        "$$\n",
        "\n",
        "- `sample_data/california_housing_train.csv` のファイルから再度 CSV ファイルの読み込み `df3` という変数に格納し、先頭 5 行を確認\n",
        "- `median_income` の列を切り出し、`t` という変数に格納\n",
        "- `t` の値をヒストグラムを用いて可視化（引数の `bins` を 50 に設定）\n",
        "- `t` の平均を変数 `mu` に格納\n",
        "- `t` の標準偏差を変数 `sigma` に格納\n",
        "- 上記の数式に基づいて $3σ$ 法を用いて、外れ値除去を行った値を変数 `t2` に格納\n",
        "- `t2` の値をヒストグラムを用いて可視化（引数の `bins` を 50 に設定）\n",
        "\n",
        "\n",
        "*ヒント*  \n",
        "\n",
        "$3σ$ 法を用いての外れ値除去は `mu + 3 * simga` より小さくかつ、`mu - 3 * simga` より大きい `t` の値を抽出します。"
      ]
    },
    {
      "cell_type": "code",
      "metadata": {
        "id": "xyagrGXAM5qz"
      },
      "source": [
        "# CSV ファイルの読み込み\n"
      ],
      "execution_count": null,
      "outputs": []
    },
    {
      "cell_type": "code",
      "metadata": {
        "id": "NP6VnIKCM5q0"
      },
      "source": [
        "# データの確認\n"
      ],
      "execution_count": null,
      "outputs": []
    },
    {
      "cell_type": "code",
      "metadata": {
        "id": "YZ202uKHM5q2"
      },
      "source": [
        "# median_income の切り出し → t\n"
      ],
      "execution_count": null,
      "outputs": []
    },
    {
      "cell_type": "code",
      "metadata": {
        "id": "y6SSXOQWM5q3"
      },
      "source": [
        "# t をヒストグラムで可視化\n"
      ],
      "execution_count": null,
      "outputs": []
    },
    {
      "cell_type": "code",
      "metadata": {
        "id": "cZAC970-M5q4"
      },
      "source": [
        "# 平均の算出 → mu\n"
      ],
      "execution_count": null,
      "outputs": []
    },
    {
      "cell_type": "code",
      "metadata": {
        "id": "dRBuVtsDM5q5"
      },
      "source": [
        "# 標準偏差の算出 → sigma \n"
      ],
      "execution_count": null,
      "outputs": []
    },
    {
      "cell_type": "code",
      "metadata": {
        "id": "3A1B1ckkM5q6"
      },
      "source": [
        "# 3σ 法を用いての外れ値除去 → t2\n"
      ],
      "execution_count": null,
      "outputs": []
    },
    {
      "cell_type": "code",
      "metadata": {
        "id": "oYkBLTWoM5q9"
      },
      "source": [
        "# t2 をヒストグラムで可視化\n"
      ],
      "execution_count": null,
      "outputs": []
    },
    {
      "cell_type": "markdown",
      "metadata": {
        "id": "PEy4hnYDM5q-"
      },
      "source": [
        "<img src=\"http://drive.google.com/uc?export=view&id=1g2xjXbw5qYeqdJqcOf3uASvzBQxhlE8u\" width=30%>"
      ]
    }
  ]
}